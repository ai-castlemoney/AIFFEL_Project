{
 "cells": [
  {
   "cell_type": "markdown",
   "id": "db47738f",
   "metadata": {},
   "source": [
    "# [E-02] Classfifcation_breast_cancer  "
   ]
  },
  {
   "cell_type": "markdown",
   "id": "9cc90087",
   "metadata": {},
   "source": [
    "# 미니 프로젝트 (3) load_breast_cancer : 유방암을 분류해 보자\n",
    "\n",
    "## 첫 시도\n",
    "\n",
    "cloud 환경이 아닌 local(m1 맥북) 환경에서 테이스 한 결과임을 참고 바란다.\n",
    "\n",
    "sklearn breast_cancer dataset을 활용하여 분류해 보자.\n"
   ]
  },
  {
   "cell_type": "markdown",
   "id": "e5c4cb1d",
   "metadata": {},
   "source": [
    "### 1. 모듈 import"
   ]
  },
  {
   "cell_type": "code",
   "execution_count": 1,
   "id": "dac962eb",
   "metadata": {},
   "outputs": [],
   "source": [
    "from sklearn.datasets import load_breast_cancer\n",
    "from sklearn.model_selection import train_test_split\n",
    "from sklearn.metrics import classification_report"
   ]
  },
  {
   "cell_type": "markdown",
   "id": "d1434ff9",
   "metadata": {},
   "source": [
    "### 2. 데이터 준비  \n",
    "\n",
    "- load_breast_cancer 메서드를 사용합니다.\n",
    "- br_cancer_data에 Feature data 지정\n",
    "- br_cancer_label에 Label(target) data 지정\n"
   ]
  },
  {
   "cell_type": "code",
   "execution_count": 2,
   "id": "bbca2682",
   "metadata": {},
   "outputs": [
    {
     "name": "stdout",
     "output_type": "stream",
     "text": [
      "(569, 30) \n",
      "\n",
      "(569,) \n",
      "\n"
     ]
    },
    {
     "data": {
      "text/plain": [
       "array([0, 0, 0, 0, 0, 0, 0, 0, 0, 0, 0, 0, 0, 0, 0, 0, 0, 0, 0, 1, 1, 1,\n",
       "       0, 0, 0, 0, 0, 0, 0, 0, 0, 0, 0, 0, 0, 0, 0, 1, 0, 0, 0, 0, 0, 0,\n",
       "       0, 0, 1, 0, 1, 1, 1, 1, 1, 0, 0, 1, 0, 0, 1, 1, 1, 1, 0, 1, 0, 0,\n",
       "       1, 1, 1, 1, 0, 1, 0, 0, 1, 0, 1, 0, 0, 1, 1, 1, 0, 0, 1, 0, 0, 0,\n",
       "       1, 1, 1, 0, 1, 1, 0, 0, 1, 1, 1, 0, 0, 1, 1, 1, 1, 0, 1, 1, 0, 1,\n",
       "       1, 1, 1, 1, 1, 1, 1, 0, 0, 0, 1, 0, 0, 1, 1, 1, 0, 0, 1, 0, 1, 0,\n",
       "       0, 1, 0, 0, 1, 1, 0, 1, 1, 0, 1, 1, 1, 1, 0, 1, 1, 1, 1, 1, 1, 1,\n",
       "       1, 1, 0, 1, 1, 1, 1, 0, 0, 1, 0, 1, 1, 0, 0, 1, 1, 0, 0, 1, 1, 1,\n",
       "       1, 0, 1, 1, 0, 0, 0, 1, 0, 1, 0, 1, 1, 1, 0, 1, 1, 0, 0, 1, 0, 0,\n",
       "       0, 0, 1, 0, 0, 0, 1, 0, 1, 0, 1, 1, 0, 1, 0, 0, 0, 0, 1, 1, 0, 0,\n",
       "       1, 1, 1, 0, 1, 1, 1, 1, 1, 0, 0, 1, 1, 0, 1, 1, 0, 0, 1, 0, 1, 1,\n",
       "       1, 1, 0, 1, 1, 1, 1, 1, 0, 1, 0, 0, 0, 0, 0, 0, 0, 0, 0, 0, 0, 0,\n",
       "       0, 0, 1, 1, 1, 1, 1, 1, 0, 1, 0, 1, 1, 0, 1, 1, 0, 1, 0, 0, 1, 1,\n",
       "       1, 1, 1, 1, 1, 1, 1, 1, 1, 1, 1, 0, 1, 1, 0, 1, 0, 1, 1, 1, 1, 1,\n",
       "       1, 1, 1, 1, 1, 1, 1, 1, 1, 0, 1, 1, 1, 0, 1, 0, 1, 1, 1, 1, 0, 0,\n",
       "       0, 1, 1, 1, 1, 0, 1, 0, 1, 0, 1, 1, 1, 0, 1, 1, 1, 1, 1, 1, 1, 0,\n",
       "       0, 0, 1, 1, 1, 1, 1, 1, 1, 1, 1, 1, 1, 0, 0, 1, 0, 0, 0, 1, 0, 0,\n",
       "       1, 1, 1, 1, 1, 0, 1, 1, 1, 1, 1, 0, 1, 1, 1, 0, 1, 1, 0, 0, 1, 1,\n",
       "       1, 1, 1, 1, 0, 1, 1, 1, 1, 1, 1, 1, 0, 1, 1, 1, 1, 1, 0, 1, 1, 0,\n",
       "       1, 1, 1, 1, 1, 1, 1, 1, 1, 1, 1, 1, 0, 1, 0, 0, 1, 0, 1, 1, 1, 1,\n",
       "       1, 0, 1, 1, 0, 1, 0, 1, 1, 0, 1, 0, 1, 1, 1, 1, 1, 1, 1, 1, 0, 0,\n",
       "       1, 1, 1, 1, 1, 1, 0, 1, 1, 1, 1, 1, 1, 1, 1, 1, 1, 0, 1, 1, 1, 1,\n",
       "       1, 1, 1, 0, 1, 0, 1, 1, 0, 1, 1, 1, 1, 1, 0, 0, 1, 0, 1, 0, 1, 1,\n",
       "       1, 1, 1, 0, 1, 1, 0, 1, 0, 1, 0, 0, 1, 1, 1, 0, 1, 1, 1, 1, 1, 1,\n",
       "       1, 1, 1, 1, 1, 0, 1, 0, 0, 1, 1, 1, 1, 1, 1, 1, 1, 1, 1, 1, 1, 1,\n",
       "       1, 1, 1, 1, 1, 1, 1, 1, 1, 1, 1, 1, 0, 0, 0, 0, 0, 0, 1])"
      ]
     },
     "execution_count": 2,
     "metadata": {},
     "output_type": "execute_result"
    }
   ],
   "source": [
    "br_cancer = load_breast_cancer()\n",
    "br_cancer_data = br_cancer.data\n",
    "print(br_cancer_data.shape, '\\n')\n",
    "\n",
    "br_cancer_label = br_cancer.target\n",
    "print(br_cancer_label.shape, '\\n')\n",
    "# print(br_cancer_label[:20],'\\n')\n",
    "br_cancer.target"
   ]
  },
  {
   "cell_type": "markdown",
   "id": "38ec2a68",
   "metadata": {},
   "source": [
    "- br_cancer_data에 569개의 데이터가 각각 30개의 정보를 담고 있다.\n",
    "- br_cancer_label에도 569개의 데이터가 있음을 확인\n",
    "- br_cancer.target에서 `0, 1` 2개의 class가 있음을 확인\n"
   ]
  },
  {
   "cell_type": "markdown",
   "id": "d6871296",
   "metadata": {},
   "source": [
    "### 3. 데이터 이해하기\n",
    "\n",
    "다루어야 할 데이터를 자세히 살펴보자.\n",
    "\n",
    "- Target Names 출력해 보기\n",
    "- 데이터 Describe 해 보기\n"
   ]
  },
  {
   "cell_type": "code",
   "execution_count": 3,
   "id": "7fcf16f1",
   "metadata": {},
   "outputs": [
    {
     "name": "stdout",
     "output_type": "stream",
     "text": [
      "['malignant' 'benign']\n"
     ]
    }
   ],
   "source": [
    "print(br_cancer.target_names)"
   ]
  },
  {
   "cell_type": "markdown",
   "id": "2dee9983",
   "metadata": {},
   "source": [
    "- breast_cancer 데이터 셋의 Target Names을 확인\n",
    "- 2개의 class(악성, 양성)로 분류됨을 확인"
   ]
  },
  {
   "cell_type": "code",
   "execution_count": 4,
   "id": "17735569",
   "metadata": {},
   "outputs": [
    {
     "name": "stdout",
     "output_type": "stream",
     "text": [
      ".. _breast_cancer_dataset:\n",
      "\n",
      "Breast cancer wisconsin (diagnostic) dataset\n",
      "--------------------------------------------\n",
      "\n",
      "**Data Set Characteristics:**\n",
      "\n",
      "    :Number of Instances: 569\n",
      "\n",
      "    :Number of Attributes: 30 numeric, predictive attributes and the class\n",
      "\n",
      "    :Attribute Information:\n",
      "        - radius (mean of distances from center to points on the perimeter)\n",
      "        - texture (standard deviation of gray-scale values)\n",
      "        - perimeter\n",
      "        - area\n",
      "        - smoothness (local variation in radius lengths)\n",
      "        - compactness (perimeter^2 / area - 1.0)\n",
      "        - concavity (severity of concave portions of the contour)\n",
      "        - concave points (number of concave portions of the contour)\n",
      "        - symmetry\n",
      "        - fractal dimension (\"coastline approximation\" - 1)\n",
      "\n",
      "        The mean, standard error, and \"worst\" or largest (mean of the three\n",
      "        worst/largest values) of these features were computed for each image,\n",
      "        resulting in 30 features.  For instance, field 0 is Mean Radius, field\n",
      "        10 is Radius SE, field 20 is Worst Radius.\n",
      "\n",
      "        - class:\n",
      "                - WDBC-Malignant\n",
      "                - WDBC-Benign\n",
      "\n",
      "    :Summary Statistics:\n",
      "\n",
      "    ===================================== ====== ======\n",
      "                                           Min    Max\n",
      "    ===================================== ====== ======\n",
      "    radius (mean):                        6.981  28.11\n",
      "    texture (mean):                       9.71   39.28\n",
      "    perimeter (mean):                     43.79  188.5\n",
      "    area (mean):                          143.5  2501.0\n",
      "    smoothness (mean):                    0.053  0.163\n",
      "    compactness (mean):                   0.019  0.345\n",
      "    concavity (mean):                     0.0    0.427\n",
      "    concave points (mean):                0.0    0.201\n",
      "    symmetry (mean):                      0.106  0.304\n",
      "    fractal dimension (mean):             0.05   0.097\n",
      "    radius (standard error):              0.112  2.873\n",
      "    texture (standard error):             0.36   4.885\n",
      "    perimeter (standard error):           0.757  21.98\n",
      "    area (standard error):                6.802  542.2\n",
      "    smoothness (standard error):          0.002  0.031\n",
      "    compactness (standard error):         0.002  0.135\n",
      "    concavity (standard error):           0.0    0.396\n",
      "    concave points (standard error):      0.0    0.053\n",
      "    symmetry (standard error):            0.008  0.079\n",
      "    fractal dimension (standard error):   0.001  0.03\n",
      "    radius (worst):                       7.93   36.04\n",
      "    texture (worst):                      12.02  49.54\n",
      "    perimeter (worst):                    50.41  251.2\n",
      "    area (worst):                         185.2  4254.0\n",
      "    smoothness (worst):                   0.071  0.223\n",
      "    compactness (worst):                  0.027  1.058\n",
      "    concavity (worst):                    0.0    1.252\n",
      "    concave points (worst):               0.0    0.291\n",
      "    symmetry (worst):                     0.156  0.664\n",
      "    fractal dimension (worst):            0.055  0.208\n",
      "    ===================================== ====== ======\n",
      "\n",
      "    :Missing Attribute Values: None\n",
      "\n",
      "    :Class Distribution: 212 - Malignant, 357 - Benign\n",
      "\n",
      "    :Creator:  Dr. William H. Wolberg, W. Nick Street, Olvi L. Mangasarian\n",
      "\n",
      "    :Donor: Nick Street\n",
      "\n",
      "    :Date: November, 1995\n",
      "\n",
      "This is a copy of UCI ML Breast Cancer Wisconsin (Diagnostic) datasets.\n",
      "https://goo.gl/U2Uwz2\n",
      "\n",
      "Features are computed from a digitized image of a fine needle\n",
      "aspirate (FNA) of a breast mass.  They describe\n",
      "characteristics of the cell nuclei present in the image.\n",
      "\n",
      "Separating plane described above was obtained using\n",
      "Multisurface Method-Tree (MSM-T) [K. P. Bennett, \"Decision Tree\n",
      "Construction Via Linear Programming.\" Proceedings of the 4th\n",
      "Midwest Artificial Intelligence and Cognitive Science Society,\n",
      "pp. 97-101, 1992], a classification method which uses linear\n",
      "programming to construct a decision tree.  Relevant features\n",
      "were selected using an exhaustive search in the space of 1-4\n",
      "features and 1-3 separating planes.\n",
      "\n",
      "The actual linear program used to obtain the separating plane\n",
      "in the 3-dimensional space is that described in:\n",
      "[K. P. Bennett and O. L. Mangasarian: \"Robust Linear\n",
      "Programming Discrimination of Two Linearly Inseparable Sets\",\n",
      "Optimization Methods and Software 1, 1992, 23-34].\n",
      "\n",
      "This database is also available through the UW CS ftp server:\n",
      "\n",
      "ftp ftp.cs.wisc.edu\n",
      "cd math-prog/cpo-dataset/machine-learn/WDBC/\n",
      "\n",
      ".. topic:: References\n",
      "\n",
      "   - W.N. Street, W.H. Wolberg and O.L. Mangasarian. Nuclear feature extraction \n",
      "     for breast tumor diagnosis. IS&T/SPIE 1993 International Symposium on \n",
      "     Electronic Imaging: Science and Technology, volume 1905, pages 861-870,\n",
      "     San Jose, CA, 1993.\n",
      "   - O.L. Mangasarian, W.N. Street and W.H. Wolberg. Breast cancer diagnosis and \n",
      "     prognosis via linear programming. Operations Research, 43(4), pages 570-577, \n",
      "     July-August 1995.\n",
      "   - W.H. Wolberg, W.N. Street, and O.L. Mangasarian. Machine learning techniques\n",
      "     to diagnose breast cancer from fine-needle aspirates. Cancer Letters 77 (1994) \n",
      "     163-171.\n"
     ]
    }
   ],
   "source": [
    "print(br_cancer.DESCR)"
   ]
  },
  {
   "cell_type": "markdown",
   "id": "6d14b8f4",
   "metadata": {},
   "source": [
    "- breast_cancer 데이터셋의 설명을 통해서도 기본적인 정보확인 가능\n",
    "- 개의 class : 0(212개), 1(357개) 확인"
   ]
  },
  {
   "cell_type": "markdown",
   "id": "3408b9b5",
   "metadata": {},
   "source": [
    "### 4. 데이터 분리"
   ]
  },
  {
   "cell_type": "code",
   "execution_count": 5,
   "id": "c8120bdb",
   "metadata": {},
   "outputs": [
    {
     "name": "stdout",
     "output_type": "stream",
     "text": [
      "X_train 개수:  455 , X_test 개수:  114 \n",
      "\n",
      "(455, 30) (455,)\n",
      "(114, 30) (114,)\n"
     ]
    }
   ],
   "source": [
    "X_train, X_test, y_train, y_test = train_test_split(br_cancer_data,\n",
    "                                                   br_cancer_label,\n",
    "                                                   test_size=0.2,\n",
    "                                                   random_state=15)\n",
    "\n",
    "print('X_train 개수: ', len(X_train),', X_test 개수: ', len(X_test), '\\n')\n",
    "print(X_train.shape, y_train.shape)\n",
    "print(X_test.shape, y_test.shape)"
   ]
  },
  {
   "cell_type": "markdown",
   "id": "e3af0280",
   "metadata": {},
   "source": [
    "- br_cancer 데이터 셋을 학습용 데이터와 테스트용 데이터로 분리\n",
    "- test 데이터 셋의 크기는 전체 데이터셋의 20% 적용하여\n",
    "- 학습용 데이터 455개, 테스트용 데이터 114개로 분리\n",
    "- 데이터 분리할 때 랜덤으로 섞기 위해 random_state=15 적용"
   ]
  },
  {
   "cell_type": "markdown",
   "id": "a8ec3d17",
   "metadata": {},
   "source": [
    "### 5. 다양한 모델로 학습시키기\n",
    "\n",
    "1. Decision Tree 사용해 보기\n",
    "2. Random Forest 사용해 보기\n",
    "3. SVM 사용해 보기\n",
    "4. SGD Classifier 사용해 보기\n",
    "5. Logistic Regression 사용해 보기"
   ]
  },
  {
   "cell_type": "code",
   "execution_count": 6,
   "id": "0397ae67",
   "metadata": {},
   "outputs": [],
   "source": [
    "# 각 모델 import\n",
    "from sklearn.tree import DecisionTreeClassifier\n",
    "from sklearn.ensemble import RandomForestClassifier\n",
    "from sklearn import svm\n",
    "from sklearn.linear_model import SGDClassifier\n",
    "from sklearn.linear_model import LogisticRegression\n",
    "\n",
    "# 모델별 변수에 저장\n",
    "decision_tree = DecisionTreeClassifier(random_state=15)\n",
    "random_forest = RandomForestClassifier(random_state=15)\n",
    "svm_model = svm.SVC()\n",
    "sgd_model = SGDClassifier()\n",
    "lr_model = LogisticRegression(max_iter=4000)  # digits작업시 warning message 해결방법 적용"
   ]
  },
  {
   "cell_type": "markdown",
   "id": "bb156540",
   "metadata": {},
   "source": [
    "### 5.1 Decision Tree"
   ]
  },
  {
   "cell_type": "code",
   "execution_count": 7,
   "id": "9928ac41",
   "metadata": {},
   "outputs": [
    {
     "name": "stdout",
     "output_type": "stream",
     "text": [
      "              precision    recall  f1-score   support\n",
      "\n",
      "           0       0.97      0.87      0.92        39\n",
      "           1       0.94      0.99      0.96        75\n",
      "\n",
      "    accuracy                           0.95       114\n",
      "   macro avg       0.95      0.93      0.94       114\n",
      "weighted avg       0.95      0.95      0.95       114\n",
      "\n"
     ]
    }
   ],
   "source": [
    "decision_tree.fit(X_train, y_train)\n",
    "y_pred_decision_tree = decision_tree.predict(X_test)\n",
    "\n",
    "print(classification_report(y_test, y_pred_decision_tree))"
   ]
  },
  {
   "cell_type": "markdown",
   "id": "7c336180",
   "metadata": {},
   "source": [
    "### Decision Tree를 이용한 결과\n",
    "\n",
    "- accuracy : 95%\n"
   ]
  },
  {
   "cell_type": "markdown",
   "id": "168171d7",
   "metadata": {},
   "source": [
    "### 5.2 Random Forest"
   ]
  },
  {
   "cell_type": "code",
   "execution_count": 8,
   "id": "a826d18d",
   "metadata": {},
   "outputs": [
    {
     "name": "stdout",
     "output_type": "stream",
     "text": [
      "              precision    recall  f1-score   support\n",
      "\n",
      "           0       0.94      0.85      0.89        39\n",
      "           1       0.92      0.97      0.95        75\n",
      "\n",
      "    accuracy                           0.93       114\n",
      "   macro avg       0.93      0.91      0.92       114\n",
      "weighted avg       0.93      0.93      0.93       114\n",
      "\n"
     ]
    }
   ],
   "source": [
    "random_forest.fit(X_train, y_train)\n",
    "y_pred_random_forest = random_forest.predict(X_test)\n",
    "\n",
    "print(classification_report(y_test, y_pred_random_forest))"
   ]
  },
  {
   "cell_type": "markdown",
   "id": "202f941b",
   "metadata": {},
   "source": [
    "### Random Forest를 이용한 결과\n",
    "\n",
    "- accuracy : 93%\n"
   ]
  },
  {
   "cell_type": "markdown",
   "id": "e151077e",
   "metadata": {},
   "source": [
    "### 5.3 SVM"
   ]
  },
  {
   "cell_type": "code",
   "execution_count": 9,
   "id": "22d66da7",
   "metadata": {},
   "outputs": [
    {
     "name": "stdout",
     "output_type": "stream",
     "text": [
      "              precision    recall  f1-score   support\n",
      "\n",
      "           0       0.93      0.67      0.78        39\n",
      "           1       0.85      0.97      0.91        75\n",
      "\n",
      "    accuracy                           0.87       114\n",
      "   macro avg       0.89      0.82      0.84       114\n",
      "weighted avg       0.88      0.87      0.86       114\n",
      "\n"
     ]
    }
   ],
   "source": [
    "svm_model.fit(X_train, y_train)\n",
    "y_pred_svm_model = svm_model.predict(X_test)\n",
    "\n",
    "print(classification_report(y_test, y_pred_svm_model))"
   ]
  },
  {
   "cell_type": "markdown",
   "id": "3e2b2e78",
   "metadata": {},
   "source": [
    "# SVM을 이용한 결과\n",
    "\n",
    "- accuracy : 87%\n"
   ]
  },
  {
   "cell_type": "markdown",
   "id": "0abe2c18",
   "metadata": {},
   "source": [
    "### 5.4 SGD Classifier"
   ]
  },
  {
   "cell_type": "code",
   "execution_count": 10,
   "id": "22626bc0",
   "metadata": {},
   "outputs": [
    {
     "name": "stdout",
     "output_type": "stream",
     "text": [
      "              precision    recall  f1-score   support\n",
      "\n",
      "           0       0.88      0.74      0.81        39\n",
      "           1       0.88      0.95      0.91        75\n",
      "\n",
      "    accuracy                           0.88       114\n",
      "   macro avg       0.88      0.85      0.86       114\n",
      "weighted avg       0.88      0.88      0.87       114\n",
      "\n"
     ]
    }
   ],
   "source": [
    "sgd_model.fit(X_train, y_train)\n",
    "y_pred_sgd_model = sgd_model.predict(X_test)\n",
    "\n",
    "print(classification_report(y_test, y_pred_sgd_model))"
   ]
  },
  {
   "cell_type": "markdown",
   "id": "389e4f64",
   "metadata": {},
   "source": [
    "### SGD Classifier를 이용한 결과\n",
    "\n",
    "- accuracy : 85%\n"
   ]
  },
  {
   "cell_type": "markdown",
   "id": "5f7a2104",
   "metadata": {},
   "source": [
    "### 5.5 Logistic Regression"
   ]
  },
  {
   "cell_type": "code",
   "execution_count": 11,
   "id": "3f1d7447",
   "metadata": {},
   "outputs": [
    {
     "name": "stdout",
     "output_type": "stream",
     "text": [
      "              precision    recall  f1-score   support\n",
      "\n",
      "           0       0.89      0.82      0.85        39\n",
      "           1       0.91      0.95      0.93        75\n",
      "\n",
      "    accuracy                           0.90       114\n",
      "   macro avg       0.90      0.88      0.89       114\n",
      "weighted avg       0.90      0.90      0.90       114\n",
      "\n"
     ]
    }
   ],
   "source": [
    "lr_model.fit(X_train, y_train)\n",
    "y_pred_lr_model = lr_model.predict(X_test)\n",
    "\n",
    "print(classification_report(y_test, y_pred_lr_model))"
   ]
  },
  {
   "cell_type": "markdown",
   "id": "5fda3381",
   "metadata": {},
   "source": [
    "### Logistic Regression을 이용한 결과\n",
    "\n",
    "- accuracy : 90%"
   ]
  },
  {
   "cell_type": "markdown",
   "id": "e2f87289",
   "metadata": {},
   "source": [
    "### 결론"
   ]
  },
  {
   "cell_type": "markdown",
   "id": "c600c2c4",
   "metadata": {},
   "source": [
    "- #### accuracy  \n",
    "\n",
    "\n",
    "    - Decision Tree : 95%\n",
    "    - Random Forest : 93%\n",
    "    - SVM : 87%\n",
    "    - SGD Classifier : 85%\n",
    "    - Logistic Regression : 90% "
   ]
  },
  {
   "cell_type": "markdown",
   "id": "5f4118d6",
   "metadata": {},
   "source": [
    "- 모델의 성능을 평가하는 척도로 위와 같은 유방암의 경우에는 단순하게 **정확도(accuracy)**를 이용하는 것은 적합하지 않은 방법으로 판단된다.`암이 아닌데 암으로 판단하는 것`은 재검사를 통해서 밝힐 수도 있고 `실제 병이 있는 것이 아니기에` 생명에 지장이 있는 것은 아니지만, `암인데 암이 아닌것으로 판단하는 것은 생존의 문제와 직결되는 크나큰 문제`이므로 **confusion matrix의 recall(재현율)**을 선택하는 것이 적합한 것으로 판단된다.\n",
    "- #### 각 모델 `0`(악성종양)의 recall(재현율) 현황\n",
    "\n",
    "\n",
    "    - Decision Tree : 87%\n",
    "    - Random Forest : 85%\n",
    "    - SVM : 67%\n",
    "    - SGD Classifier : 90%\n",
    "    - Logistic Regression : 82%  \n",
    "\n",
    "\n",
    "- SGD Classifier 모델의 Recall(재현율)이 90% 로 가장 높게 나왔다. 그러므로 **SGD Classifier**를 이용하여 유방암 여부를 예측하는 것이 가장 적합한 모델로 판단된다."
   ]
  },
  {
   "cell_type": "code",
   "execution_count": null,
   "id": "16cd0451",
   "metadata": {},
   "outputs": [],
   "source": []
  }
 ],
 "metadata": {
  "kernelspec": {
   "display_name": "Python 3 (ipykernel)",
   "language": "python",
   "name": "python3"
  },
  "language_info": {
   "codemirror_mode": {
    "name": "ipython",
    "version": 3
   },
   "file_extension": ".py",
   "mimetype": "text/x-python",
   "name": "python",
   "nbconvert_exporter": "python",
   "pygments_lexer": "ipython3",
   "version": "3.9.9"
  }
 },
 "nbformat": 4,
 "nbformat_minor": 5
}
