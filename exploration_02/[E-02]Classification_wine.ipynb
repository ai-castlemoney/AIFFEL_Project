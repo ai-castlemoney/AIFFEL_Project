{
 "cells": [
  {
   "cell_type": "markdown",
   "id": "db47738f",
   "metadata": {},
   "source": [
    "# [E-02] Classfifcation_wine  "
   ]
  },
  {
   "cell_type": "markdown",
   "id": "9cc90087",
   "metadata": {},
   "source": [
    "# 미니 프로젝트 (2) load_wine : 와인을 분류해 보자\n",
    "\n",
    "## 첫 시도\n",
    "\n",
    "cloud 환경이 아닌 local(m1 맥북) 환경에서 테이스 한 결과임을 참고 바란다.\n",
    "\n",
    "sklearn wine dataset을 활용하여 분류해 보자.\n"
   ]
  },
  {
   "cell_type": "markdown",
   "id": "e5c4cb1d",
   "metadata": {},
   "source": [
    "### 1. 모듈 import"
   ]
  },
  {
   "cell_type": "code",
   "execution_count": 1,
   "id": "dac962eb",
   "metadata": {},
   "outputs": [],
   "source": [
    "from sklearn.datasets import load_wine\n",
    "from sklearn.model_selection import train_test_split\n",
    "from sklearn.metrics import classification_report"
   ]
  },
  {
   "cell_type": "markdown",
   "id": "d1434ff9",
   "metadata": {},
   "source": [
    "### 2. 데이터 준비  \n",
    "\n",
    "- load_wine 메서드를 사용합니다.\n",
    "- wines_data에 Feature data 지정\n",
    "- wines_label에 Label(target) data 지정\n"
   ]
  },
  {
   "cell_type": "code",
   "execution_count": 2,
   "id": "bbca2682",
   "metadata": {},
   "outputs": [
    {
     "name": "stdout",
     "output_type": "stream",
     "text": [
      "(178, 13) \n",
      "\n",
      "(178,) \n",
      "\n"
     ]
    },
    {
     "data": {
      "text/plain": [
       "array([0, 0, 0, 0, 0, 0, 0, 0, 0, 0, 0, 0, 0, 0, 0, 0, 0, 0, 0, 0, 0, 0,\n",
       "       0, 0, 0, 0, 0, 0, 0, 0, 0, 0, 0, 0, 0, 0, 0, 0, 0, 0, 0, 0, 0, 0,\n",
       "       0, 0, 0, 0, 0, 0, 0, 0, 0, 0, 0, 0, 0, 0, 0, 1, 1, 1, 1, 1, 1, 1,\n",
       "       1, 1, 1, 1, 1, 1, 1, 1, 1, 1, 1, 1, 1, 1, 1, 1, 1, 1, 1, 1, 1, 1,\n",
       "       1, 1, 1, 1, 1, 1, 1, 1, 1, 1, 1, 1, 1, 1, 1, 1, 1, 1, 1, 1, 1, 1,\n",
       "       1, 1, 1, 1, 1, 1, 1, 1, 1, 1, 1, 1, 1, 1, 1, 1, 1, 1, 1, 1, 2, 2,\n",
       "       2, 2, 2, 2, 2, 2, 2, 2, 2, 2, 2, 2, 2, 2, 2, 2, 2, 2, 2, 2, 2, 2,\n",
       "       2, 2, 2, 2, 2, 2, 2, 2, 2, 2, 2, 2, 2, 2, 2, 2, 2, 2, 2, 2, 2, 2,\n",
       "       2, 2])"
      ]
     },
     "execution_count": 2,
     "metadata": {},
     "output_type": "execute_result"
    }
   ],
   "source": [
    "wines = load_wine()\n",
    "wines_data = wines.data\n",
    "print(wines_data.shape, '\\n')\n",
    "\n",
    "wines_label = wines.target\n",
    "print(wines_label.shape, '\\n')\n",
    "# print(wines_label[:20],'\\n')\n",
    "wines.target"
   ]
  },
  {
   "cell_type": "markdown",
   "id": "38ec2a68",
   "metadata": {},
   "source": [
    "- wines_data에 178개의 데이터가 각각 13개의 정보를 담고 있다.\n",
    "- wines_label에도 178개의 데이터가 있음을 확인\n",
    "- wines.target에서 `0, 1, 2` 3개의 class가 있음을 확인\n",
    "\n"
   ]
  },
  {
   "cell_type": "markdown",
   "id": "d6871296",
   "metadata": {},
   "source": [
    "### 3. 데이터 이해하기\n",
    "\n",
    "다루어야 할 데이터를 자세히 살펴보자.\n",
    "\n",
    "- Target Names 출력해 보기\n",
    "- 데이터 Describe 해 보기\n"
   ]
  },
  {
   "cell_type": "code",
   "execution_count": 3,
   "id": "7fcf16f1",
   "metadata": {},
   "outputs": [
    {
     "name": "stdout",
     "output_type": "stream",
     "text": [
      "['class_0' 'class_1' 'class_2']\n"
     ]
    }
   ],
   "source": [
    "print(wines.target_names)"
   ]
  },
  {
   "cell_type": "markdown",
   "id": "2dee9983",
   "metadata": {},
   "source": [
    "- wines 데이터 셋의 Target Names을 확인\n",
    "- 3개의 class로 분류됨을 확인"
   ]
  },
  {
   "cell_type": "code",
   "execution_count": 4,
   "id": "17735569",
   "metadata": {},
   "outputs": [
    {
     "name": "stdout",
     "output_type": "stream",
     "text": [
      ".. _wine_dataset:\n",
      "\n",
      "Wine recognition dataset\n",
      "------------------------\n",
      "\n",
      "**Data Set Characteristics:**\n",
      "\n",
      "    :Number of Instances: 178 (50 in each of three classes)\n",
      "    :Number of Attributes: 13 numeric, predictive attributes and the class\n",
      "    :Attribute Information:\n",
      " \t\t- Alcohol\n",
      " \t\t- Malic acid\n",
      " \t\t- Ash\n",
      "\t\t- Alcalinity of ash  \n",
      " \t\t- Magnesium\n",
      "\t\t- Total phenols\n",
      " \t\t- Flavanoids\n",
      " \t\t- Nonflavanoid phenols\n",
      " \t\t- Proanthocyanins\n",
      "\t\t- Color intensity\n",
      " \t\t- Hue\n",
      " \t\t- OD280/OD315 of diluted wines\n",
      " \t\t- Proline\n",
      "\n",
      "    - class:\n",
      "            - class_0\n",
      "            - class_1\n",
      "            - class_2\n",
      "\t\t\n",
      "    :Summary Statistics:\n",
      "    \n",
      "    ============================= ==== ===== ======= =====\n",
      "                                   Min   Max   Mean     SD\n",
      "    ============================= ==== ===== ======= =====\n",
      "    Alcohol:                      11.0  14.8    13.0   0.8\n",
      "    Malic Acid:                   0.74  5.80    2.34  1.12\n",
      "    Ash:                          1.36  3.23    2.36  0.27\n",
      "    Alcalinity of Ash:            10.6  30.0    19.5   3.3\n",
      "    Magnesium:                    70.0 162.0    99.7  14.3\n",
      "    Total Phenols:                0.98  3.88    2.29  0.63\n",
      "    Flavanoids:                   0.34  5.08    2.03  1.00\n",
      "    Nonflavanoid Phenols:         0.13  0.66    0.36  0.12\n",
      "    Proanthocyanins:              0.41  3.58    1.59  0.57\n",
      "    Colour Intensity:              1.3  13.0     5.1   2.3\n",
      "    Hue:                          0.48  1.71    0.96  0.23\n",
      "    OD280/OD315 of diluted wines: 1.27  4.00    2.61  0.71\n",
      "    Proline:                       278  1680     746   315\n",
      "    ============================= ==== ===== ======= =====\n",
      "\n",
      "    :Missing Attribute Values: None\n",
      "    :Class Distribution: class_0 (59), class_1 (71), class_2 (48)\n",
      "    :Creator: R.A. Fisher\n",
      "    :Donor: Michael Marshall (MARSHALL%PLU@io.arc.nasa.gov)\n",
      "    :Date: July, 1988\n",
      "\n",
      "This is a copy of UCI ML Wine recognition datasets.\n",
      "https://archive.ics.uci.edu/ml/machine-learning-databases/wine/wine.data\n",
      "\n",
      "The data is the results of a chemical analysis of wines grown in the same\n",
      "region in Italy by three different cultivators. There are thirteen different\n",
      "measurements taken for different constituents found in the three types of\n",
      "wine.\n",
      "\n",
      "Original Owners: \n",
      "\n",
      "Forina, M. et al, PARVUS - \n",
      "An Extendible Package for Data Exploration, Classification and Correlation. \n",
      "Institute of Pharmaceutical and Food Analysis and Technologies,\n",
      "Via Brigata Salerno, 16147 Genoa, Italy.\n",
      "\n",
      "Citation:\n",
      "\n",
      "Lichman, M. (2013). UCI Machine Learning Repository\n",
      "[https://archive.ics.uci.edu/ml]. Irvine, CA: University of California,\n",
      "School of Information and Computer Science. \n",
      "\n",
      ".. topic:: References\n",
      "\n",
      "  (1) S. Aeberhard, D. Coomans and O. de Vel, \n",
      "  Comparison of Classifiers in High Dimensional Settings, \n",
      "  Tech. Rep. no. 92-02, (1992), Dept. of Computer Science and Dept. of  \n",
      "  Mathematics and Statistics, James Cook University of North Queensland. \n",
      "  (Also submitted to Technometrics). \n",
      "\n",
      "  The data was used with many others for comparing various \n",
      "  classifiers. The classes are separable, though only RDA \n",
      "  has achieved 100% correct classification. \n",
      "  (RDA : 100%, QDA 99.4%, LDA 98.9%, 1NN 96.1% (z-transformed data)) \n",
      "  (All results using the leave-one-out technique) \n",
      "\n",
      "  (2) S. Aeberhard, D. Coomans and O. de Vel, \n",
      "  \"THE CLASSIFICATION PERFORMANCE OF RDA\" \n",
      "  Tech. Rep. no. 92-01, (1992), Dept. of Computer Science and Dept. of \n",
      "  Mathematics and Statistics, James Cook University of North Queensland. \n",
      "  (Also submitted to Journal of Chemometrics).\n",
      "\n"
     ]
    }
   ],
   "source": [
    "print(wines.DESCR)"
   ]
  },
  {
   "cell_type": "markdown",
   "id": "6d14b8f4",
   "metadata": {},
   "source": [
    "- wines 데이터셋의 설명을 통해서도 기본적인 정보확인 가능\n",
    "- `3개의 class : 0(59개), 1(71개), 2(48개) 확인`"
   ]
  },
  {
   "cell_type": "markdown",
   "id": "3408b9b5",
   "metadata": {},
   "source": [
    "### 4. 데이터 분리"
   ]
  },
  {
   "cell_type": "code",
   "execution_count": 5,
   "id": "c8120bdb",
   "metadata": {},
   "outputs": [
    {
     "name": "stdout",
     "output_type": "stream",
     "text": [
      "X_train 개수:  142 , X_test 개수:  36 \n",
      "\n",
      "(142, 13) (142,)\n",
      "(36, 13) (36,)\n"
     ]
    }
   ],
   "source": [
    "X_train, X_test, y_train, y_test = train_test_split(wines_data,\n",
    "                                                   wines_label,\n",
    "                                                   test_size=0.2,\n",
    "                                                   random_state=15)\n",
    "\n",
    "print('X_train 개수: ', len(X_train),', X_test 개수: ', len(X_test), '\\n')\n",
    "print(X_train.shape, y_train.shape)\n",
    "print(X_test.shape, y_test.shape)"
   ]
  },
  {
   "cell_type": "markdown",
   "id": "e3af0280",
   "metadata": {},
   "source": [
    "- wines 데이터 셋을 학습용 데이터와 테스트용 데이터로 분리\n",
    "- test 데이터 셋의 크기는 전체 데이터셋의 20% 적용하여\n",
    "- 학습용 데이터 142개, 테스트용 데이터 36개로 분리\n",
    "- 데이터 분리할 때 랜덤으로 섞기 위해 random_state=15 적용"
   ]
  },
  {
   "cell_type": "markdown",
   "id": "a8ec3d17",
   "metadata": {},
   "source": [
    "### 5. 다양한 모델로 학습시키기\n",
    "\n",
    "1. Decision Tree 사용해 보기\n",
    "2. Random Forest 사용해 보기\n",
    "3. SVM 사용해 보기\n",
    "4. SGD Classifier 사용해 보기\n",
    "5. Logistic Regression 사용해 보기"
   ]
  },
  {
   "cell_type": "code",
   "execution_count": 6,
   "id": "0397ae67",
   "metadata": {},
   "outputs": [],
   "source": [
    "# 각 모델 import\n",
    "from sklearn.tree import DecisionTreeClassifier\n",
    "from sklearn.ensemble import RandomForestClassifier\n",
    "from sklearn import svm\n",
    "from sklearn.linear_model import SGDClassifier\n",
    "from sklearn.linear_model import LogisticRegression\n",
    "\n",
    "# 모델별 변수에 저장\n",
    "decision_tree = DecisionTreeClassifier(random_state=15)\n",
    "random_forest = RandomForestClassifier(random_state=15)\n",
    "svm_model = svm.SVC()\n",
    "sgd_model = SGDClassifier()\n",
    "lr_model = LogisticRegression(max_iter=4000)  # digits작업시 warning message 해결방법 적용"
   ]
  },
  {
   "cell_type": "markdown",
   "id": "bb156540",
   "metadata": {},
   "source": [
    "### 5.1 Decision Tree"
   ]
  },
  {
   "cell_type": "code",
   "execution_count": 7,
   "id": "9928ac41",
   "metadata": {},
   "outputs": [
    {
     "name": "stdout",
     "output_type": "stream",
     "text": [
      "              precision    recall  f1-score   support\n",
      "\n",
      "           0       0.92      1.00      0.96        12\n",
      "           1       0.91      0.83      0.87        12\n",
      "           2       0.92      0.92      0.92        12\n",
      "\n",
      "    accuracy                           0.92        36\n",
      "   macro avg       0.92      0.92      0.92        36\n",
      "weighted avg       0.92      0.92      0.92        36\n",
      "\n"
     ]
    }
   ],
   "source": [
    "decision_tree.fit(X_train, y_train)\n",
    "y_pred_decision_tree = decision_tree.predict(X_test)\n",
    "\n",
    "print(classification_report(y_test, y_pred_decision_tree))"
   ]
  },
  {
   "cell_type": "markdown",
   "id": "7c336180",
   "metadata": {},
   "source": [
    "### Decision Tree를 이용한 결과\n",
    "\n",
    "- accuracy : 92%\n"
   ]
  },
  {
   "cell_type": "markdown",
   "id": "168171d7",
   "metadata": {},
   "source": [
    "### 5.2 Random Forest"
   ]
  },
  {
   "cell_type": "code",
   "execution_count": 8,
   "id": "a826d18d",
   "metadata": {},
   "outputs": [
    {
     "name": "stdout",
     "output_type": "stream",
     "text": [
      "              precision    recall  f1-score   support\n",
      "\n",
      "           0       1.00      1.00      1.00        12\n",
      "           1       1.00      1.00      1.00        12\n",
      "           2       1.00      1.00      1.00        12\n",
      "\n",
      "    accuracy                           1.00        36\n",
      "   macro avg       1.00      1.00      1.00        36\n",
      "weighted avg       1.00      1.00      1.00        36\n",
      "\n"
     ]
    }
   ],
   "source": [
    "random_forest.fit(X_train, y_train)\n",
    "y_pred_random_forest = random_forest.predict(X_test)\n",
    "\n",
    "print(classification_report(y_test, y_pred_random_forest))"
   ]
  },
  {
   "cell_type": "markdown",
   "id": "202f941b",
   "metadata": {},
   "source": [
    "### Random Forest를 이용한 결과\n",
    "\n",
    "- accuracy : 100%\n"
   ]
  },
  {
   "cell_type": "markdown",
   "id": "e151077e",
   "metadata": {},
   "source": [
    "### 5.3 SVM"
   ]
  },
  {
   "cell_type": "code",
   "execution_count": 9,
   "id": "22d66da7",
   "metadata": {},
   "outputs": [
    {
     "name": "stdout",
     "output_type": "stream",
     "text": [
      "              precision    recall  f1-score   support\n",
      "\n",
      "           0       0.79      0.92      0.85        12\n",
      "           1       0.50      0.92      0.65        12\n",
      "           2       0.00      0.00      0.00        12\n",
      "\n",
      "    accuracy                           0.61        36\n",
      "   macro avg       0.43      0.61      0.50        36\n",
      "weighted avg       0.43      0.61      0.50        36\n",
      "\n"
     ]
    },
    {
     "name": "stderr",
     "output_type": "stream",
     "text": [
      "/opt/homebrew/Caskroom/miniforge/base/envs/aiffel/lib/python3.9/site-packages/sklearn/metrics/_classification.py:1318: UndefinedMetricWarning: Precision and F-score are ill-defined and being set to 0.0 in labels with no predicted samples. Use `zero_division` parameter to control this behavior.\n",
      "  _warn_prf(average, modifier, msg_start, len(result))\n",
      "/opt/homebrew/Caskroom/miniforge/base/envs/aiffel/lib/python3.9/site-packages/sklearn/metrics/_classification.py:1318: UndefinedMetricWarning: Precision and F-score are ill-defined and being set to 0.0 in labels with no predicted samples. Use `zero_division` parameter to control this behavior.\n",
      "  _warn_prf(average, modifier, msg_start, len(result))\n",
      "/opt/homebrew/Caskroom/miniforge/base/envs/aiffel/lib/python3.9/site-packages/sklearn/metrics/_classification.py:1318: UndefinedMetricWarning: Precision and F-score are ill-defined and being set to 0.0 in labels with no predicted samples. Use `zero_division` parameter to control this behavior.\n",
      "  _warn_prf(average, modifier, msg_start, len(result))\n"
     ]
    }
   ],
   "source": [
    "svm_model.fit(X_train, y_train)\n",
    "y_pred_svm_model = svm_model.predict(X_test)\n",
    "\n",
    "print(classification_report(y_test, y_pred_svm_model))"
   ]
  },
  {
   "cell_type": "markdown",
   "id": "3e2b2e78",
   "metadata": {},
   "source": [
    "# SVM을 이용한 결과\n",
    "\n",
    "- accuracy : 61%\n"
   ]
  },
  {
   "cell_type": "markdown",
   "id": "0abe2c18",
   "metadata": {},
   "source": [
    "### 5.4 SGD Classifier"
   ]
  },
  {
   "cell_type": "code",
   "execution_count": 10,
   "id": "22626bc0",
   "metadata": {},
   "outputs": [
    {
     "name": "stdout",
     "output_type": "stream",
     "text": [
      "              precision    recall  f1-score   support\n",
      "\n",
      "           0       0.65      0.92      0.76        12\n",
      "           1       1.00      0.25      0.40        12\n",
      "           2       0.50      0.67      0.57        12\n",
      "\n",
      "    accuracy                           0.61        36\n",
      "   macro avg       0.72      0.61      0.58        36\n",
      "weighted avg       0.72      0.61      0.58        36\n",
      "\n"
     ]
    }
   ],
   "source": [
    "sgd_model.fit(X_train, y_train)\n",
    "y_pred_sgd_model = sgd_model.predict(X_test)\n",
    "\n",
    "print(classification_report(y_test, y_pred_sgd_model))"
   ]
  },
  {
   "cell_type": "markdown",
   "id": "389e4f64",
   "metadata": {},
   "source": [
    "### SGD Classifier를 이용한 결과\n",
    "\n",
    "- accuracy : 50%\n"
   ]
  },
  {
   "cell_type": "markdown",
   "id": "5f7a2104",
   "metadata": {},
   "source": [
    "### 5.5 Logistic Regression"
   ]
  },
  {
   "cell_type": "code",
   "execution_count": 11,
   "id": "3f1d7447",
   "metadata": {},
   "outputs": [
    {
     "name": "stdout",
     "output_type": "stream",
     "text": [
      "              precision    recall  f1-score   support\n",
      "\n",
      "           0       1.00      0.92      0.96        12\n",
      "           1       0.86      1.00      0.92        12\n",
      "           2       1.00      0.92      0.96        12\n",
      "\n",
      "    accuracy                           0.94        36\n",
      "   macro avg       0.95      0.94      0.95        36\n",
      "weighted avg       0.95      0.94      0.95        36\n",
      "\n"
     ]
    }
   ],
   "source": [
    "lr_model.fit(X_train, y_train)\n",
    "y_pred_lr_model = lr_model.predict(X_test)\n",
    "\n",
    "print(classification_report(y_test, y_pred_lr_model))"
   ]
  },
  {
   "cell_type": "markdown",
   "id": "5fda3381",
   "metadata": {},
   "source": [
    "### Logistic Regression을 이용한 결과\n",
    "\n",
    "- accuracy : 94%"
   ]
  },
  {
   "cell_type": "markdown",
   "id": "e2f87289",
   "metadata": {},
   "source": [
    "### 결론"
   ]
  },
  {
   "cell_type": "markdown",
   "id": "c600c2c4",
   "metadata": {},
   "source": [
    "- #### accuracy\n",
    "\n",
    "    - Decision Tree : 92%\n",
    "    - Random Forest : 100%\n",
    "    - SVM : 61%\n",
    "    - SGD Classifier : 50%\n",
    "    - Logistic Regression : 94% "
   ]
  },
  {
   "cell_type": "markdown",
   "id": "5f4118d6",
   "metadata": {},
   "source": [
    "- 모델의 성능을 평가하는 척도는 와인의 종류가 무엇인지 정확히 예측하는 것이기에 **정확도(accuracy)**를 이용하는 것이 적합한 것으로 생각된다.\n",
    "- SVM과 SGD Classifier에서는 나머지 모델들에 비해 현저히 낮은 accuracy를 보여줌\n",
    "    `(warning message와 연관성이 있어보임)`\n",
    "\n",
    "    - 이것은 class 2에 대한 f1-score가 표현되지 못하면서 낮아진 것으로 판단된다.\n",
    "    - 이유는 class 2에 대해 f1-score가 없기때문에 0.0으로 간주되어서 그렇다고 한다.\n",
    "      구글링을 통한 결과는 이와 같았다.\n",
    "    - 왜 이런지는 project 제출 시간에 임박하여 추후 알아보도록 하려고 한다.\n",
    "\n",
    "\n",
    "- SVM과 SGD Classifier를 제외한 나머지 3개의 모델을 이용하는 것이 와인 분류에 적합하다고 판단\n",
    "- 특히, Random Forest의 경우 **100%**라는 믿기 어려운 accuracy를 보여줌\n",
    "- 따라서 해당 프로젝트에서는 **Random Forest**을 사용하는 것이 가장 적합하다고 판단\n",
    "\n",
    "**추가생각**  \n",
    "**`Random Forest는 선형 모델에 비해 많은 메모리를 사용하며 훈련과 예측이 느리다.`**  \n",
    "**`속도와 메모리 사용에 제약이 있는 어플리케이션이라면 선형모델이 적합할 수 있겠다.`**"
   ]
  },
  {
   "cell_type": "code",
   "execution_count": null,
   "id": "7fcdf7a6",
   "metadata": {},
   "outputs": [],
   "source": []
  }
 ],
 "metadata": {
  "interpreter": {
   "hash": "2286c004a77339d5923ded5ef4337ef223d552fecaa523e4a6a296589e2803e8"
  },
  "kernelspec": {
   "display_name": "Python 3 (ipykernel)",
   "language": "python",
   "name": "python3"
  },
  "language_info": {
   "codemirror_mode": {
    "name": "ipython",
    "version": 3
   },
   "file_extension": ".py",
   "mimetype": "text/x-python",
   "name": "python",
   "nbconvert_exporter": "python",
   "pygments_lexer": "ipython3",
   "version": "3.9.9"
  }
 },
 "nbformat": 4,
 "nbformat_minor": 5
}
