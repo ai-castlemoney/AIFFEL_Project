{
 "cells": [
  {
   "cell_type": "markdown",
   "id": "ceedf981",
   "metadata": {},
   "source": [
    "# 멋진 작사가 만들기\n"
   ]
  },
  {
   "cell_type": "markdown",
   "id": "f29da359",
   "metadata": {},
   "source": [
    "## 1. 첫시도\n",
    "\n",
    "- BATCH_SIZE = 256 -> 128 로 적용\n",
    "- 모델의 Embedding Size : 256 -> 512 로 변경, Hidden Size : 1024(변경없음) 적용"
   ]
  },
  {
   "cell_type": "markdown",
   "id": "a37603ca",
   "metadata": {},
   "source": [
    "## 라이브러리 import"
   ]
  },
  {
   "cell_type": "code",
   "execution_count": 1,
   "id": "1e821d87",
   "metadata": {},
   "outputs": [],
   "source": [
    "import re \n",
    "import numpy as np\n",
    "import tensorflow as tf"
   ]
  },
  {
   "cell_type": "markdown",
   "id": "4899ec88",
   "metadata": {},
   "source": [
    "## 데이터 읽어오기\n",
    "___\n",
    "\n",
    "- **`glob` 모듈을 사용하여 파일을 읽어오기**\n",
    "- **모든 `txt` 파일을 읽어온 후, `raw_corpus` 리스트에 문장 단위로 저장!**\n",
    "\n"
   ]
  },
  {
   "cell_type": "code",
   "execution_count": 2,
   "id": "894597ca",
   "metadata": {},
   "outputs": [
    {
     "name": "stdout",
     "output_type": "stream",
     "text": [
      "데이터 크기: 187088\n",
      "Examples:\n",
      " [\"Now I've heard there was a secret chord\", 'That David played, and it pleased the Lord', \"But you don't really care for music, do you?\", 'It goes like this', 'The fourth, the fifth']\n"
     ]
    }
   ],
   "source": [
    "import glob\n",
    "import os\n",
    "\n",
    "txt_file_path = os.getenv('HOME')+'/aiffel/lyricist/data/lyrics/*'\n",
    "\n",
    "txt_list = glob.glob(txt_file_path)\n",
    "\n",
    "raw_corpus = []\n",
    "\n",
    "# 여러개의 txt 파일을 모두 읽어서 raw_corpus 에 담는다.\n",
    "for txt_file in txt_list:\n",
    "    with open(txt_file, \"r\") as f:\n",
    "        raw = f.read().splitlines()\n",
    "        raw_corpus.extend(raw)\n",
    "\n",
    "print(\"데이터 크기:\", len(raw_corpus))\n",
    "print(\"Examples:\\n\", raw_corpus[:5])\n"
   ]
  },
  {
   "cell_type": "markdown",
   "id": "35a69626",
   "metadata": {},
   "source": [
    "## 데이터 정제\n",
    "___\n",
    "\n",
    "- **`preprocess_sentence()` 함수를 사용하여 데이터 정제.**\n",
    "- **지나치게 긴 문장은 다른 데이터들이 과도한 Padding을 갖게 하므로 제거.**"
   ]
  },
  {
   "cell_type": "code",
   "execution_count": 3,
   "id": "cc4bee1a",
   "metadata": {},
   "outputs": [
    {
     "name": "stdout",
     "output_type": "stream",
     "text": [
      "<start> this is sample sentence . <end>\n"
     ]
    }
   ],
   "source": [
    "# 입력된 문장을\n",
    "#     1. 소문자로 바꾸고, 양쪽 공백을 지움\n",
    "#     2. 특수문자 양쪽에 공백 삽입\n",
    "#     3. 여러개의 공백은 하나의 공백으로 바꿈\n",
    "#     4. a-zA-Z?.!,¿가 아닌 모든 문자를 하나의 공백으로 바꿈\n",
    "#     5. 다시 양쪽 공백을 지움\n",
    "#     6. 문장 시작에는 <start>, 끝에는 <end>를 추가\n",
    "\n",
    "def preprocess_sentence(sentence):\n",
    "    sentence = sentence.lower().strip() # 1\n",
    "    sentence = re.sub(r\"([?.!,¿])\", r\" \\1 \", sentence) # 2\n",
    "    sentence = re.sub(r'[\" \"]+', \" \", sentence) # 3\n",
    "    sentence = re.sub(r\"[^a-zA-Z?.!,¿]+\", \" \", sentence) # 4\n",
    "    sentence = sentence.strip() # 5\n",
    "    sentence = '<start> ' + sentence + ' <end>' # 6\n",
    "    return sentence\n",
    "\n",
    "# 이 문장이 어떻게 필터링되는지 확인해 보자.\n",
    "print(preprocess_sentence(\"This @_is ;;;sample        sentence.\"))"
   ]
  },
  {
   "cell_type": "markdown",
   "id": "45bfa4b4",
   "metadata": {},
   "source": [
    "- **공백인 문장은 길이를 검사하여 길이가 0이라면 제외**\n",
    "- **토큰화 했을 때 토큰의 개수가 15개를 넘어가는 문장을 학습 데이터에서 제외**"
   ]
  },
  {
   "cell_type": "code",
   "execution_count": 4,
   "id": "94662bf2",
   "metadata": {},
   "outputs": [
    {
     "data": {
      "text/plain": [
       "['<start> now i ve heard there was a secret chord <end>',\n",
       " '<start> that david played , and it pleased the lord <end>',\n",
       " '<start> but you don t really care for music , do you ? <end>',\n",
       " '<start> it goes like this <end>',\n",
       " '<start> the fourth , the fifth <end>',\n",
       " '<start> the minor fall , the major lift <end>',\n",
       " '<start> the baffled king composing hallelujah hallelujah <end>',\n",
       " '<start> hallelujah <end>',\n",
       " '<start> hallelujah <end>',\n",
       " '<start> hallelujah your faith was strong but you needed proof <end>']"
      ]
     },
     "execution_count": 4,
     "metadata": {},
     "output_type": "execute_result"
    }
   ],
   "source": [
    "# 여기에 정제된 문장을 모음\n",
    "corpus = []\n",
    "\n",
    "for sentence in raw_corpus:\n",
    "    # 원하지 않는 문장은 건너뜀\n",
    "    if len(sentence) == 0: continue\n",
    "    \n",
    "    # 정제를 하고 담아주세요\n",
    "    preprocessed_sentence = preprocess_sentence(sentence)\n",
    "    \n",
    "    # split()메소드로 단어 15개 이상 건너뜀\n",
    "    if len(preprocessed_sentence.split()) > 15: continue\n",
    "        \n",
    "    corpus.append(preprocessed_sentence)\n",
    "        \n",
    "# 정제된 결과 10개 확인\n",
    "corpus[:10]"
   ]
  },
  {
   "cell_type": "code",
   "execution_count": 5,
   "id": "7a408462",
   "metadata": {},
   "outputs": [
    {
     "name": "stdout",
     "output_type": "stream",
     "text": [
      "[[   2   50    4 ...    0    0    0]\n",
      " [   2   15 2971 ...    0    0    0]\n",
      " [   2   33    7 ...   46    3    0]\n",
      " ...\n",
      " [   2    4  117 ...    0    0    0]\n",
      " [   2  258  195 ...   12    3    0]\n",
      " [   2    7   34 ...    0    0    0]] <keras_preprocessing.text.Tokenizer object at 0x7f0fb5f5dd30>\n"
     ]
    }
   ],
   "source": [
    "# 토큰화 할 때 텐서플로우의 Tokenizer, pad_sequences 사용\n",
    "\n",
    "def tokenize(corpus):\n",
    "    # 12000단어를 기억할 수 있는 tokenizer를 만듦\n",
    "    # 이미 문장을 정제했으니 filters가 필요없음\n",
    "    # 12000단어에 포함되지 못한 단어는 '<unk>'로 바꿈\n",
    "    tokenizer = tf.keras.preprocessing.text.Tokenizer(\n",
    "        num_words=12000, \n",
    "        filters=' ',\n",
    "        oov_token=\"<unk>\"\n",
    "    )\n",
    "    # corpus를 이용해 tokenizer 내부의 단어장 완성\n",
    "    tokenizer.fit_on_texts(corpus)\n",
    "    # 준비한 tokenizer를 이용해 corpus를 Tensor로 변환\n",
    "    tensor = tokenizer.texts_to_sequences(corpus)   \n",
    "    # 입력 데이터의 시퀀스 길이를 일정하게 맞춤\n",
    "    # 만약 시퀀스가 짧다면 문장 뒤에 패딩을 붙여 길이를 맞춤\n",
    "    # 문장 앞에 패딩을 붙여 길이를 맞추고 싶다면 padding='pre'를 사용\n",
    "    tensor = tf.keras.preprocessing.sequence.pad_sequences(tensor, padding='post')  \n",
    "    \n",
    "    print(tensor,tokenizer)\n",
    "    return tensor, tokenizer\n",
    "\n",
    "tensor, tokenizer = tokenize(corpus)"
   ]
  },
  {
   "cell_type": "markdown",
   "id": "a8322e26",
   "metadata": {},
   "source": [
    "- **생성된 텐서 데이터를 65번째부터 10행까지만 출력해 확인해 본다.**"
   ]
  },
  {
   "cell_type": "code",
   "execution_count": 6,
   "id": "8583b574",
   "metadata": {},
   "outputs": [
    {
     "name": "stdout",
     "output_type": "stream",
     "text": [
      "[[   2  175  317  175  317   15    6 1566   26 7678    3    0    0    0\n",
      "     0]\n",
      " [   2  175  317   15    6 2425 1710    3    0    0    0    0    0    0\n",
      "     0]\n",
      " [   2  175   37   41  494  337    3    0    0    0    0    0    0    0\n",
      "     0]\n",
      " [   2   23  223  632  107  223  536   32  731    3    0    0    0    0\n",
      "     0]\n",
      " [   2  175  431   10  223 1336    3    0    0    0    0    0    0    0\n",
      "     0]\n",
      " [   2  175  607    9  900   20 6829    3    0    0    0    0    0    0\n",
      "     0]\n",
      " [   2    8    9  168 5381 1165    3    0    0    0    0    0    0    0\n",
      "     0]\n",
      " [   2  175  317  175  317   15    7   36   12   52    3    0    0    0\n",
      "     0]\n",
      " [   2  175  317   15    7  164   48    3    0    0    0    0    0    0\n",
      "     0]\n",
      " [   2  175  317   15    7   95  105 3173    3    0    0    0    0    0\n",
      "     0]]\n"
     ]
    }
   ],
   "source": [
    "print(tensor[64:74, :])"
   ]
  },
  {
   "cell_type": "markdown",
   "id": "749fe489",
   "metadata": {},
   "source": [
    "- **단어 사전이 어떻게 구축되었는지 아래와 같이 확인**"
   ]
  },
  {
   "cell_type": "code",
   "execution_count": 7,
   "id": "31f1aa39",
   "metadata": {},
   "outputs": [
    {
     "name": "stdout",
     "output_type": "stream",
     "text": [
      "1 : <unk>\n",
      "2 : <start>\n",
      "3 : <end>\n",
      "4 : i\n",
      "5 : ,\n",
      "6 : the\n",
      "7 : you\n",
      "8 : and\n",
      "9 : a\n",
      "10 : to\n"
     ]
    }
   ],
   "source": [
    "for idx in tokenizer.index_word:\n",
    "    print(idx, \":\", tokenizer.index_word[idx])\n",
    "\n",
    "    if idx >= 10: break"
   ]
  },
  {
   "cell_type": "markdown",
   "id": "a17abc0c",
   "metadata": {},
   "source": [
    "## 평가 데이터셋 분리\n",
    "___\n",
    "\n",
    "### ***훈련 데이터와 평가 데이터를 분리!***\n",
    "\n",
    "- `tokenize()` 함수로 데이터를 Tensor로 변환한 후, \n",
    "- `sklearn` 모듈의 `train_test_split()` 함수를 사용해 훈련 데이터와 평가 데이터를 분리.\n",
    "- **단어장의 크기는 12,000**!\n",
    "- **총 데이터의 20%** 를 평가 데이터셋으로 사용!"
   ]
  },
  {
   "cell_type": "code",
   "execution_count": 8,
   "id": "fd2062e1",
   "metadata": {},
   "outputs": [
    {
     "name": "stdout",
     "output_type": "stream",
     "text": [
      "[   2   50    4   95  303   62   53    9  946 6269    3    0    0    0]\n",
      "[  50    4   95  303   62   53    9  946 6269    3    0    0    0    0]\n"
     ]
    }
   ],
   "source": [
    "# tensor에서 마지막 토큰을 잘라내서 소스 문장을 생성\n",
    "src_input = tensor[:, :-1]  \n",
    "\n",
    "# tensor에서 <start>를 잘라내서 타겟 문장을 생성\n",
    "tgt_input = tensor[:, 1:]    \n",
    "\n",
    "print(src_input[0])\n",
    "print(tgt_input[0])"
   ]
  },
  {
   "cell_type": "code",
   "execution_count": 9,
   "id": "8b890633",
   "metadata": {},
   "outputs": [
    {
     "name": "stdout",
     "output_type": "stream",
     "text": [
      "Source Train: (124981, 14)\n",
      "Target Train: (124981, 14)\n",
      "Source Val: (31246, 14)\n",
      "Target Val: (31246, 14)\n"
     ]
    }
   ],
   "source": [
    "from sklearn.model_selection import train_test_split\n",
    "\n",
    "enc_train, enc_val, dec_train, dec_val = train_test_split(src_input, tgt_input, test_size = 0.2, random_state = 15) \n",
    "\n",
    "print(\"Source Train:\", enc_train.shape)\n",
    "print(\"Target Train:\", dec_train.shape)\n",
    "print(\"Source Val:\", enc_val.shape)\n",
    "print(\"Target Val:\", dec_val.shape)"
   ]
  },
  {
   "cell_type": "markdown",
   "id": "e18100d1",
   "metadata": {},
   "source": [
    "- **model.summary() 확인용**"
   ]
  },
  {
   "cell_type": "code",
   "execution_count": 10,
   "id": "88d14f37",
   "metadata": {},
   "outputs": [
    {
     "data": {
      "text/plain": [
       "<BatchDataset shapes: ((128, 14), (128, 14)), types: (tf.int32, tf.int32)>"
      ]
     },
     "execution_count": 10,
     "metadata": {},
     "output_type": "execute_result"
    }
   ],
   "source": [
    "BUFFER_SIZE = len(enc_train) #텐서의 1차원, 전체 문장의 개수\n",
    "BATCH_SIZE = 128        #문장의 개수\n",
    "steps_per_epoch = BUFFER_SIZE // BATCH_SIZE\n",
    "\n",
    "# tokenizer가 구축한 단어사전 내 12000개 + 0:<pad>를 포함\n",
    "VOCAB_SIZE = tokenizer.num_words + 1\n",
    "\n",
    "dataset = tf.data.Dataset.from_tensor_slices((enc_train, dec_train))\n",
    "# dataset = tf.data.Dataset.from_tensor_slices((enc_val_train, dec_val_train))\n",
    "dataset = dataset.shuffle(BUFFER_SIZE)\n",
    "dataset = dataset.batch(BATCH_SIZE, drop_remainder=True)\n",
    "dataset"
   ]
  },
  {
   "cell_type": "markdown",
   "id": "8c4fbc9c",
   "metadata": {},
   "source": [
    "## 인공지능 만들기\n",
    "___\n",
    "\n",
    "- **모델의 Embedding Size = 512로 조절하여 10 Epoch 안에 `val_loss` 값을 2.2 아하로 모델 설계!**\n"
   ]
  },
  {
   "cell_type": "code",
   "execution_count": 11,
   "id": "071b8c04",
   "metadata": {},
   "outputs": [],
   "source": [
    "class TextGenerator(tf.keras.Model):\n",
    "    def __init__(self, vocab_size, embedding_size, hidden_size):\n",
    "        super().__init__()\n",
    "        \n",
    "        self.embedding = tf.keras.layers.Embedding(vocab_size, embedding_size)\n",
    "        self.rnn_1 = tf.keras.layers.LSTM(hidden_size, return_sequences=True)\n",
    "        self.rnn_2 = tf.keras.layers.LSTM(hidden_size, return_sequences=True)\n",
    "        self.linear = tf.keras.layers.Dense(vocab_size)\n",
    "        \n",
    "    def call(self, x):\n",
    "        out = self.embedding(x)\n",
    "        out = self.rnn_1(out)\n",
    "        out = self.rnn_2(out)\n",
    "        out = self.linear(out)\n",
    "        \n",
    "        return out\n",
    "    \n",
    "embedding_size = 512  #단어 하나의 특징 수\n",
    "hidden_size = 1024    #퍼셉트론의 개수\n",
    "model = TextGenerator(tokenizer.num_words + 1, embedding_size , hidden_size)"
   ]
  },
  {
   "cell_type": "code",
   "execution_count": 12,
   "id": "2cc6a757",
   "metadata": {},
   "outputs": [
    {
     "data": {
      "text/plain": [
       "<tf.Tensor: shape=(128, 14, 12001), dtype=float32, numpy=\n",
       "array([[[ 2.2828850e-05,  5.1902159e-04,  2.9014645e-04, ...,\n",
       "         -3.1061580e-05,  1.2831355e-04, -1.6740520e-04],\n",
       "        [ 6.2272785e-04,  6.1133143e-04,  6.1405235e-04, ...,\n",
       "          1.1995664e-04,  3.9273695e-04, -1.6417052e-04],\n",
       "        [ 1.2268894e-03,  4.8101216e-04,  7.9033722e-04, ...,\n",
       "          2.7912183e-04,  5.9017254e-04, -2.8152767e-04],\n",
       "        ...,\n",
       "        [ 1.6767555e-03,  2.1154208e-04,  7.7606608e-05, ...,\n",
       "          1.2235155e-03,  9.0915768e-04, -3.7487381e-04],\n",
       "        [ 1.4596393e-03,  2.8394168e-04,  3.5734585e-04, ...,\n",
       "          8.2349981e-04,  6.2528660e-04, -6.4893637e-04],\n",
       "        [ 1.0099153e-03,  4.0639611e-04,  8.3577196e-04, ...,\n",
       "          4.4392890e-04,  1.6132230e-04, -9.7023067e-04]],\n",
       "\n",
       "       [[ 2.2828850e-05,  5.1902159e-04,  2.9014645e-04, ...,\n",
       "         -3.1061580e-05,  1.2831355e-04, -1.6740520e-04],\n",
       "        [ 2.1478291e-04,  1.1100408e-03,  2.8053846e-04, ...,\n",
       "         -2.4341368e-04,  2.9978700e-04, -2.4060051e-04],\n",
       "        [ 3.5176647e-04,  1.2377115e-03,  2.5408593e-04, ...,\n",
       "         -6.1759941e-04,  2.2777016e-04,  9.6919621e-06],\n",
       "        ...,\n",
       "        [ 9.7028317e-04, -3.3522572e-04,  9.0603746e-04, ...,\n",
       "         -2.0057629e-03, -1.3119855e-03,  4.2670555e-04],\n",
       "        [ 4.3614855e-04, -2.9167670e-04,  1.3447820e-03, ...,\n",
       "         -1.9556903e-03, -1.6904558e-03,  7.5705495e-05],\n",
       "        [-1.2821300e-04, -2.7120498e-04,  1.8109746e-03, ...,\n",
       "         -1.9069229e-03, -1.9954604e-03, -3.0311238e-04]],\n",
       "\n",
       "       [[ 2.2828850e-05,  5.1902159e-04,  2.9014645e-04, ...,\n",
       "         -3.1061580e-05,  1.2831355e-04, -1.6740520e-04],\n",
       "        [ 2.8269552e-04,  1.0326225e-03,  2.9198392e-04, ...,\n",
       "         -3.3871067e-04,  3.7592629e-04,  2.6739654e-04],\n",
       "        [ 3.1971410e-04,  1.2399539e-03,  1.4794113e-04, ...,\n",
       "         -1.8873035e-04,  5.3594558e-04,  6.8303628e-04],\n",
       "        ...,\n",
       "        [-3.6714051e-04,  1.1123151e-03,  2.5376892e-03, ...,\n",
       "         -1.0670139e-03, -2.6868631e-03, -1.2993782e-03],\n",
       "        [-9.3498465e-04,  9.9475076e-04,  2.9843803e-03, ...,\n",
       "         -1.1756655e-03, -2.8421700e-03, -1.6594683e-03],\n",
       "        [-1.4582401e-03,  8.3651155e-04,  3.3932549e-03, ...,\n",
       "         -1.2607994e-03, -2.8924248e-03, -1.9430727e-03]],\n",
       "\n",
       "       ...,\n",
       "\n",
       "       [[ 2.2828850e-05,  5.1902159e-04,  2.9014645e-04, ...,\n",
       "         -3.1061580e-05,  1.2831355e-04, -1.6740520e-04],\n",
       "        [ 3.0126987e-04,  5.1118206e-04,  2.5191435e-04, ...,\n",
       "          2.5255093e-04,  4.4453747e-04, -2.9783972e-04],\n",
       "        [ 6.8577629e-04,  1.6127503e-04,  1.9849076e-05, ...,\n",
       "          4.9637991e-04,  8.1791339e-04, -1.6082491e-04],\n",
       "        ...,\n",
       "        [-1.2518723e-03,  8.7675400e-04,  2.7044944e-03, ...,\n",
       "         -8.2731090e-04, -1.3822494e-03, -1.3886318e-03],\n",
       "        [-1.6894385e-03,  7.1070722e-04,  3.1681592e-03, ...,\n",
       "         -9.7028352e-04, -1.6200645e-03, -1.6526124e-03],\n",
       "        [-2.0863446e-03,  5.3236954e-04,  3.5833302e-03, ...,\n",
       "         -1.0804429e-03, -1.7701661e-03, -1.8692916e-03]],\n",
       "\n",
       "       [[ 2.2828850e-05,  5.1902159e-04,  2.9014645e-04, ...,\n",
       "         -3.1061580e-05,  1.2831355e-04, -1.6740520e-04],\n",
       "        [ 1.6954620e-04,  5.3940137e-04,  6.4411730e-04, ...,\n",
       "         -4.7307013e-04,  2.2258579e-04, -2.3618263e-04],\n",
       "        [ 3.7654373e-04,  7.8286591e-04,  9.9008495e-04, ...,\n",
       "         -5.5028265e-04,  2.3414065e-04, -6.0639298e-04],\n",
       "        ...,\n",
       "        [-1.8332244e-03,  6.4320001e-04,  3.4498544e-03, ...,\n",
       "         -1.6352156e-03, -1.6525635e-03, -2.5127465e-03],\n",
       "        [-2.2234537e-03,  4.7714802e-04,  3.7627697e-03, ...,\n",
       "         -1.6396017e-03, -1.8110266e-03, -2.6200800e-03],\n",
       "        [-2.5726701e-03,  3.0861163e-04,  4.0519172e-03, ...,\n",
       "         -1.6291015e-03, -1.9024269e-03, -2.6973877e-03]],\n",
       "\n",
       "       [[ 2.2828850e-05,  5.1902159e-04,  2.9014645e-04, ...,\n",
       "         -3.1061580e-05,  1.2831355e-04, -1.6740520e-04],\n",
       "        [ 2.4703550e-04,  9.3098416e-04,  6.5781578e-04, ...,\n",
       "         -2.1833141e-04,  2.3886302e-04,  2.2349413e-04],\n",
       "        [ 4.2533356e-04,  8.1512361e-04,  5.1806739e-04, ...,\n",
       "         -3.9882652e-04,  2.5929275e-04,  2.1702886e-04],\n",
       "        ...,\n",
       "        [-2.0468195e-03, -1.1144127e-04,  2.5906106e-03, ...,\n",
       "         -1.0671488e-03, -1.5536844e-03, -2.1065944e-03],\n",
       "        [-2.4665939e-03, -1.7604370e-04,  3.0409542e-03, ...,\n",
       "         -1.1162967e-03, -1.6679430e-03, -2.2466448e-03],\n",
       "        [-2.8279487e-03, -2.4196747e-04,  3.4566370e-03, ...,\n",
       "         -1.1520823e-03, -1.7257936e-03, -2.3577972e-03]]], dtype=float32)>"
      ]
     },
     "execution_count": 12,
     "metadata": {},
     "output_type": "execute_result"
    }
   ],
   "source": [
    "# 데이터셋에서 데이터 한 배치만 불러와서 임시 모델 생성 및 확인\n",
    "for src_sample, tgt_sample in dataset.take(1): break\n",
    "\n",
    "model(src_sample)"
   ]
  },
  {
   "cell_type": "code",
   "execution_count": 13,
   "id": "e62529de",
   "metadata": {},
   "outputs": [
    {
     "name": "stdout",
     "output_type": "stream",
     "text": [
      "Model: \"text_generator\"\n",
      "_________________________________________________________________\n",
      "Layer (type)                 Output Shape              Param #   \n",
      "=================================================================\n",
      "embedding (Embedding)        multiple                  6144512   \n",
      "_________________________________________________________________\n",
      "lstm (LSTM)                  multiple                  6295552   \n",
      "_________________________________________________________________\n",
      "lstm_1 (LSTM)                multiple                  8392704   \n",
      "_________________________________________________________________\n",
      "dense (Dense)                multiple                  12301025  \n",
      "=================================================================\n",
      "Total params: 33,133,793\n",
      "Trainable params: 33,133,793\n",
      "Non-trainable params: 0\n",
      "_________________________________________________________________\n"
     ]
    }
   ],
   "source": [
    "# 생성된 모델 살펴보기\n",
    "model.summary()"
   ]
  },
  {
   "cell_type": "code",
   "execution_count": 14,
   "id": "6eaf0122",
   "metadata": {
    "scrolled": false
   },
   "outputs": [
    {
     "name": "stdout",
     "output_type": "stream",
     "text": [
      "Epoch 1/10\n",
      "977/977 [==============================] - 111s 111ms/step - loss: 3.2813 - val_loss: 2.9966\n",
      "Epoch 2/10\n",
      "977/977 [==============================] - 109s 111ms/step - loss: 2.8501 - val_loss: 2.8055\n",
      "Epoch 3/10\n",
      "977/977 [==============================] - 109s 111ms/step - loss: 2.6552 - val_loss: 2.6882\n",
      "Epoch 4/10\n",
      "977/977 [==============================] - 109s 111ms/step - loss: 2.4920 - val_loss: 2.6026\n",
      "Epoch 5/10\n",
      "977/977 [==============================] - 109s 111ms/step - loss: 2.3440 - val_loss: 2.5375\n",
      "Epoch 6/10\n",
      "977/977 [==============================] - 109s 111ms/step - loss: 2.2074 - val_loss: 2.4890\n",
      "Epoch 7/10\n",
      "977/977 [==============================] - 109s 111ms/step - loss: 2.0805 - val_loss: 2.4510\n",
      "Epoch 8/10\n",
      "977/977 [==============================] - 109s 111ms/step - loss: 1.9626 - val_loss: 2.4221\n",
      "Epoch 9/10\n",
      "977/977 [==============================] - 109s 111ms/step - loss: 1.8529 - val_loss: 2.4050\n",
      "Epoch 10/10\n",
      "977/977 [==============================] - 109s 111ms/step - loss: 1.7500 - val_loss: 2.3896\n"
     ]
    }
   ],
   "source": [
    "# optimizer 와 loss function 지정\n",
    "\n",
    "optimizer = tf.keras.optimizers.Adam()\n",
    "loss = tf.keras.losses.SparseCategoricalCrossentropy(\n",
    "    from_logits=True,\n",
    "    reduction='none'\n",
    ")\n",
    "\n",
    "model.compile(loss=loss, optimizer=optimizer)\n",
    "history = model.fit(enc_train, dec_train, epochs=10, batch_size=128, validation_data = (enc_val, dec_val))\n",
    "\n"
   ]
  },
  {
   "cell_type": "code",
   "execution_count": 15,
   "id": "fc0aae2d",
   "metadata": {},
   "outputs": [],
   "source": [
    "def generate_text(model, tokenizer, init_sentence=\"<start>\", max_len=20):\n",
    "    # 테스트를 위해서 입력받은 init_sentence도 텐서로 변환\n",
    "    test_input = tokenizer.texts_to_sequences([init_sentence])\n",
    "    test_tensor = tf.convert_to_tensor(test_input, dtype=tf.int64)\n",
    "    end_token = tokenizer.word_index[\"<end>\"]\n",
    "\n",
    "    while True:\n",
    "        # 1\n",
    "        predict = model(test_tensor) \n",
    "        # 2\n",
    "        predict_word = tf.argmax(tf.nn.softmax(predict, axis=-1), axis=-1)[:, -1] \n",
    "        # 3 \n",
    "        test_tensor = tf.concat([test_tensor, tf.expand_dims(predict_word, axis=0)], axis=-1)\n",
    "        # 4\n",
    "        if predict_word.numpy()[0] == end_token: break\n",
    "        if test_tensor.shape[1] >= max_len: break\n",
    "\n",
    "    generated = \"\"\n",
    "    # tokenizer를 이용해 word index를 단어로 하나씩 변환 \n",
    "    for word_index in test_tensor[0].numpy():\n",
    "        generated += tokenizer.index_word[word_index] + \" \"\n",
    "\n",
    "    return generated"
   ]
  },
  {
   "cell_type": "code",
   "execution_count": 16,
   "id": "44c31002",
   "metadata": {
    "scrolled": true
   },
   "outputs": [
    {
     "data": {
      "text/plain": [
       "'<start> am i scary for you <end> '"
      ]
     },
     "execution_count": 16,
     "metadata": {},
     "output_type": "execute_result"
    }
   ],
   "source": [
    "generate_text(model, tokenizer, init_sentence=\"<start> am\", max_len=20)"
   ]
  },
  {
   "cell_type": "code",
   "execution_count": 17,
   "id": "0bf1cebb",
   "metadata": {},
   "outputs": [
    {
     "data": {
      "text/plain": [
       "'<start> talking bout what i m saying , <end> '"
      ]
     },
     "execution_count": 17,
     "metadata": {},
     "output_type": "execute_result"
    }
   ],
   "source": [
    "generate_text(model, tokenizer, init_sentence=\"<start> talking\", max_len=20)"
   ]
  },
  {
   "cell_type": "code",
   "execution_count": 18,
   "id": "89fb6ff9",
   "metadata": {},
   "outputs": [
    {
     "data": {
      "text/plain": [
       "'<start> will you still love me tomorrow , can t you see ? <end> '"
      ]
     },
     "execution_count": 18,
     "metadata": {},
     "output_type": "execute_result"
    }
   ],
   "source": [
    "generate_text(model, tokenizer, init_sentence=\"<start> will\", max_len=20)"
   ]
  },
  {
   "cell_type": "code",
   "execution_count": 19,
   "id": "2bd34212",
   "metadata": {},
   "outputs": [
    {
     "data": {
      "text/plain": [
       "'<start> won t you come on over <end> '"
      ]
     },
     "execution_count": 19,
     "metadata": {},
     "output_type": "execute_result"
    }
   ],
   "source": [
    "generate_text(model, tokenizer, init_sentence=\"<start> won t\", max_len=20)"
   ]
  },
  {
   "cell_type": "markdown",
   "id": "be2dfb67",
   "metadata": {},
   "source": [
    "## 모델이 생성한 가사를 보고 느낀 점\n",
    "\n",
    "- 첫 느낌은 \"제법 노래 가사다운 가사가 만들어진다\" 라는 생각이 들었고 임의의 첫글자를 `<start>` 가사로 랜덤하게 떠오르는 단어들로 모델에 넣어보았는데 \"잘 만들어진 가사!!?\" 이런 느낌이었다. 모델이 생성한 가사를 바탕으로 수정해서 만들어도 되겠다는 생각을 해보았다.\n",
    "- 제법 신선한 경험이었다고 생각된다. ***여러분의 모델은 어떤가요?***\n",
    "\n"
   ]
  },
  {
   "cell_type": "markdown",
   "id": "8d5f712d",
   "metadata": {},
   "source": [
    "## - 첫시도 회고\n",
    "\n",
    "- 최초 초기값에서 batch_size와 Embedding Size를 변경하여 작업해 보았으나 `val_loss`의 큰 변화는 없었다고 판단된다.\n",
    "- 그 원인이 무엇인지는 아직은 정확하게 파악하기 힘들다. 과적합의 문제인지 하이퍼 파라미터의 최적화 문제인지 혹은 다른 문제가 있는것은 아니지......\n",
    "- 텍스트 제너레이션 결과가 위에서 말한바와 같이 제법 그럴싸하게 생성되었다고 판단했다.\n",
    "  다만, 문장의 길이가 다소 짧은 문장 위주로 만들어져서 val_loss를 더 낮추면 좀 더 멋진 문장이 나오리라 생각된다.\n",
    "- `val_loss` 가 **2.38**로 노드에서 제시한 기준에 미치지 못했기에 두번째 시도에서 달성해 보려한다.\n",
    "___\n",
    "\n",
    "- Load한 txt 파일중에 아래와 같이 비슷한 파일명이 있어 내용을 확인해 보니 `내용이 서로 똑같은 파일과 일부만 다른 파일`과 같이 두가지 사례가 있었다. 그 파일들은 아래를 참고 바란다.\n",
    "\n",
    ">- Kanye_West.txt 와 kanye-west.txt \n",
    ">- notorious_big.txt 와 notorious-big.txt\n",
    "\n",
    "- 파일의 내용을 들여다보면 두 파일이 중복되는 부분들이 있어서 노드에서 제시한 124,960 과는 차이가 발생할 수 밖에 없는 것으로 판단했다.\n",
    "- 큰 차이는 아니라서 그대로 진행해 보았고 데이터를 정제 후에는 어떻게 달라질지는 추후에 시간적 여유를 가지고 해보려 한다.\n"
   ]
  },
  {
   "cell_type": "markdown",
   "id": "7c916059",
   "metadata": {},
   "source": [
    "___"
   ]
  },
  {
   "cell_type": "markdown",
   "id": "444908d5",
   "metadata": {},
   "source": [
    "## 2. 두번째 시도\n",
    "\n",
    "### 첫시도 대비 변경사항\n",
    "\n",
    "- loss 시각화 \n",
    "- BATCH_SIZE = 128 -> 256 으로 변경\n",
    "- 모델의 Embedding Size : 512 -> 256 으로 변경, Hidden Size : 1024 -> 2048로 변경 적용\n",
    "- `train_test_split()` 함수를 사용해 분리한 훈련 데이터에서 재분리 시도"
   ]
  },
  {
   "cell_type": "markdown",
   "id": "4f2956e0",
   "metadata": {},
   "source": [
    "## 데이터 읽어오기\n",
    "___\n",
    "\n",
    "- **`glob` 모듈을 사용하여 파일을 읽어오기**\n",
    "- **모든 `txt` 파일을 읽어온 후, `raw_corpus` 리스트에 문장 단위로 저장!**\n",
    "\n"
   ]
  },
  {
   "cell_type": "code",
   "execution_count": 20,
   "id": "fed54b0f",
   "metadata": {},
   "outputs": [
    {
     "name": "stdout",
     "output_type": "stream",
     "text": [
      "데이터 크기: 187088\n",
      "Examples:\n",
      " [\"Now I've heard there was a secret chord\", 'That David played, and it pleased the Lord', \"But you don't really care for music, do you?\", 'It goes like this', 'The fourth, the fifth']\n"
     ]
    }
   ],
   "source": [
    "import glob\n",
    "import os\n",
    "\n",
    "txt_file_path = os.getenv('HOME')+'/aiffel/lyricist/data/lyrics/*'\n",
    "\n",
    "txt_list = glob.glob(txt_file_path)\n",
    "\n",
    "raw_corpus = []\n",
    "\n",
    "# 여러개의 txt 파일을 모두 읽어서 raw_corpus 에 담습니다.\n",
    "for txt_file in txt_list:\n",
    "    with open(txt_file, \"r\") as f:\n",
    "        raw = f.read().splitlines()\n",
    "        raw_corpus.extend(raw)\n",
    "\n",
    "print(\"데이터 크기:\", len(raw_corpus))\n",
    "print(\"Examples:\\n\", raw_corpus[:5])\n"
   ]
  },
  {
   "cell_type": "markdown",
   "id": "0101d9f1",
   "metadata": {},
   "source": [
    "## 데이터 정제\n",
    "___\n",
    "\n",
    "- **`preprocess_sentence()` 함수를 사용하여 데이터 정제.**\n",
    "- **지나치게 긴 문장은 다른 데이터들이 과도한 Padding을 갖게 하므로 제거.**\n"
   ]
  },
  {
   "cell_type": "code",
   "execution_count": 21,
   "id": "97271393",
   "metadata": {},
   "outputs": [
    {
     "name": "stdout",
     "output_type": "stream",
     "text": [
      "<start> this is sample sentence . <end>\n"
     ]
    }
   ],
   "source": [
    "# 입력된 문장을\n",
    "#     1. 소문자로 바꾸고, 양쪽 공백을 지움\n",
    "#     2. 특수문자 양쪽에 공백 삽입\n",
    "#     3. 여러개의 공백은 하나의 공백으로 바꿈\n",
    "#     4. a-zA-Z?.!,¿가 아닌 모든 문자를 하나의 공백으로 바꿈\n",
    "#     5. 다시 양쪽 공백을 지움\n",
    "#     6. 문장 시작에는 <start>, 끝에는 <end>를 추가\n",
    "\n",
    "def preprocess_sentence(sentence):\n",
    "    sentence = sentence.lower().strip() # 1\n",
    "    sentence = re.sub(r\"([?.!,¿])\", r\" \\1 \", sentence) # 2\n",
    "    sentence = re.sub(r'[\" \"]+', \" \", sentence) # 3\n",
    "    sentence = re.sub(r\"[^a-zA-Z?.!,¿]+\", \" \", sentence) # 4\n",
    "    sentence = sentence.strip() # 5\n",
    "    sentence = '<start> ' + sentence + ' <end>' # 6\n",
    "    return sentence\n",
    "\n",
    "# 이 문장이 어떻게 필터링되는지 확인해 보자.\n",
    "print(preprocess_sentence(\"This @_is ;;;sample ^-^* :-:  _ %_% -  sentence.\"))"
   ]
  },
  {
   "cell_type": "markdown",
   "id": "6c03c612",
   "metadata": {},
   "source": [
    "- **공백인 문장은 길이를 검사하여 길이가 0이라면 제외**\n",
    "- **토큰화 했을 때 토큰의 개수가 15개를 넘어가는 문장을 학습 데이터에서 제외**"
   ]
  },
  {
   "cell_type": "code",
   "execution_count": 22,
   "id": "c41e2241",
   "metadata": {},
   "outputs": [
    {
     "data": {
      "text/plain": [
       "['<start> now i ve heard there was a secret chord <end>',\n",
       " '<start> that david played , and it pleased the lord <end>',\n",
       " '<start> but you don t really care for music , do you ? <end>',\n",
       " '<start> it goes like this <end>',\n",
       " '<start> the fourth , the fifth <end>',\n",
       " '<start> the minor fall , the major lift <end>',\n",
       " '<start> the baffled king composing hallelujah hallelujah <end>',\n",
       " '<start> hallelujah <end>',\n",
       " '<start> hallelujah <end>',\n",
       " '<start> hallelujah your faith was strong but you needed proof <end>']"
      ]
     },
     "execution_count": 22,
     "metadata": {},
     "output_type": "execute_result"
    }
   ],
   "source": [
    "# 여기에 정제된 문장을 모음\n",
    "corpus = []\n",
    "\n",
    "for sentence in raw_corpus:\n",
    "    # 원하지 않는 문장은 건너뜀\n",
    "    if len(sentence) == 0: continue\n",
    "    \n",
    "    # 정제를 하고 담아주세요\n",
    "    preprocessed_sentence = preprocess_sentence(sentence)\n",
    "    \n",
    "    # split()메소드로 단어 15개 이상 건너뜀\n",
    "    if len(preprocessed_sentence.split()) > 15: continue  \n",
    "        \n",
    "    corpus.append(preprocessed_sentence)\n",
    "        \n",
    "# 정제된 결과 10개 확인\n",
    "corpus[:10]"
   ]
  },
  {
   "cell_type": "code",
   "execution_count": 23,
   "id": "85779292",
   "metadata": {},
   "outputs": [
    {
     "name": "stdout",
     "output_type": "stream",
     "text": [
      "[[   2   50    4 ...    0    0    0]\n",
      " [   2   15 2971 ...    0    0    0]\n",
      " [   2   33    7 ...   46    3    0]\n",
      " ...\n",
      " [   2    4  117 ...    0    0    0]\n",
      " [   2  258  195 ...   12    3    0]\n",
      " [   2    7   34 ...    0    0    0]] <keras_preprocessing.text.Tokenizer object at 0x7f0f9c0db850>\n"
     ]
    }
   ],
   "source": [
    "# 토큰화 할 때 텐서플로우의 Tokenizer, pad_sequences 사용\n",
    "\n",
    "def tokenize(corpus):\n",
    "    # 12000단어를 기억할 수 있는 tokenizer를 만듦\n",
    "    # 이미 문장을 정제했으니 filters가 필요없음\n",
    "    # 12000단어에 포함되지 못한 단어는 '<unk>'로 바꿈\n",
    "    tokenizer = tf.keras.preprocessing.text.Tokenizer(\n",
    "        num_words=12000, \n",
    "        filters=' ',\n",
    "        oov_token=\"<unk>\"\n",
    "    )\n",
    "    # corpus를 이용해 tokenizer 내부의 단어장 완성\n",
    "    tokenizer.fit_on_texts(corpus)\n",
    "    # 준비한 tokenizer를 이용해 corpus를 Tensor로 변환\n",
    "    tensor = tokenizer.texts_to_sequences(corpus)   \n",
    "    # 입력 데이터의 시퀀스 길이를 일정하게 맞춤\n",
    "    # 만약 시퀀스가 짧다면 문장 뒤에 패딩을 붙여 길이를 맞춤\n",
    "    # 문장 앞에 패딩을 붙여 길이를 맞추고 싶다면 padding='pre'를 사용\n",
    "    tensor = tf.keras.preprocessing.sequence.pad_sequences(tensor, padding='post')  \n",
    "    \n",
    "    print(tensor,tokenizer)\n",
    "    return tensor, tokenizer\n",
    "\n",
    "tensor, tokenizer = tokenize(corpus)"
   ]
  },
  {
   "cell_type": "markdown",
   "id": "71801f35",
   "metadata": {},
   "source": [
    "## 평가 데이터셋 분리\n",
    "___\n",
    "\n",
    "### ***훈련 데이터와 평가 데이터를 분리!***\n",
    "\n",
    "- `tokenize()` 함수로 데이터를 Tensor로 변환한 후, \n",
    "- `sklearn` 모듈의 `train_test_split()` 함수를 사용해 분리한 훈련 데이터를 재분리.\n",
    "- **단어장의 크기는 12,000**!\n",
    "\n"
   ]
  },
  {
   "cell_type": "code",
   "execution_count": 24,
   "id": "700b7a73",
   "metadata": {},
   "outputs": [
    {
     "name": "stdout",
     "output_type": "stream",
     "text": [
      "[   2   50    4   95  303   62   53    9  946 6269    3    0    0    0]\n",
      "[  50    4   95  303   62   53    9  946 6269    3    0    0    0    0]\n"
     ]
    }
   ],
   "source": [
    "# tensor에서 마지막 토큰을 잘라내서 소스 문장을 생성\n",
    "src_input = tensor[:, :-1]  \n",
    "\n",
    "# tensor에서 <start>를 잘라내서 타겟 문장을 생성\n",
    "tgt_input = tensor[:, 1:]    \n",
    "\n",
    "print(src_input[0])\n",
    "print(tgt_input[0])"
   ]
  },
  {
   "cell_type": "code",
   "execution_count": 27,
   "id": "c97b9a52",
   "metadata": {},
   "outputs": [
    {
     "name": "stdout",
     "output_type": "stream",
     "text": [
      "Source Train: (124981, 14)\n",
      "Target Train: (124981, 14)\n",
      "Source Val test: (31246, 14)\n",
      "Target Val test: (31246, 14)\n",
      "Source Val Val: (15623, 14)\n",
      "Target Val Val: (15623, 14)\n"
     ]
    }
   ],
   "source": [
    "from sklearn.model_selection import train_test_split\n",
    "\n",
    "# 훈련, 테스트 세트 분리\n",
    "enc_train, enc_val, dec_train, dec_val = train_test_split(src_input, tgt_input, test_size = 0.2, random_state = 15) \n",
    "# 훈련, 검증 세트 분리\n",
    "enc_val_train, enc_val_val, dec_val_train, dec_val_val = train_test_split(enc_train, dec_train, test_size = 0.125 ,\\\n",
    "                                                                          random_state = 15) \n",
    "print(\"Source Train:\", enc_train.shape)\n",
    "print(\"Target Train:\", dec_train.shape)\n",
    "print(\"Source Val test:\", enc_val.shape)\n",
    "print(\"Target Val test:\", dec_val.shape)\n",
    "print(\"Source Val Val:\", enc_val_val.shape)\n",
    "print(\"Target Val Val:\", dec_val_val.shape)\n"
   ]
  },
  {
   "cell_type": "markdown",
   "id": "95b32cc8",
   "metadata": {},
   "source": [
    "- **model.summary() 확인용**"
   ]
  },
  {
   "cell_type": "code",
   "execution_count": 28,
   "id": "394575d7",
   "metadata": {},
   "outputs": [
    {
     "data": {
      "text/plain": [
       "<BatchDataset shapes: ((256, 14), (256, 14)), types: (tf.int32, tf.int32)>"
      ]
     },
     "execution_count": 28,
     "metadata": {},
     "output_type": "execute_result"
    }
   ],
   "source": [
    "BUFFER_SIZE = len(enc_train) #텐서의 1차원, 전체 문장의 개수\n",
    "BATCH_SIZE = 256        #문장의 개수\n",
    "steps_per_epoch = BUFFER_SIZE // BATCH_SIZE\n",
    "\n",
    "# tokenizer가 구축한 단어사전 내 12000개 + 0:<pad>를 포함\n",
    "VOCAB_SIZE = tokenizer.num_words + 1\n",
    "\n",
    "dataset = tf.data.Dataset.from_tensor_slices((enc_train, dec_train))\n",
    "# dataset = tf.data.Dataset.from_tensor_slices((enc_val_train, dec_val_train))\n",
    "dataset = dataset.shuffle(BUFFER_SIZE)\n",
    "dataset = dataset.batch(BATCH_SIZE, drop_remainder=True)\n",
    "dataset"
   ]
  },
  {
   "cell_type": "markdown",
   "id": "95399d0c",
   "metadata": {},
   "source": [
    "## 인공지능 만들기\n",
    "___\n",
    "\n",
    "- **모델의 Hidden Size = 2048로 조절하여 10 Epoch 안에 `val_loss` 값을 2.2 이하로 모델 설계!**\n"
   ]
  },
  {
   "cell_type": "code",
   "execution_count": 29,
   "id": "8c774cbd",
   "metadata": {},
   "outputs": [],
   "source": [
    "class TextGenerator(tf.keras.Model):\n",
    "    def __init__(self, vocab_size, embedding_size, hidden_size):\n",
    "        super().__init__()\n",
    "        \n",
    "        self.embedding = tf.keras.layers.Embedding(vocab_size, embedding_size)\n",
    "        self.rnn_1 = tf.keras.layers.LSTM(hidden_size, return_sequences=True)\n",
    "        self.rnn_2 = tf.keras.layers.LSTM(hidden_size, return_sequences=True)\n",
    "        self.linear = tf.keras.layers.Dense(vocab_size)\n",
    "        \n",
    "    def call(self, x):\n",
    "        out = self.embedding(x)\n",
    "        out = self.rnn_1(out)\n",
    "        out = self.rnn_2(out)\n",
    "#         self.drop = tf.keras.layers.Dropout(0.5)\n",
    "        out = self.linear(out)\n",
    "        \n",
    "        return out\n",
    "    \n",
    "embedding_size = 256  #단어 하나의 특징 수\n",
    "hidden_size = 2048    #퍼셉트론의 개수\n",
    "model = TextGenerator(tokenizer.num_words + 1, embedding_size , hidden_size)"
   ]
  },
  {
   "cell_type": "code",
   "execution_count": 30,
   "id": "83725ef0",
   "metadata": {},
   "outputs": [
    {
     "data": {
      "text/plain": [
       "<tf.Tensor: shape=(256, 14, 12001), dtype=float32, numpy=\n",
       "array([[[-1.95437184e-04, -3.52773095e-05,  1.15309791e-04, ...,\n",
       "         -5.33314305e-05,  2.59980123e-04, -1.30623652e-04],\n",
       "        [-4.55428293e-04,  3.44728032e-05, -1.21135694e-04, ...,\n",
       "         -7.96695676e-05,  5.56986022e-04, -1.74602144e-04],\n",
       "        [-2.76521983e-04, -5.36673870e-05, -2.27313038e-04, ...,\n",
       "         -7.12502151e-05,  8.64925329e-04, -1.58952935e-05],\n",
       "        ...,\n",
       "        [ 1.25842989e-05, -8.07101082e-04,  1.95235002e-03, ...,\n",
       "         -1.02602493e-03,  1.19710469e-03, -3.05485330e-03],\n",
       "        [ 1.31849389e-04, -1.01104868e-03,  2.12386181e-03, ...,\n",
       "         -9.59711382e-04,  1.18882011e-03, -3.40699893e-03],\n",
       "        [ 2.58464366e-04, -1.20933005e-03,  2.25572661e-03, ...,\n",
       "         -9.09548660e-04,  1.18796888e-03, -3.70446243e-03]],\n",
       "\n",
       "       [[-1.95437184e-04, -3.52773095e-05,  1.15309791e-04, ...,\n",
       "         -5.33314305e-05,  2.59980123e-04, -1.30623652e-04],\n",
       "        [ 1.26048559e-04, -1.00197765e-04, -2.79450742e-05, ...,\n",
       "         -1.76883928e-04,  3.70762398e-04, -1.72005210e-04],\n",
       "        [ 4.63025382e-04, -1.34739792e-04,  5.00499991e-05, ...,\n",
       "          3.34501274e-05,  1.33272770e-04, -2.62299989e-04],\n",
       "        ...,\n",
       "        [-1.60686643e-04, -2.67655414e-04,  1.24726549e-03, ...,\n",
       "         -7.02325080e-04,  1.20956422e-04, -2.45281449e-03],\n",
       "        [-9.53545095e-05, -4.14529844e-04,  1.53012678e-03, ...,\n",
       "         -7.41959142e-04,  7.69553808e-05, -2.81367870e-03],\n",
       "        [-5.13170016e-06, -5.83755434e-04,  1.77216809e-03, ...,\n",
       "         -7.58047740e-04,  7.51902408e-05, -3.13890213e-03]],\n",
       "\n",
       "       [[-1.95437184e-04, -3.52773095e-05,  1.15309791e-04, ...,\n",
       "         -5.33314305e-05,  2.59980123e-04, -1.30623652e-04],\n",
       "        [-5.32611739e-04,  1.05959312e-04,  2.32236256e-04, ...,\n",
       "          1.66095837e-04,  2.32303035e-04, -2.38130495e-04],\n",
       "        [-7.41143245e-04,  1.39576965e-04,  4.34818474e-04, ...,\n",
       "          1.59425428e-04,  1.37222465e-04, -1.99326008e-04],\n",
       "        ...,\n",
       "        [-2.39052126e-04,  1.01393391e-03,  6.56764721e-04, ...,\n",
       "         -6.57739758e-04,  4.65458841e-04, -5.13419393e-04],\n",
       "        [-4.94401320e-04,  1.14415714e-03,  9.23115644e-04, ...,\n",
       "         -6.72224967e-04,  4.07178275e-04, -3.97356082e-04],\n",
       "        [-6.98780641e-04,  1.39221677e-03,  9.56663338e-04, ...,\n",
       "         -5.18806570e-04,  6.09532872e-04, -3.44295229e-04]],\n",
       "\n",
       "       ...,\n",
       "\n",
       "       [[-1.95437184e-04, -3.52773095e-05,  1.15309791e-04, ...,\n",
       "         -5.33314305e-05,  2.59980123e-04, -1.30623652e-04],\n",
       "        [-3.30148119e-04,  4.91908540e-05,  8.00120106e-05, ...,\n",
       "          4.48309511e-05,  2.29897400e-04, -5.75524282e-05],\n",
       "        [-4.88423742e-04, -2.79916840e-05, -6.89717926e-05, ...,\n",
       "          7.56804729e-05,  7.39285406e-06, -6.78262222e-05],\n",
       "        ...,\n",
       "        [-7.98595371e-04, -2.92747689e-04,  1.99039886e-03, ...,\n",
       "         -7.32483051e-04, -1.78746996e-04, -2.48509645e-03],\n",
       "        [-6.22807129e-04, -4.33558045e-04,  2.21228204e-03, ...,\n",
       "         -6.95118972e-04, -1.16125302e-04, -2.88687414e-03],\n",
       "        [-4.32031462e-04, -5.98655490e-04,  2.38149660e-03, ...,\n",
       "         -6.64631836e-04, -2.31800022e-05, -3.24257324e-03]],\n",
       "\n",
       "       [[-1.95437184e-04, -3.52773095e-05,  1.15309791e-04, ...,\n",
       "         -5.33314305e-05,  2.59980123e-04, -1.30623652e-04],\n",
       "        [-9.13432596e-05, -5.83859073e-05,  1.78700386e-04, ...,\n",
       "         -6.92939211e-05,  3.22097680e-04, -1.13840564e-04],\n",
       "        [ 2.20601956e-04, -1.57566697e-04,  8.37162297e-05, ...,\n",
       "          3.57992540e-04,  5.35090745e-04, -3.87221189e-05],\n",
       "        ...,\n",
       "        [ 2.14797197e-04,  1.44123784e-04, -1.89927712e-04, ...,\n",
       "          6.11008494e-04,  1.19271234e-03, -9.22359250e-05],\n",
       "        [ 6.40308790e-05, -5.63379617e-05, -5.79211046e-04, ...,\n",
       "          7.87989935e-04,  1.49246759e-03,  9.61049082e-05],\n",
       "        [ 9.14932898e-05, -2.33420418e-04, -4.69329621e-04, ...,\n",
       "          7.60568015e-04,  1.68201642e-03, -6.76765485e-05]],\n",
       "\n",
       "       [[-1.95437184e-04, -3.52773095e-05,  1.15309791e-04, ...,\n",
       "         -5.33314305e-05,  2.59980123e-04, -1.30623652e-04],\n",
       "        [-3.04757064e-04, -4.63704746e-05,  2.08010795e-04, ...,\n",
       "         -3.67816712e-04,  3.26767447e-04,  1.03232393e-04],\n",
       "        [ 1.10076158e-04, -1.26114770e-04,  4.60380761e-05, ...,\n",
       "         -6.51317532e-04,  3.13280732e-04,  2.42358932e-04],\n",
       "        ...,\n",
       "        [ 4.18952608e-04, -1.04616187e-03,  1.37472444e-03, ...,\n",
       "         -6.38189609e-04,  4.23242047e-04, -1.99528760e-03],\n",
       "        [ 4.17395466e-04, -1.20911491e-03,  1.66996801e-03, ...,\n",
       "         -5.92952652e-04,  4.91380575e-04, -2.41741538e-03],\n",
       "        [ 4.48775419e-04, -1.37177214e-03,  1.90807146e-03, ...,\n",
       "         -5.65879047e-04,  5.67970390e-04, -2.79967533e-03]]],\n",
       "      dtype=float32)>"
      ]
     },
     "execution_count": 30,
     "metadata": {},
     "output_type": "execute_result"
    }
   ],
   "source": [
    "# 데이터셋에서 데이터 한 배치만 불러와서 임시 모델 생성 및 확인\n",
    "for src_sample, tgt_sample in dataset.take(1): break\n",
    "\n",
    "model(src_sample)"
   ]
  },
  {
   "cell_type": "code",
   "execution_count": 31,
   "id": "15037019",
   "metadata": {},
   "outputs": [
    {
     "name": "stdout",
     "output_type": "stream",
     "text": [
      "Model: \"text_generator_1\"\n",
      "_________________________________________________________________\n",
      "Layer (type)                 Output Shape              Param #   \n",
      "=================================================================\n",
      "embedding_1 (Embedding)      multiple                  3072256   \n",
      "_________________________________________________________________\n",
      "lstm_2 (LSTM)                multiple                  18882560  \n",
      "_________________________________________________________________\n",
      "lstm_3 (LSTM)                multiple                  33562624  \n",
      "_________________________________________________________________\n",
      "dense_1 (Dense)              multiple                  24590049  \n",
      "=================================================================\n",
      "Total params: 80,107,489\n",
      "Trainable params: 80,107,489\n",
      "Non-trainable params: 0\n",
      "_________________________________________________________________\n"
     ]
    }
   ],
   "source": [
    "# 생성된 모델 살펴보기\n",
    "model.summary()"
   ]
  },
  {
   "cell_type": "code",
   "execution_count": 32,
   "id": "2a4cd2a8",
   "metadata": {
    "scrolled": true
   },
   "outputs": [
    {
     "name": "stdout",
     "output_type": "stream",
     "text": [
      "Epoch 1/10\n",
      "489/489 [==============================] - 240s 487ms/step - loss: 3.3447 - val_loss: 2.9494\n",
      "Epoch 2/10\n",
      "489/489 [==============================] - 243s 496ms/step - loss: 2.8272 - val_loss: 2.6249\n",
      "Epoch 3/10\n",
      "489/489 [==============================] - 244s 498ms/step - loss: 2.5590 - val_loss: 2.3410\n",
      "Epoch 4/10\n",
      "489/489 [==============================] - 244s 498ms/step - loss: 2.3006 - val_loss: 2.0644\n",
      "Epoch 5/10\n",
      "489/489 [==============================] - 244s 498ms/step - loss: 2.0502 - val_loss: 1.8094\n",
      "Epoch 6/10\n",
      "489/489 [==============================] - 243s 498ms/step - loss: 1.8124 - val_loss: 1.5842\n",
      "Epoch 7/10\n",
      "489/489 [==============================] - 244s 499ms/step - loss: 1.5969 - val_loss: 1.3908\n",
      "Epoch 8/10\n",
      "489/489 [==============================] - 244s 498ms/step - loss: 1.4119 - val_loss: 1.2341\n",
      "Epoch 9/10\n",
      "489/489 [==============================] - 244s 499ms/step - loss: 1.2611 - val_loss: 1.1155\n",
      "Epoch 10/10\n",
      "489/489 [==============================] - 244s 499ms/step - loss: 1.1472 - val_loss: 1.0336\n"
     ]
    }
   ],
   "source": [
    "# optimizer 와 loss function 지정\n",
    "\n",
    "optimizer = tf.keras.optimizers.Adam()\n",
    "loss = tf.keras.losses.SparseCategoricalCrossentropy(\n",
    "    from_logits=True,\n",
    "    reduction='none'\n",
    ")\n",
    "\n",
    "model.compile(loss=loss, optimizer=optimizer)\n",
    "history = model.fit(enc_train, dec_train, epochs=10, batch_size=256, validation_data = (enc_val_val, dec_val_val))\n",
    "\n"
   ]
  },
  {
   "cell_type": "markdown",
   "id": "a8e8a7b7",
   "metadata": {},
   "source": [
    "### loss 시각화\n",
    "\n",
    "- **아래 그래프 확인하여 validation loss가 제대로 나왔는지 알아보자.**"
   ]
  },
  {
   "cell_type": "code",
   "execution_count": 33,
   "id": "aaf7ed87",
   "metadata": {},
   "outputs": [
    {
     "data": {
      "image/png": "[encoded data removed]",
      "text/plain": [
       "<Figure size 576x360 with 1 Axes>"
      ]
     },
     "metadata": {
      "needs_background": "light"
     },
     "output_type": "display_data"
    }
   ],
   "source": [
    "import matplotlib.pyplot as plt\n",
    "\n",
    "plt.figure(figsize=(8, 5))\n",
    "\n",
    "plt.plot(history.history['loss'], marker='.', c='red', label='Train-set Loss')\n",
    "plt.plot(history.history['val_loss'], marker='.', c='blue', label='Validation-set Loss')\n",
    "plt.xlabel('Epoch')\n",
    "plt.legend()\n",
    "plt.show()"
   ]
  },
  {
   "cell_type": "code",
   "execution_count": 34,
   "id": "b05c9c85",
   "metadata": {},
   "outputs": [],
   "source": [
    "def generate_text(model, tokenizer, init_sentence=\"<start>\", max_len=20):\n",
    "    # 테스트를 위해서 입력받은 init_sentence도 텐서로 변환\n",
    "    test_input = tokenizer.texts_to_sequences([init_sentence])\n",
    "    test_tensor = tf.convert_to_tensor(test_input, dtype=tf.int64)\n",
    "    end_token = tokenizer.word_index[\"<end>\"]\n",
    "\n",
    "    while True:\n",
    "        # 1\n",
    "        predict = model(test_tensor) \n",
    "        # 2\n",
    "        predict_word = tf.argmax(tf.nn.softmax(predict, axis=-1), axis=-1)[:, -1] \n",
    "        # 3 \n",
    "        test_tensor = tf.concat([test_tensor, tf.expand_dims(predict_word, axis=0)], axis=-1)\n",
    "        # 4\n",
    "        if predict_word.numpy()[0] == end_token: break\n",
    "        if test_tensor.shape[1] >= max_len: break\n",
    "\n",
    "    generated = \"\"\n",
    "    # tokenizer를 이용해 word index를 단어로 하나씩 변환 \n",
    "    for word_index in test_tensor[0].numpy():\n",
    "        generated += tokenizer.index_word[word_index] + \" \"\n",
    "\n",
    "    return generated"
   ]
  },
  {
   "cell_type": "code",
   "execution_count": 35,
   "id": "354e1b61",
   "metadata": {},
   "outputs": [
    {
     "data": {
      "text/plain": [
       "'<start> am i too loud for you ? <end> '"
      ]
     },
     "execution_count": 35,
     "metadata": {},
     "output_type": "execute_result"
    }
   ],
   "source": [
    "generate_text(model, tokenizer, init_sentence=\"<start> am\", max_len=20)"
   ]
  },
  {
   "cell_type": "code",
   "execution_count": 36,
   "id": "e7695592",
   "metadata": {},
   "outputs": [
    {
     "data": {
      "text/plain": [
       "'<start> talking to the moon <end> '"
      ]
     },
     "execution_count": 36,
     "metadata": {},
     "output_type": "execute_result"
    }
   ],
   "source": [
    "generate_text(model, tokenizer, init_sentence=\"<start> talking\", max_len=20)"
   ]
  },
  {
   "cell_type": "code",
   "execution_count": 37,
   "id": "38df6d5f",
   "metadata": {},
   "outputs": [
    {
     "data": {
      "text/plain": [
       "'<start> will you still love me ? <end> '"
      ]
     },
     "execution_count": 37,
     "metadata": {},
     "output_type": "execute_result"
    }
   ],
   "source": [
    "generate_text(model, tokenizer, init_sentence=\"<start> will\", max_len=20)"
   ]
  },
  {
   "cell_type": "code",
   "execution_count": 38,
   "id": "3c569c2f",
   "metadata": {},
   "outputs": [
    {
     "data": {
      "text/plain": [
       "'<start> won t you come see me , queen jane ? <end> '"
      ]
     },
     "execution_count": 38,
     "metadata": {},
     "output_type": "execute_result"
    }
   ],
   "source": [
    "generate_text(model, tokenizer, init_sentence=\"<start> won t\", max_len=20)"
   ]
  },
  {
   "cell_type": "markdown",
   "id": "09b60916",
   "metadata": {},
   "source": [
    "## - 두번째 시도 회고\n",
    "\n",
    "- train_test_split() 함수를 사용해 분리한 훈련 데이터를 재분리하여 학습을 시켰더니 val_loss 가 **2.2** 이하로 떨어졌다.\n",
    "  이를 분석해 보면 한번 분리한 훈련데이터에서 검증 세트로 분리한 한것이기 때문에 이미 훈련데이터에 있는 데이터를 재분리 하였기에\n",
    "  데이터의 교집합에 생겨서 향상된 것으로 분석해 보았다. 이 방법이 정상적인 방법은 아닌것으로 판단된다.\n",
    "- 하지만 두번째 시도를 마치고 모델이 작사한 가사를 보았을 때 \"처음 드는 생각은 가사가 길어졌다!!\" 였다.\n",
    "- 첫시도 가사와 '<start>'를 동일한 단어를 입력했더니 위와 같이 나왔다.\n",
    "- 제대로 학습했다고는 할 수 없지만 정말 가사로 사용할 수 있겠다고 생각되었다.\n"
   ]
  },
  {
   "cell_type": "markdown",
   "id": "ba29cae1",
   "metadata": {},
   "source": [
    "___"
   ]
  },
  {
   "cell_type": "markdown",
   "id": "850681f1",
   "metadata": {},
   "source": [
    "## 3. 세번째 시도\n",
    "\n",
    "- BATCH_SIZE = 64, 128, 256, 512 등 다양\n",
    "- 모델의 Embedding Size : 128, 256, 512 등, Hidden Size : 256, 512, 1024, 2048 등 다양\n",
    "- dropout 적용 등 다양하게 하이파 파라미터를 조정해서 시도해 보았다."
   ]
  },
  {
   "cell_type": "markdown",
   "id": "3ce3d182",
   "metadata": {},
   "source": [
    "## 데이터 읽어오기\n",
    "___\n",
    "\n",
    "- **`glob` 모듈을 사용하여 파일을 읽어오기**\n",
    "- **모든 `txt` 파일을 읽어온 후, `raw_corpus` 리스트에 문장 단위로 저장!**\n",
    "\n"
   ]
  },
  {
   "cell_type": "code",
   "execution_count": 56,
   "id": "104abfbf",
   "metadata": {},
   "outputs": [
    {
     "name": "stdout",
     "output_type": "stream",
     "text": [
      "데이터 크기: 187088\n",
      "Examples:\n",
      " [\"Now I've heard there was a secret chord\", 'That David played, and it pleased the Lord', \"But you don't really care for music, do you?\", 'It goes like this', 'The fourth, the fifth']\n"
     ]
    }
   ],
   "source": [
    "import glob\n",
    "import os\n",
    "\n",
    "txt_file_path = os.getenv('HOME')+'/aiffel/lyricist/data/lyrics/*'\n",
    "\n",
    "txt_list = glob.glob(txt_file_path)\n",
    "\n",
    "raw_corpus = []\n",
    "\n",
    "# 여러개의 txt 파일을 모두 읽어서 raw_corpus 에 담는다.\n",
    "for txt_file in txt_list:\n",
    "    with open(txt_file, \"r\") as f:\n",
    "        raw = f.read().splitlines()\n",
    "        raw_corpus.extend(raw)\n",
    "\n",
    "print(\"데이터 크기:\", len(raw_corpus))\n",
    "print(\"Examples:\\n\", raw_corpus[:5])\n"
   ]
  },
  {
   "cell_type": "markdown",
   "id": "36284979",
   "metadata": {},
   "source": [
    "## 데이터 정제\n",
    "___\n",
    "\n",
    "- **`preprocess_sentence()` 함수를 사용하여 데이터 정제.**\n",
    "- **지나치게 긴 문장은 다른 데이터들이 과도한 Padding을 갖게 하므로 제거.**"
   ]
  },
  {
   "cell_type": "code",
   "execution_count": 57,
   "id": "df0fe9bb",
   "metadata": {},
   "outputs": [
    {
     "name": "stdout",
     "output_type": "stream",
     "text": [
      "<start> this is sample sentence . <end>\n"
     ]
    }
   ],
   "source": [
    "# 입력된 문장을\n",
    "#     1. 소문자로 바꾸고, 양쪽 공백을 지움\n",
    "#     2. 특수문자 양쪽에 공백 삽입\n",
    "#     3. 여러개의 공백은 하나의 공백으로 바꿈\n",
    "#     4. a-zA-Z?.!,¿가 아닌 모든 문자를 하나의 공백으로 바꿈\n",
    "#     5. 다시 양쪽 공백을 지움\n",
    "#     6. 문장 시작에는 <start>, 끝에는 <end>를 추가\n",
    "\n",
    "def preprocess_sentence(sentence):\n",
    "    sentence = sentence.lower().strip() # 1\n",
    "    sentence = re.sub(r\"([?.!,¿])\", r\" \\1 \", sentence) # 2\n",
    "    sentence = re.sub(r'[\" \"]+', \" \", sentence) # 3\n",
    "    sentence = re.sub(r\"[^a-zA-Z?.!,¿]+\", \" \", sentence) # 4\n",
    "    sentence = sentence.strip() # 5\n",
    "    sentence = '<start> ' + sentence + ' <end>' # 6\n",
    "    return sentence\n",
    "\n",
    "# 이 문장이 어떻게 필터링되는지 확인해 보\u001f.\n",
    "print(preprocess_sentence(\"This @_is ;;;sample        sentence.\"))"
   ]
  },
  {
   "cell_type": "markdown",
   "id": "9e640dc0",
   "metadata": {},
   "source": [
    "- **공백인 문장은 길이를 검사하여 길이가 0이라면 제외**\n",
    "- **토큰화 했을 때 토큰의 개수가 15개를 넘어가는 문장을 학습 데이터에서 제외**"
   ]
  },
  {
   "cell_type": "code",
   "execution_count": 58,
   "id": "82274295",
   "metadata": {},
   "outputs": [
    {
     "data": {
      "text/plain": [
       "['<start> now i ve heard there was a secret chord <end>',\n",
       " '<start> that david played , and it pleased the lord <end>',\n",
       " '<start> but you don t really care for music , do you ? <end>',\n",
       " '<start> it goes like this <end>',\n",
       " '<start> the fourth , the fifth <end>',\n",
       " '<start> the minor fall , the major lift <end>',\n",
       " '<start> the baffled king composing hallelujah hallelujah <end>',\n",
       " '<start> hallelujah <end>',\n",
       " '<start> hallelujah <end>',\n",
       " '<start> hallelujah your faith was strong but you needed proof <end>']"
      ]
     },
     "execution_count": 58,
     "metadata": {},
     "output_type": "execute_result"
    }
   ],
   "source": [
    "# 여기에 정제된 문장을 모음\n",
    "corpus = []\n",
    "\n",
    "for sentence in raw_corpus:\n",
    "    # 원하지 않는 문장은 건너뜀\n",
    "    if len(sentence) == 0: continue\n",
    "    \n",
    "    # 정제를 하고 담아주세요\n",
    "    preprocessed_sentence = preprocess_sentence(sentence)\n",
    "    \n",
    "    # split()메소드로 단어 15개 이상 건너뜀\n",
    "    if len(preprocessed_sentence.split()) > 15: continue\n",
    "        \n",
    "    corpus.append(preprocessed_sentence)\n",
    "        \n",
    "# 정제된 결과 10개 확인\n",
    "corpus[:10]"
   ]
  },
  {
   "cell_type": "code",
   "execution_count": 59,
   "id": "a82ddd5a",
   "metadata": {},
   "outputs": [
    {
     "name": "stdout",
     "output_type": "stream",
     "text": [
      "[[   2   50    4 ...    0    0    0]\n",
      " [   2   15 2971 ...    0    0    0]\n",
      " [   2   33    7 ...   46    3    0]\n",
      " ...\n",
      " [   2    4  117 ...    0    0    0]\n",
      " [   2  258  195 ...   12    3    0]\n",
      " [   2    7   34 ...    0    0    0]] <keras_preprocessing.text.Tokenizer object at 0x7f0f0d4b5340>\n"
     ]
    }
   ],
   "source": [
    "# 토큰화 할 때 텐서플로우의 Tokenizer, pad_sequences 사용\n",
    "\n",
    "def tokenize(corpus):\n",
    "    # 12000단어를 기억할 수 있는 tokenizer를 만듦\n",
    "    # 이미 문장을 정제했으니 filters가 필요없음\n",
    "    # 12000단어에 포함되지 못한 단어는 '<unk>'로 바꿈\n",
    "    tokenizer = tf.keras.preprocessing.text.Tokenizer(\n",
    "        num_words=12000, \n",
    "        filters=' ',\n",
    "        oov_token=\"<unk>\"\n",
    "    )\n",
    "    # corpus를 이용해 tokenizer 내부의 단어장 완성\n",
    "    tokenizer.fit_on_texts(corpus)\n",
    "    # 준비한 tokenizer를 이용해 corpus를 Tensor로 변환\n",
    "    tensor = tokenizer.texts_to_sequences(corpus)   \n",
    "    # 입력 데이터의 시퀀스 길이를 일정하게 맞춤\n",
    "    # 만약 시퀀스가 짧다면 문장 뒤에 패딩을 붙여 길이를 맞춤\n",
    "    # 문장 앞에 패딩을 붙여 길이를 맞추고 싶다면 padding='pre'를 사용\n",
    "    tensor = tf.keras.preprocessing.sequence.pad_sequences(tensor, padding='post')  \n",
    "    \n",
    "    print(tensor,tokenizer)\n",
    "    return tensor, tokenizer\n",
    "\n",
    "tensor, tokenizer = tokenize(corpus)"
   ]
  },
  {
   "cell_type": "markdown",
   "id": "3601a4a6",
   "metadata": {},
   "source": [
    "## 평가 데이터셋 분리\n",
    "___\n",
    "\n",
    "### ***훈련 데이터와 평가 데이터를 분리!***\n",
    "\n",
    "- `tokenize()` 함수로 데이터를 Tensor로 변환한 후, \n",
    "- `sklearn` 모듈의 `train_test_split()` 함수를 사용해 훈련 데이터와 평가 데이터를 분리.\n",
    "- **단어장의 크기는 12,000**!\n",
    "- **총 데이터의 20%** 를 평가 데이터셋으로 사용!"
   ]
  },
  {
   "cell_type": "code",
   "execution_count": 60,
   "id": "0c1d143e",
   "metadata": {},
   "outputs": [
    {
     "name": "stdout",
     "output_type": "stream",
     "text": [
      "[   2   50    4   95  303   62   53    9  946 6269    3    0    0    0]\n",
      "[  50    4   95  303   62   53    9  946 6269    3    0    0    0    0]\n"
     ]
    }
   ],
   "source": [
    "# tensor에서 마지막 토큰을 잘라내서 소스 문장을 생성\n",
    "src_input = tensor[:, :-1]  \n",
    "\n",
    "# tensor에서 <start>를 잘라내서 타겟 문장을 생성\n",
    "tgt_input = tensor[:, 1:]    \n",
    "\n",
    "print(src_input[0])\n",
    "print(tgt_input[0])"
   ]
  },
  {
   "cell_type": "code",
   "execution_count": 61,
   "id": "1582ccf8",
   "metadata": {},
   "outputs": [
    {
     "name": "stdout",
     "output_type": "stream",
     "text": [
      "Source Train: (124981, 14)\n",
      "Target Train: (124981, 14)\n",
      "Source Val: (31246, 14)\n",
      "Target Val: (31246, 14)\n"
     ]
    }
   ],
   "source": [
    "from sklearn.model_selection import train_test_split\n",
    "\n",
    "enc_train, enc_val, dec_train, dec_val = train_test_split(src_input, tgt_input, test_size = 0.2, random_state = 15) \n",
    "\n",
    "print(\"Source Train:\", enc_train.shape)\n",
    "print(\"Target Train:\", dec_train.shape)\n",
    "print(\"Source Val:\", enc_val.shape)\n",
    "print(\"Target Val:\", dec_val.shape)"
   ]
  },
  {
   "cell_type": "markdown",
   "id": "bfa0e7d9",
   "metadata": {},
   "source": [
    "- **model.summary() 확인용**"
   ]
  },
  {
   "cell_type": "code",
   "execution_count": 62,
   "id": "b72ac7f6",
   "metadata": {},
   "outputs": [
    {
     "data": {
      "text/plain": [
       "<BatchDataset shapes: ((256, 14), (256, 14)), types: (tf.int32, tf.int32)>"
      ]
     },
     "execution_count": 62,
     "metadata": {},
     "output_type": "execute_result"
    }
   ],
   "source": [
    "BUFFER_SIZE = len(enc_train) #텐서의 1차원, 전체 문장의 개수\n",
    "BATCH_SIZE = 256        #문장의 개수\n",
    "steps_per_epoch = BUFFER_SIZE // BATCH_SIZE\n",
    "\n",
    "# tokenizer가 구축한 단어사전 내 12000개 + 0:<pad>를 포함\n",
    "VOCAB_SIZE = tokenizer.num_words + 1\n",
    "\n",
    "dataset = tf.data.Dataset.from_tensor_slices((enc_train, dec_train))\n",
    "# dataset = tf.data.Dataset.from_tensor_slices((enc_val_train, dec_val_train))\n",
    "dataset = dataset.shuffle(BUFFER_SIZE)\n",
    "dataset = dataset.batch(BATCH_SIZE, drop_remainder=True)\n",
    "dataset"
   ]
  },
  {
   "cell_type": "markdown",
   "id": "03165c69",
   "metadata": {},
   "source": [
    "## 인공지능 만들기\n",
    "___\n",
    "\n",
    "- **모델의 Embedding Size = 512로 조절하여 10 Epoch 안에 `val_loss` 값을 2.2 아하로 모델 설계!**\n"
   ]
  },
  {
   "cell_type": "code",
   "execution_count": 63,
   "id": "e413bd77",
   "metadata": {},
   "outputs": [],
   "source": [
    "class TextGenerator(tf.keras.Model):\n",
    "    def __init__(self, vocab_size, embedding_size, hidden_size):\n",
    "        super().__init__()\n",
    "        \n",
    "        self.embedding = tf.keras.layers.Embedding(vocab_size, embedding_size)\n",
    "        self.rnn_1 = tf.keras.layers.LSTM(hidden_size, return_sequences=True)\n",
    "        self.rnn_2 = tf.keras.layers.LSTM(hidden_size, return_sequences=True)\n",
    "#         self.drop = tf.keras.layers.Dropout(0.5)\n",
    "        self.linear = tf.keras.layers.Dense(vocab_size)\n",
    "        \n",
    "    def call(self, x):\n",
    "        out = self.embedding(x)\n",
    "        out = self.rnn_1(out)\n",
    "        out = self.rnn_2(out)\n",
    "#         out = self.drop(out)\n",
    "        out = self.linear(out)\n",
    "        \n",
    "        return out\n",
    "    \n",
    "embedding_size = 512  #단어 하나의 특징 수\n",
    "hidden_size = 2048    #퍼셉트론의 개수\n",
    "model = TextGenerator(tokenizer.num_words + 1, embedding_size , hidden_size)"
   ]
  },
  {
   "cell_type": "code",
   "execution_count": 64,
   "id": "13539fd1",
   "metadata": {},
   "outputs": [
    {
     "data": {
      "text/plain": [
       "<tf.Tensor: shape=(256, 14, 12001), dtype=float32, numpy=\n",
       "array([[[-2.9107230e-04,  9.0043512e-05,  2.7629829e-04, ...,\n",
       "         -2.6796985e-04,  2.4273009e-04,  2.2444859e-04],\n",
       "        [-5.9881975e-04,  7.5742049e-05,  2.6961029e-04, ...,\n",
       "         -4.0989229e-04,  4.1193576e-04,  3.3997858e-04],\n",
       "        [-4.9813226e-04,  5.2322463e-05,  4.1118514e-04, ...,\n",
       "         -6.0079288e-04,  5.6325499e-04,  5.7505560e-04],\n",
       "        ...,\n",
       "        [ 6.7963605e-03,  1.9317300e-03,  6.6033157e-04, ...,\n",
       "         -1.8690275e-03,  5.5409633e-03,  2.4488189e-03],\n",
       "        [ 7.6374817e-03,  1.9511748e-03,  7.1088149e-04, ...,\n",
       "         -1.8388734e-03,  6.0454439e-03,  2.7348408e-03],\n",
       "        [ 8.3559826e-03,  1.9269140e-03,  7.5295946e-04, ...,\n",
       "         -1.7990590e-03,  6.4530806e-03,  2.9680277e-03]],\n",
       "\n",
       "       [[-2.9107230e-04,  9.0043512e-05,  2.7629829e-04, ...,\n",
       "         -2.6796985e-04,  2.4273009e-04,  2.2444859e-04],\n",
       "        [-4.9182301e-04, -4.5349345e-05,  1.3060331e-04, ...,\n",
       "         -4.1488800e-04,  3.9563450e-04,  2.3937291e-04],\n",
       "        [-5.1020144e-04,  8.6440086e-05,  6.2363208e-05, ...,\n",
       "         -5.5586925e-04,  5.9780979e-04,  1.9351045e-04],\n",
       "        ...,\n",
       "        [ 1.1332022e-03,  1.3647365e-03, -3.3269799e-04, ...,\n",
       "          6.3010939e-06,  2.4076551e-03, -2.4567859e-04],\n",
       "        [ 6.2216184e-04,  1.6455558e-03,  1.6986298e-04, ...,\n",
       "         -2.6990287e-04,  2.1905599e-03, -2.1365912e-04],\n",
       "        [ 9.8747364e-04,  1.9043080e-03,  5.6043261e-04, ...,\n",
       "         -5.7537184e-04,  2.4109567e-03,  9.0370544e-05]],\n",
       "\n",
       "       [[-2.9107230e-04,  9.0043512e-05,  2.7629829e-04, ...,\n",
       "         -2.6796985e-04,  2.4273009e-04,  2.2444859e-04],\n",
       "        [-8.7438815e-04,  2.6648492e-04,  5.1635999e-04, ...,\n",
       "         -3.3515762e-04,  4.3426637e-04,  5.2858109e-04],\n",
       "        [-8.6448179e-04, -3.0904990e-05,  2.9668689e-04, ...,\n",
       "         -9.3084898e-05,  1.2062129e-03,  6.0803257e-04],\n",
       "        ...,\n",
       "        [ 5.9638731e-03,  1.1315099e-03,  4.9422815e-04, ...,\n",
       "         -9.4411086e-04,  6.0666916e-03,  2.2864051e-03],\n",
       "        [ 6.9326987e-03,  1.2411418e-03,  5.5911753e-04, ...,\n",
       "         -9.8021736e-04,  6.5419134e-03,  2.5519428e-03],\n",
       "        [ 7.7605406e-03,  1.3046503e-03,  6.1817607e-04, ...,\n",
       "         -1.0163314e-03,  6.9176736e-03,  2.7775434e-03]],\n",
       "\n",
       "       ...,\n",
       "\n",
       "       [[-2.9107230e-04,  9.0043512e-05,  2.7629829e-04, ...,\n",
       "         -2.6796985e-04,  2.4273009e-04,  2.2444859e-04],\n",
       "        [-2.2419209e-04,  3.7567303e-04,  2.5218801e-04, ...,\n",
       "         -1.8772449e-04,  3.4506273e-04,  4.4211879e-04],\n",
       "        [-2.0791721e-04,  1.2474931e-04, -1.1410976e-04, ...,\n",
       "          2.4125857e-04,  6.6569331e-04,  5.3688040e-04],\n",
       "        ...,\n",
       "        [ 5.1457025e-03,  1.4536215e-03,  7.2575221e-04, ...,\n",
       "         -5.8050366e-04,  5.0163688e-03,  1.8826738e-03],\n",
       "        [ 6.1555291e-03,  1.5729048e-03,  8.2019635e-04, ...,\n",
       "         -6.8557041e-04,  5.5783084e-03,  2.2053884e-03],\n",
       "        [ 7.0468890e-03,  1.6229382e-03,  8.8865135e-04, ...,\n",
       "         -7.8215561e-04,  6.0504638e-03,  2.4802305e-03]],\n",
       "\n",
       "       [[-2.9107230e-04,  9.0043512e-05,  2.7629829e-04, ...,\n",
       "         -2.6796985e-04,  2.4273009e-04,  2.2444859e-04],\n",
       "        [-4.5091013e-04,  2.6467544e-04, -2.2854218e-04, ...,\n",
       "         -5.2369019e-04,  3.0823529e-04,  3.7126501e-05],\n",
       "        [-3.5476999e-04,  3.7323075e-04, -4.6555779e-04, ...,\n",
       "         -7.9055649e-04,  7.0073758e-04,  2.0010426e-04],\n",
       "        ...,\n",
       "        [-6.6071027e-04,  1.0147464e-03,  1.5508874e-03, ...,\n",
       "         -7.1261020e-04,  7.7107456e-04, -1.8416627e-03],\n",
       "        [ 3.8461073e-04,  1.3495123e-03,  1.7521060e-03, ...,\n",
       "         -1.0256862e-03,  1.4375506e-03, -1.2641189e-03],\n",
       "        [ 1.6321753e-03,  1.6131750e-03,  1.8302832e-03, ...,\n",
       "         -1.2486915e-03,  2.2340761e-03, -5.8869435e-04]],\n",
       "\n",
       "       [[-2.9107230e-04,  9.0043512e-05,  2.7629829e-04, ...,\n",
       "         -2.6796985e-04,  2.4273009e-04,  2.2444859e-04],\n",
       "        [-4.9182301e-04, -4.5349345e-05,  1.3060331e-04, ...,\n",
       "         -4.1488800e-04,  3.9563450e-04,  2.3937291e-04],\n",
       "        [-5.1823811e-04, -1.9217576e-04, -1.9858399e-04, ...,\n",
       "         -7.2063389e-04,  2.2794190e-04,  1.4115624e-04],\n",
       "        ...,\n",
       "        [ 1.0327986e-03,  7.1884668e-04, -3.1343373e-04, ...,\n",
       "         -6.5617712e-04,  8.3598701e-05, -1.1565868e-03],\n",
       "        [ 1.1158817e-03,  5.9662893e-04, -2.1006190e-04, ...,\n",
       "         -4.6421395e-04,  1.5039784e-04, -1.0721659e-03],\n",
       "        [ 1.5315143e-03,  6.4705889e-04, -3.1639653e-04, ...,\n",
       "         -5.8986060e-04,  4.8048515e-04, -5.6073169e-04]]], dtype=float32)>"
      ]
     },
     "execution_count": 64,
     "metadata": {},
     "output_type": "execute_result"
    }
   ],
   "source": [
    "# 데이터셋에서 데이터 한 배치만 불러와서 임시 모델 생성 및 확인\n",
    "for src_sample, tgt_sample in dataset.take(1): break\n",
    "\n",
    "model(src_sample)"
   ]
  },
  {
   "cell_type": "code",
   "execution_count": 65,
   "id": "402e0d82",
   "metadata": {},
   "outputs": [
    {
     "name": "stdout",
     "output_type": "stream",
     "text": [
      "Model: \"text_generator_3\"\n",
      "_________________________________________________________________\n",
      "Layer (type)                 Output Shape              Param #   \n",
      "=================================================================\n",
      "embedding_3 (Embedding)      multiple                  6144512   \n",
      "_________________________________________________________________\n",
      "lstm_6 (LSTM)                multiple                  20979712  \n",
      "_________________________________________________________________\n",
      "lstm_7 (LSTM)                multiple                  33562624  \n",
      "_________________________________________________________________\n",
      "dense_3 (Dense)              multiple                  24590049  \n",
      "=================================================================\n",
      "Total params: 85,276,897\n",
      "Trainable params: 85,276,897\n",
      "Non-trainable params: 0\n",
      "_________________________________________________________________\n"
     ]
    }
   ],
   "source": [
    "# 생성된 모델 살펴보기\n",
    "model.summary()"
   ]
  },
  {
   "cell_type": "code",
   "execution_count": 66,
   "id": "262698ea",
   "metadata": {
    "scrolled": false
   },
   "outputs": [
    {
     "name": "stdout",
     "output_type": "stream",
     "text": [
      "Epoch 1/10\n",
      "245/245 [==============================] - 254s 1s/step - loss: 3.5988 - val_loss: 3.1662\n",
      "Epoch 2/10\n",
      "245/245 [==============================] - 255s 1s/step - loss: 3.0055 - val_loss: 2.9346\n",
      "Epoch 3/10\n",
      "245/245 [==============================] - 255s 1s/step - loss: 2.7957 - val_loss: 2.7899\n",
      "Epoch 4/10\n",
      "245/245 [==============================] - 256s 1s/step - loss: 2.6211 - val_loss: 2.6789\n",
      "Epoch 5/10\n",
      "245/245 [==============================] - 256s 1s/step - loss: 2.4565 - val_loss: 2.5936\n",
      "Epoch 6/10\n",
      "245/245 [==============================] - 256s 1s/step - loss: 2.2981 - val_loss: 2.5094\n",
      "Epoch 7/10\n",
      "245/245 [==============================] - 256s 1s/step - loss: 2.1452 - val_loss: 2.4473\n",
      "Epoch 8/10\n",
      "245/245 [==============================] - 256s 1s/step - loss: 1.9983 - val_loss: 2.3887\n",
      "Epoch 9/10\n",
      "245/245 [==============================] - 257s 1s/step - loss: 1.8576 - val_loss: 2.3411\n",
      "Epoch 10/10\n",
      "245/245 [==============================] - 257s 1s/step - loss: 1.7218 - val_loss: 2.3041\n"
     ]
    }
   ],
   "source": [
    "# optimizer 와 loss function 지정\n",
    "\n",
    "optimizer = tf.keras.optimizers.Adam()\n",
    "# optimizer = tf.keras.optimizers.SGD(learning_rate=0.01, decay=1e-6, momentum=0.9, nesterov=True)\n",
    "loss = tf.keras.losses.SparseCategoricalCrossentropy(\n",
    "    from_logits=True,\n",
    "    reduction='none'\n",
    ")\n",
    "\n",
    "model.compile(loss=loss, optimizer=optimizer)\n",
    "history = model.fit(enc_train, dec_train, epochs=10, batch_size=512, validation_data = (enc_val, dec_val))\n",
    "\n"
   ]
  },
  {
   "cell_type": "code",
   "execution_count": 67,
   "id": "63630805",
   "metadata": {},
   "outputs": [
    {
     "data": {
      "image/png": "[encoded data removed]",
      "text/plain": [
       "<Figure size 576x360 with 1 Axes>"
      ]
     },
     "metadata": {
      "needs_background": "light"
     },
     "output_type": "display_data"
    }
   ],
   "source": [
    "import matplotlib.pyplot as plt\n",
    "\n",
    "plt.figure(figsize=(8, 5))\n",
    "\n",
    "plt.plot(history.history['loss'], marker='.', c='red', label='Train-set Loss')\n",
    "plt.plot(history.history['val_loss'], marker='.', c='blue', label='Validation-set Loss')\n",
    "plt.xlabel('Epoch')\n",
    "plt.ylabel('Loss')\n",
    "plt.legend()\n",
    "plt.show()"
   ]
  },
  {
   "cell_type": "code",
   "execution_count": 68,
   "id": "42c531ac",
   "metadata": {},
   "outputs": [],
   "source": [
    "def generate_text(model, tokenizer, init_sentence=\"<start>\", max_len=20):\n",
    "    # 테스트를 위해서 입력받은 init_sentence도 텐서로 변환\n",
    "    test_input = tokenizer.texts_to_sequences([init_sentence])\n",
    "    test_tensor = tf.convert_to_tensor(test_input, dtype=tf.int64)\n",
    "    end_token = tokenizer.word_index[\"<end>\"]\n",
    "\n",
    "    while True:\n",
    "        # 1\n",
    "        predict = model(test_tensor) \n",
    "        # 2\n",
    "        predict_word = tf.argmax(tf.nn.softmax(predict, axis=-1), axis=-1)[:, -1] \n",
    "        # 3 \n",
    "        test_tensor = tf.concat([test_tensor, tf.expand_dims(predict_word, axis=0)], axis=-1)\n",
    "        # 4\n",
    "        if predict_word.numpy()[0] == end_token: break\n",
    "        if test_tensor.shape[1] >= max_len: break\n",
    "\n",
    "    generated = \"\"\n",
    "    # tokenizer를 이용해 word index를 단어로 하나씩 변환 \n",
    "    for word_index in test_tensor[0].numpy():\n",
    "        generated += tokenizer.index_word[word_index] + \" \"\n",
    "        \n",
    "    return generated"
   ]
  },
  {
   "cell_type": "code",
   "execution_count": 69,
   "id": "aea07136",
   "metadata": {},
   "outputs": [
    {
     "data": {
      "text/plain": [
       "'<start> am i scary for you baby <end> '"
      ]
     },
     "execution_count": 69,
     "metadata": {},
     "output_type": "execute_result"
    }
   ],
   "source": [
    "generate_text(model, tokenizer, init_sentence=\"<start> am\", max_len=20)"
   ]
  },
  {
   "cell_type": "code",
   "execution_count": 70,
   "id": "31e79ceb",
   "metadata": {},
   "outputs": [
    {
     "data": {
      "text/plain": [
       "'<start> talking to the moon <end> '"
      ]
     },
     "execution_count": 70,
     "metadata": {},
     "output_type": "execute_result"
    }
   ],
   "source": [
    "generate_text(model, tokenizer, init_sentence=\"<start> talking\", max_len=20)"
   ]
  },
  {
   "cell_type": "code",
   "execution_count": 71,
   "id": "596b1fdf",
   "metadata": {},
   "outputs": [
    {
     "data": {
      "text/plain": [
       "'<start> will you still love me tomorrow <end> '"
      ]
     },
     "execution_count": 71,
     "metadata": {},
     "output_type": "execute_result"
    }
   ],
   "source": [
    "generate_text(model, tokenizer, init_sentence=\"<start> will\", max_len=20)"
   ]
  },
  {
   "cell_type": "code",
   "execution_count": 72,
   "id": "670c3e7f",
   "metadata": {},
   "outputs": [
    {
     "data": {
      "text/plain": [
       "'<start> won t you give me a sign <end> '"
      ]
     },
     "execution_count": 72,
     "metadata": {},
     "output_type": "execute_result"
    }
   ],
   "source": [
    "generate_text(model, tokenizer, init_sentence=\"<start> won t\", max_len=20)"
   ]
  },
  {
   "cell_type": "markdown",
   "id": "35906aa6",
   "metadata": {},
   "source": [
    "## 최종 회고\n",
    "\n",
    "- 첫번째, 두번째 시도외에도 여러가지 하이퍼 파라미터들을 조정하고, dropout 적용, learning_rate 변경 등 여러 수십가지 다양한 방법을 동원해서 `val_loss`를 **2.2**이하로 떨어뜨리기 위해 시도해 보았지만 실제 `val_loss` 값은 아래와 같은 범위에서 변동될 뿐이었다.  \n",
    ">\n",
    ">- `val_loss` 값 범위 : 약 **2.30 ~ 3.5** 사이였다.\n",
    ">\n",
    "\n",
    "- `val_loss` 향상이 되지 않아서 검색한 아래 사이트도 참고하여 변경/적용해 보았으나 결과는 위와 크게 달라지지 않았다.\n",
    "    - ['val_loss' 향상 이휴 및 정확도 문제](https://lsjsj92.tistory.com/353) \n",
    "\n",
    "- padding 과 관련하여 검색하다가 아래 링크를 참조하여 padding 도 조정해 보았지만 생각처럼 되진 않았다.\n",
    "    - [padding 관련 참고](https://blog.naver.com/qbxlvnf11/221945962124)\n",
    "    \n",
    "    \n",
    "- 루브릭 기준에 **10** epochs 에 `val_loss` **2.2** 가 기준이어서 10 epochs 이상 시도해 보지 않았지만 프로젝트 제출후에 시도해 보려한다.\n",
    "- 정확하게 무엇이 부족하거나 잘못되었기에 이렇게 밖에 안되는지 알 수가 없어서 답답하고 의기소침하게 되는 것 같다.\n",
    "- 이 노드를 진행하면서 명확하게 분석해서 아는 분이 계시다면 자료 공유 및 어드바이스 부탁드리고 싶다.\n",
    "- 앞으로 가야할 길이 멀었지만 더욱 멀게만 느껴지는 한 주를 보낸 것 같다.\n"
   ]
  }
 ],
 "metadata": {
  "kernelspec": {
   "display_name": "Python 3 (ipykernel)",
   "language": "python",
   "name": "python3"
  },
  "language_info": {
   "codemirror_mode": {
    "name": "ipython",
    "version": 3
   },
   "file_extension": ".py",
   "mimetype": "text/x-python",
   "name": "python",
   "nbconvert_exporter": "python",
   "pygments_lexer": "ipython3",
   "version": "3.9.7"
  }
 },
 "nbformat": 4,
 "nbformat_minor": 5
}
