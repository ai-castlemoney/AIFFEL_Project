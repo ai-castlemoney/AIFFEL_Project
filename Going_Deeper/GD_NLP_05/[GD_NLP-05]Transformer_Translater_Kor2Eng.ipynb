{
 "cells": [
  {
   "cell_type": "markdown",
   "id": "aeebb68a",
   "metadata": {},
   "source": [
    "# 프로젝트 : 더 멋진 번역기 만들기\n",
    "---\n",
    "- 한국어 문장 입력으로 부터 영어로 번역된 문장을 출력하는 번역기를 만들어보자. \n",
    "\n",
    "- [jungyeul/korean-parallel-corpora](https://github.com/jungyeul/korean-parallel-corpora/tree/master/korean-english-news-v1)에서 제공하는 데이터셋 활용"
   ]
  },
  {
   "cell_type": "code",
   "execution_count": 2,
   "id": "a3ad9316",
   "metadata": {},
   "outputs": [
    {
     "name": "stdout",
     "output_type": "stream",
     "text": [
      "fonts-nanum is already the newest version (20180306-3).\n",
      "The following packages were automatically installed and are no longer required:\n",
      "  accountsservice-ubuntu-schemas bc bluez-obexd cups cups-browsed cups-client\n",
      "  cups-common cups-core-drivers cups-daemon cups-filters\n",
      "  cups-filters-core-drivers cups-ipp-utils cups-ppdc cups-server-common\n",
      "  fonts-droid-fallback fonts-noto-mono fonts-urw-base35 ghostscript\n",
      "  gir1.2-dbusmenu-glib-0.4 gnome-bluetooth gnome-power-manager\n",
      "  gnome-screensaver gsettings-ubuntu-schemas gvfs-backends indicator-applet\n",
      "  indicator-application indicator-appmenu indicator-bluetooth indicator-common\n",
      "  indicator-datetime indicator-keyboard indicator-messages indicator-power\n",
      "  indicator-printers indicator-session indicator-sound jayatana\n",
      "  libaccounts-glib0 libbamf3-2 libcdio-cdda2 libcdio-paranoia2 libcdio18\n",
      "  libcupsfilters1 libfcitx-config4 libfcitx-gclient1 libfcitx-utils0\n",
      "  libfontembed1 libgnome-panel0 libgs9 libgs9-common libido3-0.1-0 libijs-0.35\n",
      "  libindicator3-7 libjbig2dec0 liblightdm-gobject-1-0 liblouis-data liblouis20\n",
      "  liblouisutdml-bin liblouisutdml-data liblouisutdml9 libmessaging-menu0\n",
      "  libmtp-common libmtp-runtime libmtp9 libnfs13 libpaper-utils libpaper1\n",
      "  libpoppler-cpp0v5 libqpdf26 libunity-gtk2-parser0 libunity-gtk3-parser0\n",
      "  libunity-settings-daemon1 liburl-dispatcher1 lightdm nautilus-data\n",
      "  poppler-utils python3-psutil python3-xdg ssl-cert ubuntu-touch-sounds\n",
      "  unity-greeter unity-gtk-module-common unity-gtk2-module unity-gtk3-module\n",
      "  unity-settings-daemon unity-settings-daemon-schemas\n",
      "Use 'sudo apt autoremove' to remove them.\n",
      "0 upgraded, 0 newly installed, 0 to remove and 0 not upgraded.\n"
     ]
    }
   ],
   "source": [
    "#- 나눔글꼴 설치\n",
    "! sudo apt -qq -y install fonts-nanum"
   ]
  },
  {
   "cell_type": "code",
   "execution_count": 3,
   "id": "e476eb1f",
   "metadata": {},
   "outputs": [
    {
     "name": "stdout",
     "output_type": "stream",
     "text": [
      "Requirement already satisfied: sentencepiece in /opt/conda/lib/python3.9/site-packages (0.1.96)\n",
      "\u001b[33mWARNING: Running pip as the 'root' user can result in broken permissions and conflicting behaviour with the system package manager. It is recommended to use a virtual environment instead: https://pip.pypa.io/warnings/venv\u001b[0m\n"
     ]
    }
   ],
   "source": [
    "#- SentencePiece 설치\n",
    "\n",
    "! pip install sentencepiece"
   ]
  },
  {
   "cell_type": "code",
   "execution_count": 4,
   "id": "b960e749",
   "metadata": {},
   "outputs": [
    {
     "name": "stdout",
     "output_type": "stream",
     "text": [
      "슝=3\n"
     ]
    }
   ],
   "source": [
    "import matplotlib as mpl\n",
    "import matplotlib.pyplot as plt\n",
    "import matplotlib.font_manager as fm\n",
    "\n",
    "%config InlineBackend.figure_format = 'retina'\n",
    " \n",
    "fontpath = '/usr/share/fonts/truetype/nanum/NanumBarunGothic.ttf'\n",
    "font = fm.FontProperties(fname=fontpath, size=9)\n",
    "plt.rc('font', family='NanumBarunGothic') \n",
    "mpl.font_manager.findfont(font)\n",
    "\n",
    "print(\"슝=3\")"
   ]
  },
  {
   "cell_type": "code",
   "execution_count": 5,
   "id": "34cc4477",
   "metadata": {},
   "outputs": [
    {
     "name": "stdout",
     "output_type": "stream",
     "text": [
      "2.6.0\n"
     ]
    }
   ],
   "source": [
    "import tensorflow as tf\n",
    "import numpy as np\n",
    "\n",
    "from sklearn.model_selection import train_test_split\n",
    "\n",
    "import sentencepiece as spm\n",
    "\n",
    "import matplotlib.ticker as ticker\n",
    "import matplotlib.pyplot as plt\n",
    "\n",
    "import re\n",
    "import os\n",
    "import io\n",
    "import time\n",
    "import random\n",
    "\n",
    "from tqdm import tqdm\n",
    "from tqdm import tqdm_notebook\n",
    "import random\n",
    "\n",
    "\n",
    "print(tf.__version__)"
   ]
  },
  {
   "cell_type": "code",
   "execution_count": 6,
   "id": "1060e2ed",
   "metadata": {},
   "outputs": [],
   "source": [
    "data_dir = os.getenv('HOME')+'/aiffel/transformer/data'\n",
    "kor_path = data_dir+\"/korean-english-park.train.ko\"\n",
    "eng_path = data_dir+\"/korean-english-park.train.en\""
   ]
  },
  {
   "cell_type": "code",
   "execution_count": 7,
   "id": "b2f31d23",
   "metadata": {},
   "outputs": [
    {
     "data": {
      "text/plain": [
       "'/aiffel/aiffel/transformer/data'"
      ]
     },
     "execution_count": 7,
     "metadata": {},
     "output_type": "execute_result"
    }
   ],
   "source": [
    "data_dir"
   ]
  },
  {
   "cell_type": "code",
   "execution_count": 8,
   "id": "9633b48d",
   "metadata": {},
   "outputs": [
    {
     "data": {
      "text/plain": [
       "'/aiffel/aiffel/transformer/data/korean-english-park.train.ko'"
      ]
     },
     "execution_count": 8,
     "metadata": {},
     "output_type": "execute_result"
    }
   ],
   "source": [
    "kor_path"
   ]
  },
  {
   "cell_type": "code",
   "execution_count": 9,
   "id": "1fd7c5ea",
   "metadata": {},
   "outputs": [
    {
     "data": {
      "text/plain": [
       "'/aiffel/aiffel/transformer/data/korean-english-park.train.en'"
      ]
     },
     "execution_count": 9,
     "metadata": {},
     "output_type": "execute_result"
    }
   ],
   "source": [
    "eng_path"
   ]
  },
  {
   "cell_type": "code",
   "execution_count": 10,
   "id": "ab220969",
   "metadata": {
    "scrolled": false
   },
   "outputs": [
    {
     "name": "stdout",
     "output_type": "stream",
     "text": [
      "Data Size:(94123,94123)\n",
      "Example:\n",
      ">>\n",
      "한국어 : 개인용 컴퓨터 사용의 상당 부분은 \"이것보다 뛰어날 수 있느냐?\"\n",
      "영어 : Much of personal computing is about \"can you top this?\"\n",
      "\n",
      ">>\n",
      "한국어 : 모든 광마우스와 마찬가지 로 이 광마우스도 책상 위에 놓는 마우스 패드를 필요로 하지 않는다.\n",
      "영어 : so a mention a few weeks ago about a rechargeable wireless optical mouse brought in another rechargeable, wireless mouse.\n",
      "\n",
      ">>\n",
      "한국어 : 그러나 이것은 또한 책상도 필요로 하지 않는다.\n",
      "영어 : Like all optical mice, But it also doesn't need a desk.\n",
      "\n",
      ">>\n",
      "한국어 : 79.95달러하는 이 최첨단 무선 광마우스는 허공에서 팔목, 팔, 그외에 어떤 부분이든 그 움직임에따라 커서의 움직임을 조절하는 회전 운동 센서를 사용하고 있다.\n",
      "영어 : uses gyroscopic sensors to control the cursor movement as you move your wrist, arm, whatever through the air.\n",
      "\n",
      ">>\n",
      "한국어 : 정보 관리들은 동남 아시아에서의 선박들에 대한 많은 (테러) 계획들이 실패로 돌아갔음을 밝혔으며, 세계 해상 교역량의 거의 3분의 1을 운송하는 좁은 해로인 말라카 해협이 테러 공격을 당하기 쉽다고 경고하고 있다.\n",
      "영어 : Intelligence officials have revealed a spate of foiled plots on ships in Southeast Asia and are warning that a narrow stretch of water carrying almost one third of the world's maritime trade is vulnerable to a terror attack.\n",
      "\n"
     ]
    }
   ],
   "source": [
    "with open(kor_path, \"r\") as f: kor = f.read().splitlines()\n",
    "with open(eng_path, \"r\") as f: eng = f.read().splitlines()\n",
    "print(\"Data Size:({},{})\".format(len(kor), len(eng)))\n",
    "print(\"Example:\")\n",
    "\n",
    "cnt = 0\n",
    "for ko, en in zip(kor, eng):\n",
    "    print(f\">>\\n한국어 : {ko}\\n영어 : {en}\\n\")\n",
    "    cnt += 1\n",
    "    if cnt == 5:\n",
    "        break"
   ]
  },
  {
   "cell_type": "markdown",
   "id": "da29b412",
   "metadata": {},
   "source": [
    "# 2. 데이터 정제 및 토큰화 \n",
    "### 1) 중복데이터 제거\n",
    "- set 데이터형이 중복을 허용하지 않는다는 것을 활용해 중복된 데이터 제거 \n",
    "- 중복을 제거한 데이터를 cleaned_corpus 에 저장"
   ]
  },
  {
   "cell_type": "code",
   "execution_count": 11,
   "id": "1bb2c653",
   "metadata": {},
   "outputs": [],
   "source": [
    "# 데이터 정제 및 토큰화\n",
    "def clean_corpus(kor, eng):\n",
    "    assert len(kor) == len(eng)\n",
    "    cleaned_corpus = list(set(zip(kor, eng)))\n",
    "\n",
    "    return cleaned_corpus"
   ]
  },
  {
   "cell_type": "code",
   "execution_count": 12,
   "id": "06360396",
   "metadata": {},
   "outputs": [
    {
     "data": {
      "text/plain": [
       "78968"
      ]
     },
     "execution_count": 12,
     "metadata": {},
     "output_type": "execute_result"
    }
   ],
   "source": [
    "cleaned_corpus = clean_corpus(kor, eng)\n",
    "len(cleaned_corpus)"
   ]
  },
  {
   "cell_type": "markdown",
   "id": "22c559e8",
   "metadata": {},
   "source": [
    "### 2) 정제함수 정의\n",
    "\n",
    "- 모든 입력을 소문자로 변환\n",
    "- 알파벳, 문장부호, 한글만 남기고 모두 제거\n",
    "- 문장부호 양옆에 공백을 추가\n",
    "- 문장 앞뒤의 불필요한 공백을 제거"
   ]
  },
  {
   "cell_type": "code",
   "execution_count": 13,
   "id": "c168a6d4",
   "metadata": {},
   "outputs": [],
   "source": [
    "def preprocess_sentence(sentence):\n",
    "    sentence = sentence.lower() #- 소문자 변환\n",
    "    sentence = re.sub(r\"[^a-zA-Zㄱ-ㅎㅏ-ㅣ가-힣?.!,]+\", \" \", sentence) #- 알파벳, 문장부호, 한글 이외는 제거\n",
    "    sentence = re.sub(r'[\" \"]+', \" \", sentence) #- 여러개의 공백은 하나의 공백으로 바꾸기\n",
    "    sentence = sentence.strip() #- 양쪽 공백 제거\n",
    "    return sentence"
   ]
  },
  {
   "cell_type": "markdown",
   "id": "92ad9362",
   "metadata": {},
   "source": [
    "### 3) 토큰화\n",
    "- 한글 말뭉치 `kor_corpus` 와 영문 말뭉치 `eng_corpus` 를 각각 분리한 후, 정제하여 토큰화 \n",
    "- 토큰화에는 [SentencePiece](https://github.com/google/sentencepiece)를 사용 \n",
    "    - `generate_tokenizer()` 함수를 정의하여 최종적으로 `ko_tokenizer`와 `en_tokenizer`를 얻는다. \n",
    "    - `en_tokenizer`에는 `set_encode_extra_options(\"bos:eos\")` 함수를 실행해 타겟 입력이 문장의 시작 토큰과 끝 토큰을 포함할 수 있게 한다.\n",
    "    - 단어 사전을 매개변수로 받아 원하는 크기의 사전을 정의할 수 있게 한다.(기본 : 20,000)\n",
    "    - 학습 후 저장된 model 파일을 `SentencePieceProcessor()` 클래스에 `Load()`한 후 반환\n",
    "    - 특수 토큰의 인덱스를 아래와 동일하게 지정\n",
    "        - `<PAD>` : 0 / `<BOS>` : 1 / `<EOS>` : 2 / `<UNK>` : 3\n",
    "        \n",
    "- [spm의 입력은 txt로 넣어야 한다.](https://lovit.github.io/nlp/2018/04/02/wpm/)"
   ]
  },
  {
   "cell_type": "code",
   "execution_count": 14,
   "id": "e6d45c51",
   "metadata": {},
   "outputs": [],
   "source": [
    "# Sentencepiece를 활용하여 학습한 tokenizer를 생성합니다.\n",
    "def generate_tokenizer(corpus, \n",
    "                       model_type='unigram', \n",
    "                       vocab_size=32000, \n",
    "                       lang=\"ko\"): \n",
    "    \n",
    "    input_file = f'{lang}_spm_input.txt'\n",
    "\n",
    "    with open(input_file, 'w', encoding='utf-8') as f:\n",
    "        for sent in corpus:\n",
    "            f.write('{}\\n'.format(sent))\n",
    "        \n",
    "    sp_model_root='sentencepiece'\n",
    "    if not os.path.isdir(sp_model_root): os.mkdir(sp_model_root)\n",
    "    \n",
    "    prefix = 'tokenizer_%s_%s' % (lang,model_type+str(vocab_size))\n",
    "    prefix = os.path.join(sp_model_root, prefix) # 저장될 tokenizer 모델에 붙는 이름\n",
    "    pad_id=0\n",
    "    bos_id=1 #<start> token을 1으로 설정\n",
    "    eos_id=2 #<end> token을 2으로 설정\n",
    "    unk_id=3 #<unknown> token을 3으로 설정\n",
    "    character_coverage = 1.0 # to reduce character set \n",
    "    # model_type = model_type # Choose from unigram (default), bpe, char, or word\n",
    "    input_argument = '--input=%s --pad_id=%s --bos_id=%s --eos_id=%s --unk_id=%s --model_prefix=%s --vocab_size=%s --character_coverage=%s --model_type=%s'\n",
    "    cmd = input_argument%(input_file, pad_id, bos_id, eos_id, unk_id, prefix, vocab_size, character_coverage, model_type)\n",
    "                      \n",
    "    spm.SentencePieceTrainer.Train(cmd)\n",
    "    tokenizer = spm.SentencePieceProcessor()\n",
    "    tokenizer.Load(f'{prefix}.model')\n",
    "    \n",
    "    return tokenizer"
   ]
  },
  {
   "cell_type": "code",
   "execution_count": 15,
   "id": "07da8f85",
   "metadata": {
    "scrolled": true
   },
   "outputs": [
    {
     "data": {
      "text/plain": [
       "('삼성은 1999년에서 2002년 사이 PC와 휴대전화에 사용되는 반도체 가격을 다른 반도체 제조업체와 담합한 혐의를 받고 있다.',\n",
       " 'Samsung was accused of conspiring with other chipmakers to fix the price of chips sold for use in PCs and mobile phones between 1999 and 2002.')"
      ]
     },
     "execution_count": 15,
     "metadata": {},
     "output_type": "execute_result"
    }
   ],
   "source": [
    "cleaned_corpus[1]"
   ]
  },
  {
   "cell_type": "code",
   "execution_count": 16,
   "id": "ab22db67",
   "metadata": {
    "scrolled": false
   },
   "outputs": [
    {
     "name": "stderr",
     "output_type": "stream",
     "text": [
      "sentencepiece_trainer.cc(177) LOG(INFO) Running command: --input=ko_spm_input.txt --pad_id=0 --bos_id=1 --eos_id=2 --unk_id=3 --model_prefix=sentencepiece/tokenizer_ko_unigram32000 --vocab_size=32000 --character_coverage=1.0 --model_type=unigram\n",
      "sentencepiece_trainer.cc(77) LOG(INFO) Starts training with : \n",
      "trainer_spec {\n",
      "  input: ko_spm_input.txt\n",
      "  input_format: \n",
      "  model_prefix: sentencepiece/tokenizer_ko_unigram32000\n",
      "  model_type: UNIGRAM\n",
      "  vocab_size: 32000\n",
      "  self_test_sample_size: 0\n",
      "  character_coverage: 1\n",
      "  input_sentence_size: 0\n",
      "  shuffle_input_sentence: 1\n",
      "  seed_sentencepiece_size: 1000000\n",
      "  shrinking_factor: 0.75\n",
      "  max_sentence_length: 4192\n",
      "  num_threads: 16\n",
      "  num_sub_iterations: 2\n",
      "  max_sentencepiece_length: 16\n",
      "  split_by_unicode_script: 1\n",
      "  split_by_number: 1\n",
      "  split_by_whitespace: 1\n",
      "  split_digits: 0\n",
      "  treat_whitespace_as_suffix: 0\n",
      "  allow_whitespace_only_pieces: 0\n",
      "  required_chars: \n",
      "  byte_fallback: 0\n",
      "  vocabulary_output_piece_score: 1\n",
      "  train_extremely_large_corpus: 0\n",
      "  hard_vocab_limit: 1\n",
      "  use_all_vocab: 0\n",
      "  unk_id: 3\n",
      "  bos_id: 1\n",
      "  eos_id: 2\n",
      "  pad_id: 0\n",
      "  unk_piece: <unk>\n",
      "  bos_piece: <s>\n",
      "  eos_piece: </s>\n",
      "  pad_piece: <pad>\n",
      "  unk_surface:  ⁇ \n",
      "}\n",
      "normalizer_spec {\n",
      "  name: nmt_nfkc\n",
      "  add_dummy_prefix: 1\n",
      "  remove_extra_whitespaces: 1\n",
      "  escape_whitespaces: 1\n",
      "  normalization_rule_tsv: \n",
      "}\n",
      "denormalizer_spec {}\n",
      "trainer_interface.cc(329) LOG(INFO) SentenceIterator is not specified. Using MultiFileSentenceIterator.\n",
      "trainer_interface.cc(178) LOG(INFO) Loading corpus: ko_spm_input.txt\n",
      "trainer_interface.cc(385) LOG(INFO) Loaded all 78967 sentences\n",
      "trainer_interface.cc(400) LOG(INFO) Adding meta_piece: <pad>\n",
      "trainer_interface.cc(400) LOG(INFO) Adding meta_piece: <s>\n",
      "trainer_interface.cc(400) LOG(INFO) Adding meta_piece: </s>\n",
      "trainer_interface.cc(400) LOG(INFO) Adding meta_piece: <unk>\n",
      "trainer_interface.cc(405) LOG(INFO) Normalizing sentences...\n",
      "trainer_interface.cc(466) LOG(INFO) all chars count=4952030\n",
      "trainer_interface.cc(487) LOG(INFO) Alphabet size=1671\n",
      "trainer_interface.cc(488) LOG(INFO) Final character coverage=1\n",
      "trainer_interface.cc(520) LOG(INFO) Done! preprocessed 78967 sentences.\n",
      "unigram_model_trainer.cc(139) LOG(INFO) Making suffix array...\n",
      "unigram_model_trainer.cc(143) LOG(INFO) Extracting frequent sub strings...\n",
      "unigram_model_trainer.cc(194) LOG(INFO) Initialized 168830 seed sentencepieces\n",
      "trainer_interface.cc(526) LOG(INFO) Tokenizing input sentences with whitespace: 78967\n",
      "trainer_interface.cc(537) LOG(INFO) Done! 205217\n",
      "unigram_model_trainer.cc(489) LOG(INFO) Using 205217 sentences for EM training\n",
      "unigram_model_trainer.cc(505) LOG(INFO) EM sub_iter=0 size=86587 obj=13.452 num_tokens=401661 num_tokens/piece=4.63881\n",
      "unigram_model_trainer.cc(505) LOG(INFO) EM sub_iter=1 size=74058 obj=12.1955 num_tokens=403034 num_tokens/piece=5.44214\n",
      "unigram_model_trainer.cc(505) LOG(INFO) EM sub_iter=0 size=55536 obj=12.2178 num_tokens=420785 num_tokens/piece=7.5768\n",
      "unigram_model_trainer.cc(505) LOG(INFO) EM sub_iter=1 size=55501 obj=12.1797 num_tokens=421229 num_tokens/piece=7.58957\n",
      "unigram_model_trainer.cc(505) LOG(INFO) EM sub_iter=0 size=41625 obj=12.3453 num_tokens=445922 num_tokens/piece=10.7128\n",
      "unigram_model_trainer.cc(505) LOG(INFO) EM sub_iter=1 size=41622 obj=12.3056 num_tokens=445935 num_tokens/piece=10.7139\n",
      "unigram_model_trainer.cc(505) LOG(INFO) EM sub_iter=0 size=35200 obj=12.4304 num_tokens=460814 num_tokens/piece=13.0913\n",
      "unigram_model_trainer.cc(505) LOG(INFO) EM sub_iter=1 size=35200 obj=12.4056 num_tokens=460819 num_tokens/piece=13.0914\n",
      "trainer_interface.cc(615) LOG(INFO) Saving model: sentencepiece/tokenizer_ko_unigram32000.model\n",
      "trainer_interface.cc(626) LOG(INFO) Saving vocabs: sentencepiece/tokenizer_ko_unigram32000.vocab\n",
      "sentencepiece_trainer.cc(177) LOG(INFO) Running command: --input=en_spm_input.txt --pad_id=0 --bos_id=1 --eos_id=2 --unk_id=3 --model_prefix=sentencepiece/tokenizer_en_unigram32000 --vocab_size=32000 --character_coverage=1.0 --model_type=unigram\n",
      "sentencepiece_trainer.cc(77) LOG(INFO) Starts training with : \n",
      "trainer_spec {\n",
      "  input: en_spm_input.txt\n",
      "  input_format: \n",
      "  model_prefix: sentencepiece/tokenizer_en_unigram32000\n",
      "  model_type: UNIGRAM\n",
      "  vocab_size: 32000\n",
      "  self_test_sample_size: 0\n",
      "  character_coverage: 1\n",
      "  input_sentence_size: 0\n",
      "  shuffle_input_sentence: 1\n",
      "  seed_sentencepiece_size: 1000000\n",
      "  shrinking_factor: 0.75\n",
      "  max_sentence_length: 4192\n",
      "  num_threads: 16\n",
      "  num_sub_iterations: 2\n",
      "  max_sentencepiece_length: 16\n",
      "  split_by_unicode_script: 1\n",
      "  split_by_number: 1\n",
      "  split_by_whitespace: 1\n",
      "  split_digits: 0\n",
      "  treat_whitespace_as_suffix: 0\n",
      "  allow_whitespace_only_pieces: 0\n",
      "  required_chars: \n",
      "  byte_fallback: 0\n",
      "  vocabulary_output_piece_score: 1\n",
      "  train_extremely_large_corpus: 0\n",
      "  hard_vocab_limit: 1\n",
      "  use_all_vocab: 0\n",
      "  unk_id: 3\n",
      "  bos_id: 1\n",
      "  eos_id: 2\n",
      "  pad_id: 0\n",
      "  unk_piece: <unk>\n",
      "  bos_piece: <s>\n",
      "  eos_piece: </s>\n",
      "  pad_piece: <pad>\n",
      "  unk_surface:  ⁇ \n",
      "}\n",
      "normalizer_spec {\n",
      "  name: nmt_nfkc\n",
      "  add_dummy_prefix: 1\n",
      "  remove_extra_whitespaces: 1\n",
      "  escape_whitespaces: 1\n",
      "  normalization_rule_tsv: \n",
      "}\n",
      "denormalizer_spec {}\n",
      "trainer_interface.cc(329) LOG(INFO) SentenceIterator is not specified. Using MultiFileSentenceIterator.\n",
      "trainer_interface.cc(178) LOG(INFO) Loading corpus: en_spm_input.txt\n",
      "trainer_interface.cc(385) LOG(INFO) Loaded all 78956 sentences\n",
      "trainer_interface.cc(400) LOG(INFO) Adding meta_piece: <pad>\n",
      "trainer_interface.cc(400) LOG(INFO) Adding meta_piece: <s>\n",
      "trainer_interface.cc(400) LOG(INFO) Adding meta_piece: </s>\n",
      "trainer_interface.cc(400) LOG(INFO) Adding meta_piece: <unk>\n",
      "trainer_interface.cc(405) LOG(INFO) Normalizing sentences...\n",
      "trainer_interface.cc(466) LOG(INFO) all chars count=10482142\n",
      "trainer_interface.cc(487) LOG(INFO) Alphabet size=31\n",
      "trainer_interface.cc(488) LOG(INFO) Final character coverage=1\n",
      "trainer_interface.cc(520) LOG(INFO) Done! preprocessed 78956 sentences.\n",
      "unigram_model_trainer.cc(139) LOG(INFO) Making suffix array...\n",
      "unigram_model_trainer.cc(143) LOG(INFO) Extracting fre"
     ]
    },
    {
     "data": {
      "text/plain": [
       "True"
      ]
     },
     "execution_count": 16,
     "metadata": {},
     "output_type": "execute_result"
    },
    {
     "name": "stderr",
     "output_type": "stream",
     "text": [
      "quent sub strings...\n",
      "unigram_model_trainer.cc(194) LOG(INFO) Initialized 123580 seed sentencepieces\n",
      "trainer_interface.cc(526) LOG(INFO) Tokenizing input sentences with whitespace: 78956\n",
      "trainer_interface.cc(537) LOG(INFO) Done! 69642\n",
      "unigram_model_trainer.cc(489) LOG(INFO) Using 69642 sentences for EM training\n",
      "unigram_model_trainer.cc(505) LOG(INFO) EM sub_iter=0 size=41593 obj=10.3115 num_tokens=127305 num_tokens/piece=3.06073\n",
      "unigram_model_trainer.cc(505) LOG(INFO) EM sub_iter=1 size=33057 obj=8.11421 num_tokens=127080 num_tokens/piece=3.84427\n",
      "trainer_interface.cc(615) LOG(INFO) Saving model: sentencepiece/tokenizer_en_unigram32000.model\n",
      "trainer_interface.cc(626) LOG(INFO) Saving vocabs: sentencepiece/tokenizer_en_unigram32000.vocab\n"
     ]
    }
   ],
   "source": [
    "SRC_VOCAB_SIZE = TGT_VOCAB_SIZE = 32000\n",
    "\n",
    "eng_corpus = []\n",
    "kor_corpus = []\n",
    "\n",
    "for pair in cleaned_corpus:\n",
    "    k, e = pair[0],pair[1]\n",
    "\n",
    "    kor_corpus.append(preprocess_sentence(k))\n",
    "    eng_corpus.append(preprocess_sentence(e))\n",
    "\n",
    "ko_tokenizer = generate_tokenizer(kor_corpus, 'unigram', SRC_VOCAB_SIZE, \"ko\")\n",
    "en_tokenizer = generate_tokenizer(eng_corpus, 'unigram', TGT_VOCAB_SIZE, \"en\")\n",
    "en_tokenizer.set_encode_extra_options(\"bos:eos\")"
   ]
  },
  {
   "cell_type": "code",
   "execution_count": 17,
   "id": "ad17b596",
   "metadata": {},
   "outputs": [],
   "source": [
    "ko_test_txts = ['세계기상기구는 “코로나19에 따른 경제 활동 둔화로 탄소 배출이 일시적으로 줄었지만, 대기 중 이산화탄소 농도에 뚜렷한 영향을 주지 못했다”고 설명했다.','기후변화 대응·적응에 필요한 재원 분담 과정에서 나타나는 선진국과 개발도상국의 이견도 오래 묵은 논쟁거리다.']\n",
    "en_test_txts = ['Democrats, including President Biden, are lobbying for Senator Joe Manchin’s support, knowing he is a crucial swing vote on their domestic agenda.','The contest to fill a vacant State House seat in South Texas has exposed the vulnerabilities of a Democratic stronghold.']\n"
   ]
  },
  {
   "cell_type": "code",
   "execution_count": 18,
   "id": "fb35195f",
   "metadata": {},
   "outputs": [],
   "source": [
    "def testSP(sp, txts):\n",
    "    tokens_list = []\n",
    "    for txt in txts:\n",
    "        tokens = sp.encode_as_pieces(txt)\n",
    "        #ids = sp.encode_as_ids(txt)\n",
    "        tokens_list.append(tokens)\n",
    "    return tokens_list"
   ]
  },
  {
   "cell_type": "code",
   "execution_count": 19,
   "id": "55b530ba",
   "metadata": {},
   "outputs": [
    {
     "data": {
      "text/plain": [
       "[['▁세계',\n",
       "  '기',\n",
       "  '상',\n",
       "  '기구',\n",
       "  '는',\n",
       "  '▁',\n",
       "  '“',\n",
       "  '코',\n",
       "  '로',\n",
       "  '나',\n",
       "  '19',\n",
       "  '에',\n",
       "  '▁따른',\n",
       "  '▁경제',\n",
       "  '▁활동',\n",
       "  '▁둔화',\n",
       "  '로',\n",
       "  '▁탄소',\n",
       "  '▁배출',\n",
       "  '이',\n",
       "  '▁일시적',\n",
       "  '으로',\n",
       "  '▁줄',\n",
       "  '었지만',\n",
       "  ',',\n",
       "  '▁대기',\n",
       "  '▁중',\n",
       "  '▁이산화탄소',\n",
       "  '▁농도',\n",
       "  '에',\n",
       "  '▁뚜렷',\n",
       "  '한',\n",
       "  '▁영향',\n",
       "  '을',\n",
       "  '▁주지',\n",
       "  '▁못했다',\n",
       "  '”',\n",
       "  '고',\n",
       "  '▁설명했다',\n",
       "  '.'],\n",
       " ['▁기후변화',\n",
       "  '▁대응',\n",
       "  '·',\n",
       "  '적',\n",
       "  '응',\n",
       "  '에',\n",
       "  '▁필요한',\n",
       "  '▁재원',\n",
       "  '▁분담',\n",
       "  '▁과정에서',\n",
       "  '▁나타나',\n",
       "  '는',\n",
       "  '▁선진국',\n",
       "  '과',\n",
       "  '▁개발도상국',\n",
       "  '의',\n",
       "  '▁이견',\n",
       "  '도',\n",
       "  '▁오래',\n",
       "  '▁묵',\n",
       "  '은',\n",
       "  '▁논쟁거리',\n",
       "  '다',\n",
       "  '.']]"
      ]
     },
     "execution_count": 19,
     "metadata": {},
     "output_type": "execute_result"
    }
   ],
   "source": [
    "testSP(ko_tokenizer, ko_test_txts)"
   ]
  },
  {
   "cell_type": "code",
   "execution_count": 20,
   "id": "2543efbf",
   "metadata": {},
   "outputs": [
    {
     "data": {
      "text/plain": [
       "[['<s>',\n",
       "  '▁',\n",
       "  'D',\n",
       "  'em',\n",
       "  'ocrats',\n",
       "  ',',\n",
       "  '▁including',\n",
       "  '▁',\n",
       "  'P',\n",
       "  'res',\n",
       "  'ident',\n",
       "  '▁',\n",
       "  'B',\n",
       "  'iden',\n",
       "  ',',\n",
       "  '▁are',\n",
       "  '▁lobby',\n",
       "  'ing',\n",
       "  '▁for',\n",
       "  '▁',\n",
       "  'S',\n",
       "  'en',\n",
       "  'ator',\n",
       "  '▁',\n",
       "  'J',\n",
       "  'o',\n",
       "  'e',\n",
       "  '▁',\n",
       "  'M',\n",
       "  'an',\n",
       "  'chi',\n",
       "  'n',\n",
       "  '’',\n",
       "  's',\n",
       "  '▁support',\n",
       "  ',',\n",
       "  '▁knowing',\n",
       "  '▁he',\n",
       "  '▁is',\n",
       "  '▁a',\n",
       "  '▁crucial',\n",
       "  '▁swing',\n",
       "  '▁vote',\n",
       "  '▁on',\n",
       "  '▁their',\n",
       "  '▁domestic',\n",
       "  '▁agenda',\n",
       "  '.',\n",
       "  '</s>'],\n",
       " ['<s>',\n",
       "  '▁',\n",
       "  'T',\n",
       "  'he',\n",
       "  '▁contest',\n",
       "  '▁to',\n",
       "  '▁fill',\n",
       "  '▁a',\n",
       "  '▁vacant',\n",
       "  '▁',\n",
       "  'S',\n",
       "  'tate',\n",
       "  '▁',\n",
       "  'H',\n",
       "  'ouse',\n",
       "  '▁seat',\n",
       "  '▁in',\n",
       "  '▁',\n",
       "  'S',\n",
       "  'out',\n",
       "  'h',\n",
       "  '▁',\n",
       "  'T',\n",
       "  'ex',\n",
       "  'as',\n",
       "  '▁has',\n",
       "  '▁exposed',\n",
       "  '▁the',\n",
       "  '▁vulnerabilities',\n",
       "  '▁of',\n",
       "  '▁a',\n",
       "  '▁',\n",
       "  'D',\n",
       "  'e',\n",
       "  'mo',\n",
       "  'cratic',\n",
       "  '▁stronghold',\n",
       "  '.',\n",
       "  '</s>']]"
      ]
     },
     "execution_count": 20,
     "metadata": {},
     "output_type": "execute_result"
    }
   ],
   "source": [
    "testSP(en_tokenizer, en_test_txts)"
   ]
  },
  {
   "cell_type": "markdown",
   "id": "de084823",
   "metadata": {},
   "source": [
    "### 4) 데이터 선별\n",
    "- 토크나이저를 활용해 토큰의 길이가 50 이하인 데이터를 선별하여 src_corpus 와 tgt_corpus 를 각각 구축\n",
    "- 이후 텐서 enc_train 과 dec_train 으로 변환"
   ]
  },
  {
   "cell_type": "code",
   "execution_count": 21,
   "id": "eb522f74",
   "metadata": {},
   "outputs": [
    {
     "data": {
      "application/vnd.jupyter.widget-view+json": {
       "model_id": "6b8691cb7e6f4c3f85d222f6a91c8579",
       "version_major": 2,
       "version_minor": 0
      },
      "text/plain": [
       "  0%|          | 0/78968 [00:00<?, ?it/s]"
      ]
     },
     "metadata": {},
     "output_type": "display_data"
    }
   ],
   "source": [
    "from tqdm.notebook import tqdm    # Process 과정을 보기 위해\n",
    "\n",
    "src_corpus = []\n",
    "tgt_corpus = []\n",
    "\n",
    "assert len(kor_corpus) == len(eng_corpus)\n",
    "\n",
    "# 토큰의 길이가 50 이하인 문장만 남깁니다. \n",
    "for idx in tqdm(range(len(kor_corpus))):\n",
    "    src = ko_tokenizer.EncodeAsIds(kor_corpus[idx])\n",
    "    tgt = en_tokenizer.EncodeAsIds(eng_corpus[idx])\n",
    "    \n",
    "    if len(src) <= 50 and len(tgt) <= 50 :\n",
    "        src_corpus.append(src)\n",
    "        tgt_corpus.append(tgt)\n",
    "\n",
    "# 패딩처리를 완료하여 학습용 데이터를 완성합니다. \n",
    "enc_train = tf.keras.preprocessing.sequence.pad_sequences(src_corpus, padding='post')\n",
    "dec_train = tf.keras.preprocessing.sequence.pad_sequences(tgt_corpus, padding='post')"
   ]
  },
  {
   "cell_type": "markdown",
   "id": "fce317d3",
   "metadata": {},
   "source": [
    "# 3. 모델 설계\n"
   ]
  },
  {
   "cell_type": "code",
   "execution_count": 22,
   "id": "fb580ff1",
   "metadata": {},
   "outputs": [],
   "source": [
    "def positional_encoding(pos, d_model):\n",
    "    def cal_angle(position, i):\n",
    "        return position / np.power(10000, int(i)/d_model)\n",
    "    \n",
    "    def get_posi_angle_vec(position):\n",
    "        return [cal_angle(position, i) for i in range(d_model)]\n",
    "    \n",
    "    sinusoid_table = np.array([get_posi_angle_vec(pos_i) for pos_i in range(pos)])\n",
    "    \n",
    "    sinusoid_table[:, 0::2] = np.sin(sinusoid_table[:, 0::2])\n",
    "    sinusoid_table[:, 1::2] = np.cos(sinusoid_table[:, 1::2])\n",
    "    \n",
    "    return sinusoid_table"
   ]
  },
  {
   "cell_type": "code",
   "execution_count": 23,
   "id": "e40e95d2",
   "metadata": {},
   "outputs": [],
   "source": [
    "class MultiHeadAttention(tf.keras.layers.Layer):\n",
    "    def __init__(self, d_model, num_heads):\n",
    "        super(MultiHeadAttention, self).__init__()\n",
    "        self.num_heads = num_heads\n",
    "        self.d_model = d_model\n",
    "        \n",
    "        self.depth = d_model // self.num_heads\n",
    "        \n",
    "        self.W_q = tf.keras.layers.Dense(d_model)  \n",
    "        self.W_k = tf.keras.layers.Dense(d_model)\n",
    "        self.W_v = tf.keras.layers.Dense(d_model)\n",
    "        \n",
    "        self.linear = tf.keras.layers.Dense(d_model)\n",
    "    \n",
    "    def scaled_dot_product_attention(self, Q, K, V, mask):\n",
    "        d_k = tf.cast(K.shape[-1], tf.float32)\n",
    "        \n",
    "        QK = tf.matmul(Q, K, transpose_b=True)\n",
    "        scaled_qk = QK / tf.math.sqrt(d_k)\n",
    "        \n",
    "        if mask is not None:\n",
    "            scaled_qk += (mask * -1e9)\n",
    "        \n",
    "        attentions = tf.nn.softmax(scaled_qk, axis=-1)\n",
    "        out = tf.matmul(attentions, V)\n",
    "        return out, attentions \n",
    "    \n",
    "    def scaled_dot_product_attention(self, Q, K, V, mask):\n",
    "        d_k = tf.cast(K.shape[-1], tf.float32)\n",
    "        \n",
    "        # Scaled QK 값 구하기\n",
    "        QK = tf.matmul(Q, K, transpose_b=True)\n",
    "        scaled_qk = QK / tf.math.sqrt(d_k)\n",
    "        \n",
    "        if mask is not None:\n",
    "            scaled_qk += (mask * -1e9)\n",
    "        \n",
    "        # 1. Attention Weights 값 구하기 -> attentions\n",
    "        attentions = tf.nn.softmax(scaled_qk, axis=-1)\n",
    "        # 2. Attention 값을 V에 곱하기 -> out\n",
    "        out = tf.matmul(attentions, V)\n",
    "        return out, attentions\n",
    "    \n",
    "    def split_heads(self, x):\n",
    "        \"\"\"\n",
    "        Embedding된 입력을 head의 수로 분할하는 함수\n",
    "        \n",
    "        x: [ batch x length x emb ]\n",
    "        return: [ batch x length x heads x self.depth ]\n",
    "        \"\"\"\n",
    "        bsz = x.shape[0]\n",
    "        split_x = tf.reshape(x, (bsz, -1, self.num_heads, self.depth))\n",
    "        split_x = tf.transpose(split_x, perm=[0, 2, 1, 3])\n",
    "        return split_x\n",
    "    \n",
    "    def combine_heads(self, x):\n",
    "        \"\"\"\n",
    "        분할된 Embedding을 하나로 결합하는 함수\n",
    "        \n",
    "        x: [ batch x length x heads x self.depth ]\n",
    "        return: [ batch x length x emb ]\n",
    "        \"\"\"\n",
    "        bsz = x.shape[0]\n",
    "        combined_x = tf.transpose(x, perm=[0, 2, 1, 3])\n",
    "        combined_x = tf.reshape(combined_x, (bsz, -1, self.d_model))\n",
    "        return combined_x\n",
    "    \n",
    "    def call(self, Q, K, V, mask):\n",
    "        \"\"\"\n",
    "        Step 1: Linear_in(Q, K, V) -> WQ, WK, WV\n",
    "        Step 2: Split Heads(WQ, WK, WV) -> WQ_split, WK_split, WV_split\n",
    "        Step 3: Scaled Dot Product Attention(WQ_split, WK_split, WV_split)\n",
    "                 -> out, attention_weights\n",
    "        Step 4: Combine Heads(out) -> out\n",
    "        Step 5: Linear_out(out) -> out\n",
    "        \"\"\"\n",
    "        WQ = self.W_q(Q)\n",
    "        WK = self.W_k(K)\n",
    "        WV = self.W_v(V)\n",
    "        \n",
    "        WQ_splits = self.split_heads(WQ)\n",
    "        WK_splits = self.split_heads(WK)\n",
    "        WV_splits = self.split_heads(WV)\n",
    "        \n",
    "        out, attention_weights = self.scaled_dot_product_attention(\n",
    "            WQ_splits, WK_splits, WV_splits, mask\n",
    "        )\n",
    "        \n",
    "        out = self.combine_heads(out)\n",
    "        out = self.linear(out)\n",
    "        \n",
    "        return out, attention_weights"
   ]
  },
  {
   "cell_type": "code",
   "execution_count": 24,
   "id": "46a88cf1",
   "metadata": {},
   "outputs": [],
   "source": [
    "class PoswiseFeedForwardNet(tf.keras.layers.Layer):\n",
    "    def __init__(self, d_model, d_ff):\n",
    "        super(PoswiseFeedForwardNet, self).__init__()\n",
    "        self.w_1 = tf.keras.layers.Dense(d_ff, activation='relu')\n",
    "        self.w_2 = tf.keras.layers.Dense(d_model)\n",
    "        \n",
    "    def call(self, x):\n",
    "        out = self.w_1(x)\n",
    "        out = self.w_2(out)\n",
    "        return out"
   ]
  },
  {
   "cell_type": "code",
   "execution_count": 25,
   "id": "ecfee4b9",
   "metadata": {},
   "outputs": [],
   "source": [
    "class EncoderLayer(tf.keras.layers.Layer):\n",
    "    def __init__(self, d_model, n_heads, d_ff, dropout):\n",
    "        super(EncoderLayer, self).__init__()\n",
    "        self.enc_self_attn = MultiHeadAttention(d_model, n_heads)\n",
    "        self.ffn = PoswiseFeedForwardNet(d_model, d_ff)\n",
    "        \n",
    "        self.norm_1 = tf.keras.layers.LayerNormalization(epsilon=1e-6)\n",
    "        self.norm_2 = tf.keras.layers.LayerNormalization(epsilon=1e-6)\n",
    "        \n",
    "        self.do = tf.keras.layers.Dropout(dropout)\n",
    "        \n",
    "    def call(self, x, mask):\n",
    "        #- Multi-Head Attention\n",
    "        residual = x\n",
    "        out = self.norm_1(x)\n",
    "        out, enc_attn = self.enc_self_attn(out, out, out, mask)\n",
    "        out = self.do(out)\n",
    "        out += residual\n",
    "        \n",
    "        #- Position-Wise Feed Forward Network\n",
    "        residual = out\n",
    "        out = self.norm_2(out)\n",
    "        out = self.ffn(out)\n",
    "        out = self.do(out)\n",
    "        out += residual\n",
    "        \n",
    "        return out, enc_attn"
   ]
  },
  {
   "cell_type": "code",
   "execution_count": 26,
   "id": "6c1cff25",
   "metadata": {},
   "outputs": [],
   "source": [
    "class DecoderLayer(tf.keras.layers.Layer):\n",
    "    def __init__(self, d_model, num_heads, d_ff, dropout):\n",
    "        super(DecoderLayer, self).__init__()\n",
    "\n",
    "        self.dec_self_attn = MultiHeadAttention(d_model, num_heads)\n",
    "        self.enc_dec_attn = MultiHeadAttention(d_model, num_heads)\n",
    "\n",
    "        self.ffn = PoswiseFeedForwardNet(d_model, d_ff)\n",
    "\n",
    "        self.norm_1 = tf.keras.layers.LayerNormalization(epsilon=1e-6)\n",
    "        self.norm_2 = tf.keras.layers.LayerNormalization(epsilon=1e-6)\n",
    "        self.norm_3 = tf.keras.layers.LayerNormalization(epsilon=1e-6)\n",
    "\n",
    "        self.do = tf.keras.layers.Dropout(dropout)\n",
    "        \n",
    "    def call(self, x, enc_out, causality_mask, padding_mask):\n",
    "        #- Masked Multi-Head Attention\n",
    "        residual = x\n",
    "        out = self.norm_1(x)\n",
    "        out, dec_attn = self.dec_self_attn(out, out, out, padding_mask)\n",
    "        out = self.do(out)\n",
    "        out += residual\n",
    "        \n",
    "        #- Multi-Head Attention\n",
    "        residual = out\n",
    "        out = self.norm_2(out)\n",
    "        out, dec_enc_attn = self.enc_dec_attn(out, enc_out, enc_out, causality_mask)\n",
    "        out = self.do(out)\n",
    "        out += residual\n",
    "\n",
    "        #- Position-Wise Feed Forward Network\n",
    "        residual = out\n",
    "        out = self.norm_3(out)\n",
    "        out = self.ffn(out)\n",
    "        out = self.do(out)\n",
    "        out += residual\n",
    "\n",
    "        return out, dec_attn, dec_enc_attn"
   ]
  },
  {
   "cell_type": "code",
   "execution_count": 27,
   "id": "94d9c68c",
   "metadata": {},
   "outputs": [],
   "source": [
    "class Encoder(tf.keras.Model):\n",
    "    def __init__(self, n_layers, d_model, n_heads, d_ff, dropout):\n",
    "        super(Encoder, self).__init__()\n",
    "        self.n_layers = n_layers\n",
    "        self.enc_layers = [EncoderLayer(d_model, n_heads, d_ff, dropout) for _ in range(n_layers)]\n",
    "        self.do = tf.keras.layers.Dropout(dropout)\n",
    "        \n",
    "    def call(self, x, mask):\n",
    "        out = x\n",
    "        enc_attns = list()\n",
    "        for i in range(self.n_layers):\n",
    "            out, enc_attn = self.enc_layers[i](out, mask)\n",
    "            enc_attns.append(enc_attn)\n",
    "            \n",
    "        return out, enc_attns"
   ]
  },
  {
   "cell_type": "code",
   "execution_count": 28,
   "id": "8fbcb982",
   "metadata": {},
   "outputs": [],
   "source": [
    "class Decoder(tf.keras.Model):\n",
    "    def __init__(self, n_layers, d_model, n_heads, d_ff, dropout):\n",
    "        super(Decoder, self).__init__()\n",
    "        self.n_layers = n_layers\n",
    "        self.dec_layers = [DecoderLayer(d_model, n_heads, d_ff, dropout) for _ in range(n_layers)]\n",
    "        \n",
    "    def call(self, x, enc_out, causality_mask, padding_mask):\n",
    "        out = x\n",
    "        dec_attns = list()\n",
    "        dec_enc_attns = list()\n",
    "        for i in range(self.n_layers):\n",
    "            out, dec_attn, dec_enc_attn = self.dec_layers[i](out, enc_out, causality_mask, padding_mask)\n",
    "            dec_attns.append(dec_attn)\n",
    "            dec_enc_attns.append(dec_enc_attn)\n",
    "        \n",
    "        return out, dec_attns, dec_enc_attns"
   ]
  },
  {
   "cell_type": "code",
   "execution_count": 29,
   "id": "dc20dc9d",
   "metadata": {},
   "outputs": [],
   "source": [
    "class Transformer(tf.keras.Model):\n",
    "    def __init__(self, n_layers, d_model, n_heads, d_ff, src_vocab_size, tgt_vocab_size,\n",
    "                 pos_len, dropout=0.2, shared=True):\n",
    "        super(Transformer, self).__init__()\n",
    "        self.d_model = tf.cast(d_model, tf.float32)\n",
    "        \n",
    "        #- 1. Embedding Layer 정의\n",
    "        self.enc_emb = tf.keras.layers.Embedding(src_vocab_size, d_model)\n",
    "        self.dec_emb = tf.keras.layers.Embedding(tgt_vocab_size, d_model)\n",
    "        \n",
    "        #- 2. Positional Encoding 정의\n",
    "        self.pos_encoding = positional_encoding(pos_len, d_model)\n",
    "        #- 6. Dropout 정의\n",
    "        self.do = tf.keras.layers.Dropout(dropout)\n",
    "        \n",
    "        #- 3. Encoder / Decoder 정의\n",
    "        self.encoder = Encoder(n_layers, d_model, n_heads, d_ff, dropout)\n",
    "        self.decoder = Decoder(n_layers, d_model, n_heads, d_ff, dropout)\n",
    "        \n",
    "        #- 4. Output Linear 정의\n",
    "        self.fc = tf.keras.layers.Dense(tgt_vocab_size)\n",
    "        \n",
    "        #- 5. Shared Weights\n",
    "        self.shared = shared\n",
    "        \n",
    "        if shared:\n",
    "            self.fc.set_weights(tf.transpose(self.dec_emb.weights))\n",
    "        \n",
    "        \n",
    "    def embedding(self, emb, x):\n",
    "        \"\"\"\n",
    "        입력된 정수 배열을 Embedding + Pos Encoding\n",
    "        + Shared일 경우 Scaling 작업 포함\n",
    "\n",
    "        x: [ batch x length ]\n",
    "        return: [ batch x length x emb ]\n",
    "        \"\"\"\n",
    "        seq_len = x.shape[1]\n",
    "        out = emb(x)\n",
    "        \n",
    "        if self.shared:\n",
    "            out *= tf.math.sqrt(self.d_model)\n",
    "        \n",
    "        out += self.pos_encoding[np.newaxis, ...][:, :seq_len, :]\n",
    "        out = self.do(out)\n",
    "        \n",
    "        return out\n",
    "    \n",
    "    def call(self, enc_in, dec_in, enc_mask, causality_mask, dec_mask):\n",
    "        #- Step 1: Embedding(enc_in, dec_in) -> enc_in, dec_in\n",
    "        enc_in = self.embedding(self.enc_emb, enc_in)\n",
    "        dec_in = self.embedding(self.dec_emb, dec_in)\n",
    "        \n",
    "        #- Step 2: Encoder(enc_in, enc_mask) -> enc_out, enc_attns\n",
    "        enc_out, enc_attns = self.encoder(enc_in, enc_mask)\n",
    "\n",
    "        #- Step 3: Decoder(dec_in, enc_out, mask) -> dec_out, dec_attns, dec_enc_attns\n",
    "        dec_out, dec_attns, dec_enc_attns = self.decoder(dec_in, enc_out, causality_mask, dec_mask)\n",
    "        \n",
    "        #- Step 4: Out Linear(dec_out) -> logits\n",
    "        logits = self.fc(dec_out)\n",
    "        \n",
    "        return logits, enc_attns, dec_attns, dec_enc_attns"
   ]
  },
  {
   "cell_type": "code",
   "execution_count": 30,
   "id": "71260dc1",
   "metadata": {},
   "outputs": [],
   "source": [
    "def generate_padding_mask(seq):\n",
    "    seq = tf.cast(tf.math.equal(seq, 0), tf.float32)\n",
    "    return seq[:, tf.newaxis, tf.newaxis, :]\n",
    "\n",
    "def generate_causality_mask(src_len, tgt_len):\n",
    "    mask = 1 - np.cumsum(np.eye(src_len, tgt_len), 0)\n",
    "    return tf.cast(mask, tf.float32)\n",
    "\n",
    "def generate_masks(src, tgt):\n",
    "    enc_mask = generate_padding_mask(src)\n",
    "    dec_mask = generate_padding_mask(tgt)\n",
    "\n",
    "    dec_enc_causality_mask = generate_causality_mask(tgt.shape[1], src.shape[1])\n",
    "    dec_enc_mask = tf.maximum(enc_mask, dec_enc_causality_mask)\n",
    "\n",
    "    dec_causality_mask = generate_causality_mask(tgt.shape[1], tgt.shape[1])\n",
    "    dec_mask = tf.maximum(dec_mask, dec_causality_mask)\n",
    "\n",
    "    return enc_mask, dec_enc_mask, dec_mask"
   ]
  },
  {
   "cell_type": "markdown",
   "id": "87f07818",
   "metadata": {},
   "source": [
    "# 4. 훈련\n",
    "### 1) 모델 선언\n",
    "- Layer를 가지는 Transformer 선언. (하이퍼파라미터는 자유롭게 조절)"
   ]
  },
  {
   "cell_type": "code",
   "execution_count": 31,
   "id": "60b5ba3e",
   "metadata": {},
   "outputs": [],
   "source": [
    "transformer = Transformer(\n",
    "    n_layers=4,\n",
    "    d_model=512,\n",
    "    n_heads=8,\n",
    "    d_ff=2048,\n",
    "    src_vocab_size=SRC_VOCAB_SIZE,\n",
    "    tgt_vocab_size=TGT_VOCAB_SIZE,\n",
    "    pos_len=200,\n",
    "    dropout=0.2,\n",
    "    shared=True\n",
    ")"
   ]
  },
  {
   "cell_type": "markdown",
   "id": "bd5c9c8b",
   "metadata": {},
   "source": [
    "### 2) Learning Rate Scheduler\n",
    "- 논문에서 사용한 것과 동일한 Learning Rate Scheduler를 선언하고, 이를 포함하는 Adam Optimizer를 선언합니다. "
   ]
  },
  {
   "cell_type": "code",
   "execution_count": 32,
   "id": "30997500",
   "metadata": {},
   "outputs": [],
   "source": [
    "class LearningRateScheduler(tf.keras.optimizers.schedules.LearningRateSchedule):\n",
    "    def __init__(self, d_model, warmup_steps=4000):\n",
    "        super(LearningRateScheduler, self).__init__()\n",
    "        self.d_model = d_model\n",
    "        self.warmup_steps = warmup_steps\n",
    "    \n",
    "    def __call__(self, step):\n",
    "        arg1 = step ** -0.5\n",
    "        arg2 = step * (self.warmup_steps ** -1.5)\n",
    "        \n",
    "        return (self.d_model ** -0.5) * tf.math.minimum(arg1, arg2)"
   ]
  },
  {
   "cell_type": "code",
   "execution_count": 33,
   "id": "41b1c794",
   "metadata": {},
   "outputs": [],
   "source": [
    "learning_rate = LearningRateScheduler(512)\n",
    "optimizer = tf.keras.optimizers.Adam(learning_rate, beta_1=0.9, beta_2=0.98, epsilon=1e-9)"
   ]
  },
  {
   "cell_type": "markdown",
   "id": "b26ce3b6",
   "metadata": {},
   "source": [
    "### 3) Loss 함수 정의\n",
    "- Sequence-to-sequence 모델에서 사용했던 Loss와 유사하되, Masking 되지 않은 입력의 개수로 Scaling하는 과정을 추가합니다. (트랜스포머가 모든 입력에 대한 Loss를 한 번에 구하기 때문입니다.)"
   ]
  },
  {
   "cell_type": "code",
   "execution_count": 34,
   "id": "9cf7b83c",
   "metadata": {},
   "outputs": [],
   "source": [
    "loss_object = tf.keras.losses.SparseCategoricalCrossentropy(\n",
    "    from_logits=True, reduction='none')\n",
    "\n",
    "def loss_function(real, pred):\n",
    "    mask = tf.math.logical_not(tf.math.equal(real, 0))\n",
    "    loss_ = loss_object(real, pred)\n",
    "\n",
    "    # Masking 되지 않은 입력의 개수로 Scaling하는 과정\n",
    "    mask = tf.cast(mask, dtype=loss_.dtype)\n",
    "    loss_ *= mask\n",
    "\n",
    "    return tf.reduce_sum(loss_)/tf.reduce_sum(mask)"
   ]
  },
  {
   "cell_type": "markdown",
   "id": "21f33238",
   "metadata": {},
   "source": [
    "### 4) train_step 함수 정의\n",
    "- 입력 데이터에 알맞은 Mask를 생성하고, 이를 모델에 전달하여 연산에서 사용할 수 있게 합니다. "
   ]
  },
  {
   "cell_type": "code",
   "execution_count": 35,
   "id": "e94cba87",
   "metadata": {},
   "outputs": [],
   "source": [
    "# Train Step 함수 정의\n",
    "\n",
    "@tf.function()\n",
    "def train_step(src, tgt, model, optimizer):\n",
    "    gold = tgt[:, 1:]\n",
    "        \n",
    "    enc_mask, dec_enc_mask, dec_mask = generate_masks(src, tgt)\n",
    "\n",
    "    # 계산된 loss에 tf.GradientTape()를 적용해 학습을 진행합니다.\n",
    "    with tf.GradientTape() as tape:\n",
    "        predictions, enc_attns, dec_attns, dec_enc_attns = \\\n",
    "        model(src, tgt, enc_mask, dec_enc_mask, dec_mask)\n",
    "        loss = loss_function(gold, predictions[:, :-1])\n",
    "\n",
    "    # 최종적으로 optimizer.apply_gradients()가 사용됩니다. \n",
    "    gradients = tape.gradient(loss, model.trainable_variables)    \n",
    "    optimizer.apply_gradients(zip(gradients, model.trainable_variables))\n",
    "    \n",
    "    return loss, enc_attns, dec_attns, dec_enc_attns"
   ]
  },
  {
   "cell_type": "markdown",
   "id": "b68d9f7a",
   "metadata": {},
   "source": [
    "### 5) 학습 진행\n",
    "- 매 Epoch 마다 제시된 예문에 대한 번역을 생성하고, 멋진 번역이 생성되면 그때의 하이퍼파라미터와 생성된 번역을 기록합니다. \n",
    "\n",
    "- 예문\n",
    "    1. 오바마는 대통령이다.\n",
    "    2. 시민들은 도시 속에 산다.\n",
    "    3. 커피는 필요 없다.\n",
    "    4. 일곱 명의 사망자가 발생했다.\n",
    "    5. 투표는 시민의 권리이다.\n",
    "    6. 음주는 만성간염, 간경변증, 간암의 대표적인 원인이다.\n",
    "    7. 친환경 에너지 정책을 펼쳐온 미국 조 바이든 행정부가 올 들어 석탄 사용량을 늘린 것으로 나타났다.\n",
    "    8. 박씨는 몇 년 전 국제마피아파를 탈퇴해 ‘관심 대상’으로 분류됐다고 한다.\n",
    "    "
   ]
  },
  {
   "cell_type": "code",
   "execution_count": 36,
   "id": "ec610c3f",
   "metadata": {},
   "outputs": [],
   "source": [
    "# Attention 시각화 함수\n",
    "\n",
    "def visualize_attention(src, tgt, enc_attns, dec_attns, dec_enc_attns):\n",
    "    def draw(data, ax, x=\"auto\", y=\"auto\"):\n",
    "        import seaborn\n",
    "        seaborn.heatmap(data, \n",
    "                        square=True,\n",
    "                        vmin=0.0, vmax=1.0, \n",
    "                        cbar=False, ax=ax,\n",
    "                        xticklabels=x,\n",
    "                        yticklabels=y)\n",
    "        \n",
    "    for layer in range(0, 2, 1):\n",
    "        fig, axs = plt.subplots(1, 4, figsize=(20, 10))\n",
    "        print(\"Encoder Layer\", layer + 1)\n",
    "        for h in range(4):\n",
    "            draw(enc_attns[layer][0, h, :len(src), :len(src)], axs[h], src, src)\n",
    "        plt.show()\n",
    "        \n",
    "    for layer in range(0, 2, 1):\n",
    "        fig, axs = plt.subplots(1, 4, figsize=(20, 10))\n",
    "        print(\"Decoder Self Layer\", layer+1)\n",
    "        for h in range(4):\n",
    "            draw(dec_attns[layer][0, h, :len(tgt), :len(tgt)], axs[h], tgt, tgt)\n",
    "        plt.show()\n",
    "\n",
    "        print(\"Decoder Src Layer\", layer+1)\n",
    "        fig, axs = plt.subplots(1, 4, figsize=(20, 10))\n",
    "        for h in range(4):\n",
    "            draw(dec_enc_attns[layer][0, h, :len(tgt), :len(src)], axs[h], src, tgt)\n",
    "        plt.show()"
   ]
  },
  {
   "cell_type": "code",
   "execution_count": 37,
   "id": "e7b23776",
   "metadata": {},
   "outputs": [],
   "source": [
    "# 번역 생성 함수\n",
    "\n",
    "def evaluate(sentence, model, src_tokenizer, tgt_tokenizer):\n",
    "    sentence = preprocess_sentence(sentence)\n",
    "\n",
    "    pieces = src_tokenizer.encode_as_pieces(sentence)\n",
    "    tokens = src_tokenizer.encode_as_ids(sentence)\n",
    "\n",
    "    _input = tf.keras.preprocessing.sequence.pad_sequences([tokens],\n",
    "                                                           maxlen=enc_train.shape[-1],\n",
    "                                                           padding='post')\n",
    "    \n",
    "    ids = []\n",
    "    output = tf.expand_dims([tgt_tokenizer.bos_id()], 0)\n",
    "    for i in range(dec_train.shape[-1]):\n",
    "        enc_padding_mask, combined_mask, dec_padding_mask = \\\n",
    "        generate_masks(_input, output)\n",
    "\n",
    "        predictions, enc_attns, dec_attns, dec_enc_attns =\\\n",
    "        model(_input, \n",
    "              output,\n",
    "              enc_padding_mask,\n",
    "              combined_mask,\n",
    "              dec_padding_mask)\n",
    "\n",
    "        predicted_id = \\\n",
    "        tf.argmax(tf.math.softmax(predictions, axis=-1)[0, -1]).numpy().item()\n",
    "\n",
    "        if tgt_tokenizer.eos_id() == predicted_id:\n",
    "            result = tgt_tokenizer.decode_ids(ids)\n",
    "            return pieces, result, enc_attns, dec_attns, dec_enc_attns\n",
    "\n",
    "        ids.append(predicted_id)\n",
    "        output = tf.concat([output, tf.expand_dims([predicted_id], 0)], axis=-1)\n",
    "\n",
    "    result = tgt_tokenizer.decode_ids(ids)\n",
    "\n",
    "    return pieces, result, enc_attns, dec_attns, dec_enc_attns"
   ]
  },
  {
   "cell_type": "code",
   "execution_count": 38,
   "id": "f7a45bbd",
   "metadata": {},
   "outputs": [],
   "source": [
    "# 번역 생성 및 Attention 시각화 결합\n",
    "\n",
    "def translate(sentence, model, src_tokenizer, tgt_tokenizer, plot_attention=False):\n",
    "    pieces, result, enc_attns, dec_attns, dec_enc_attns = \\\n",
    "    evaluate(sentence, model, src_tokenizer, tgt_tokenizer)\n",
    "    \n",
    "    print('Input: %s' % (sentence))\n",
    "    print('Predicted translation: {}'.format(result))\n",
    "\n",
    "    if plot_attention:\n",
    "        visualize_attention(pieces, result.split(), enc_attns, dec_attns, dec_enc_attns)"
   ]
  },
  {
   "cell_type": "code",
   "execution_count": 39,
   "id": "be42f3ea",
   "metadata": {
    "scrolled": false
   },
   "outputs": [
    {
     "data": {
      "application/vnd.jupyter.widget-view+json": {
       "model_id": "4857bb582c454b21a79ce92c27985e16",
       "version_major": 2,
       "version_minor": 0
      },
      "text/plain": [
       "  0%|          | 0/1182 [00:00<?, ?it/s]"
      ]
     },
     "metadata": {},
     "output_type": "display_data"
    },
    {
     "name": "stdout",
     "output_type": "stream",
     "text": [
      "Input: 오바마는 대통령이다.\n",
      "Predicted translation: obama s president barack obama.\n",
      "Input: 시민들은 도시 속에 산다.\n",
      "Predicted translation: the dow is the first time.\n",
      "Input: 커피는 필요 없다.\n",
      "Predicted translation: we are going to be a very.\n",
      "Input: 일곱 명의 사망자가 발생했다.\n",
      "Predicted translation: the dead were killed in the town of the town of the deaths.\n",
      "Input: 투표는 시민의 권리이다\n",
      "Predicted translation: the new economy is the first time of the economy.\n",
      "Input: 음주는 만성간염, 간경변증, 간암의 대표적인 원인이다.\n",
      "Predicted translation: the two of the , and the united states, and the mainly the mainly during the country.\n",
      "Input: 친환경 에너지 정책을 펼쳐온 미국 조 바이든 행정부가 올 들어 석탄 사용량을 늘린 것으로 나타났다.\n",
      "Predicted translation: the economy is a new energy of the u.s. economy, and the u.s. economy.\n",
      "Input: 박씨는 몇 년 전 국제마피아파를 탈퇴해 ‘관심 대상’으로 분류됐다고 한다.\n",
      "Predicted translation: the international committee of the international committee, and the international committee of the international community in the international city of the international city.\n"
     ]
    },
    {
     "data": {
      "application/vnd.jupyter.widget-view+json": {
       "model_id": "d3a6868f11c645c38695dec87205d36a",
       "version_major": 2,
       "version_minor": 0
      },
      "text/plain": [
       "  0%|          | 0/1182 [00:00<?, ?it/s]"
      ]
     },
     "metadata": {},
     "output_type": "display_data"
    },
    {
     "name": "stdout",
     "output_type": "stream",
     "text": [
      "Input: 오바마는 대통령이다.\n",
      "Predicted translation: obama is a lot of time.\n",
      "Input: 시민들은 도시 속에 산다.\n",
      "Predicted translation: it s a lot of time.\n",
      "Input: 커피는 필요 없다.\n",
      "Predicted translation: coffee is coffee.\n",
      "Input: 일곱 명의 사망자가 발생했다.\n",
      "Predicted translation: the death toll from the deaths.\n",
      "Input: 투표는 시민의 권리이다\n",
      "Predicted translation: voting is the first time in the voting of the voting rights.\n",
      "Input: 음주는 만성간염, 간경변증, 간암의 대표적인 원인이다.\n",
      "Predicted translation: the problem is a major issue of the problem of the animal, which is a critical of the world.\n",
      "Input: 친환경 에너지 정책을 펼쳐온 미국 조 바이든 행정부가 올 들어 석탄 사용량을 늘린 것으로 나타났다.\n",
      "Predicted translation: the energy institute of the current energy institute for the u.s.s.\n",
      "Input: 박씨는 몇 년 전 국제마피아파를 탈퇴해 ‘관심 대상’으로 분류됐다고 한다.\n",
      "Predicted translation: park jin, who has been a few years ago, said park s international community is a very sensitive time.\n"
     ]
    },
    {
     "data": {
      "application/vnd.jupyter.widget-view+json": {
       "model_id": "319affe0cef243649780d2df764aa69e",
       "version_major": 2,
       "version_minor": 0
      },
      "text/plain": [
       "  0%|          | 0/1182 [00:00<?, ?it/s]"
      ]
     },
     "metadata": {},
     "output_type": "display_data"
    },
    {
     "name": "stdout",
     "output_type": "stream",
     "text": [
      "Input: 오바마는 대통령이다.\n",
      "Predicted translation: obama s president is the same.\n",
      "Input: 시민들은 도시 속에 산다.\n",
      "Predicted translation: city is the urban urban urban.\n",
      "Input: 커피는 필요 없다.\n",
      "Predicted translation: coffee has just a lot of coffee.\n",
      "Input: 일곱 명의 사망자가 발생했다.\n",
      "Predicted translation: the nine were killed sunday.\n",
      "Input: 투표는 시민의 권리이다\n",
      "Predicted translation: the voting rights is the right rights to be the right rights of rights rights rights.\n",
      "Input: 음주는 만성간염, 간경변증, 간암의 대표적인 원인이다.\n",
      "Predicted translation: the problem is the problem of the problem, the problem of the problem, and the cause of the problem.\n",
      "Input: 친환경 에너지 정책을 펼쳐온 미국 조 바이든 행정부가 올 들어 석탄 사용량을 늘린 것으로 나타났다.\n",
      "Predicted translation: the move is not a non binding resolution to the u.s. auto companies, and the fact that the current policies would be the first of the national tax system.\n",
      "Input: 박씨는 몇 년 전 국제마피아파를 탈퇴해 ‘관심 대상’으로 분류됐다고 한다.\n",
      "Predicted translation: park was the first time in years ago, and formerly known as the international pressure.\n"
     ]
    },
    {
     "data": {
      "application/vnd.jupyter.widget-view+json": {
       "model_id": "73c6b58e3b47469f984853edc9ace3f1",
       "version_major": 2,
       "version_minor": 0
      },
      "text/plain": [
       "  0%|          | 0/1182 [00:00<?, ?it/s]"
      ]
     },
     "metadata": {},
     "output_type": "display_data"
    },
    {
     "name": "stdout",
     "output_type": "stream",
     "text": [
      "Input: 오바마는 대통령이다.\n",
      "Predicted translation: obama is the president.\n",
      "Input: 시민들은 도시 속에 산다.\n",
      "Predicted translation: city\n",
      "Input: 커피는 필요 없다.\n",
      "Predicted translation: it is not easy to need to watch.\n",
      "Input: 일곱 명의 사망자가 발생했다.\n",
      "Predicted translation: the seven people were killed wednesday.\n",
      "Input: 투표는 시민의 권리이다\n",
      "Predicted translation: voting is the rights of voting rights rights groups.\n",
      "Input: 음주는 만성간염, 간경변증, 간암의 대표적인 원인이다.\n",
      "Predicted translation: the drinking drinking is a very good time for the failure of the liver, the agency said.\n",
      "Input: 친환경 에너지 정책을 펼쳐온 미국 조 바이든 행정부가 올 들어 석탄 사용량을 늘린 것으로 나타났다.\n",
      "Predicted translation: the obama administration has a history of u.s. auto industry, which has been used by the united states, which has been used for the world health organization for the administration.\n",
      "Input: 박씨는 몇 년 전 국제마피아파를 탈퇴해 ‘관심 대상’으로 분류됐다고 한다.\n",
      "Predicted translation: park, pak gil, said the international monetary fund who had been criticized for years ago.\n"
     ]
    },
    {
     "data": {
      "application/vnd.jupyter.widget-view+json": {
       "model_id": "d017de8d86794fbaa428f68f17580596",
       "version_major": 2,
       "version_minor": 0
      },
      "text/plain": [
       "  0%|          | 0/1182 [00:00<?, ?it/s]"
      ]
     },
     "metadata": {},
     "output_type": "display_data"
    },
    {
     "name": "stdout",
     "output_type": "stream",
     "text": [
      "Input: 오바마는 대통령이다.\n",
      "Predicted translation: obama is the president.\n",
      "Input: 시민들은 도시 속에 산다.\n",
      "Predicted translation: city s mayor s urbana.\n",
      "Input: 커피는 필요 없다.\n",
      "Predicted translation: don t need to be able to need to be able to catch coffee.\n",
      "Input: 일곱 명의 사망자가 발생했다.\n",
      "Predicted translation: seven were killed seven people and seven were hurt.\n",
      "Input: 투표는 시민의 권리이다\n",
      "Predicted translation: the vote is the most civil rights abuse than the power of right.\n",
      "Input: 음주는 만성간염, 간경변증, 간암의 대표적인 원인이다.\n",
      "Predicted translation: the whole system is known for the liver, liver and distress of the disease, which is similar to the liver.\n",
      "Input: 친환경 에너지 정책을 펼쳐온 미국 조 바이든 행정부가 올 들어 석탄 사용량을 늘린 것으로 나타났다.\n",
      "Predicted translation: even more important by the green energy strategy, the u.s. administration has estimated . trillion since the collapse.\n",
      "Input: 박씨는 몇 년 전 국제마피아파를 탈퇴해 ‘관심 대상’으로 분류됐다고 한다.\n",
      "Predicted translation: park was made several years ago when a growing number of international organizations including the international monetary organization.\n"
     ]
    },
    {
     "data": {
      "application/vnd.jupyter.widget-view+json": {
       "model_id": "d17b646209f24a158e51176473cba566",
       "version_major": 2,
       "version_minor": 0
      },
      "text/plain": [
       "  0%|          | 0/1182 [00:00<?, ?it/s]"
      ]
     },
     "metadata": {},
     "output_type": "display_data"
    },
    {
     "name": "stdout",
     "output_type": "stream",
     "text": [
      "Input: 오바마는 대통령이다.\n",
      "Predicted translation: obama is the president.\n",
      "Input: 시민들은 도시 속에 산다.\n",
      "Predicted translation: the city is quiet for urban.\n",
      "Input: 커피는 필요 없다.\n",
      "Predicted translation: no need to need.\n",
      "Input: 일곱 명의 사망자가 발생했다.\n",
      "Predicted translation: seven deaths were reported in the death of seven deaths.\n",
      "Input: 투표는 시민의 권리이다\n",
      "Predicted translation: the vote is the most civil rights civil rights.\n",
      "Input: 음주는 만성간염, 간경변증, 간암의 대표적인 원인이다.\n",
      "Predicted translation: drinking smoking is the largest conservative civic group, an conducted linked to the holy land, an estimated , people of the holy land, the land and the sun, the alcohol, and expert and the organization of the ruling.\n",
      "Input: 친환경 에너지 정책을 펼쳐온 미국 조 바이든 행정부가 올 들어 석탄 사용량을 늘린 것으로 나타났다.\n",
      "Predicted translation: it s a green, which has been forced to study u.s. energy policies, has been found in the united states, which has forced to study the energy administration.\n",
      "Input: 박씨는 몇 년 전 국제마피아파를 탈퇴해 ‘관심 대상’으로 분류됐다고 한다.\n",
      "Predicted translation: park, who had been under international pressure to leave the country for international society.\n"
     ]
    },
    {
     "data": {
      "application/vnd.jupyter.widget-view+json": {
       "model_id": "ee0bab2c465740f8912eb0e576ef6b18",
       "version_major": 2,
       "version_minor": 0
      },
      "text/plain": [
       "  0%|          | 0/1182 [00:00<?, ?it/s]"
      ]
     },
     "metadata": {},
     "output_type": "display_data"
    },
    {
     "name": "stdout",
     "output_type": "stream",
     "text": [
      "Input: 오바마는 대통령이다.\n",
      "Predicted translation: obama is the kind of a.\n",
      "Input: 시민들은 도시 속에 산다.\n",
      "Predicted translation: city is its th century city.\n",
      "Input: 커피는 필요 없다.\n",
      "Predicted translation: not a needed to be short of the states need to be.\n",
      "Input: 일곱 명의 사망자가 발생했다.\n",
      "Predicted translation: seven people were killed in the rampage.\n",
      "Input: 투표는 시민의 권리이다\n",
      "Predicted translation: it is a citizen of right citizens.\n",
      "Input: 음주는 만성간염, 간경변증, 간암의 대표적인 원인이다.\n",
      "Predicted translation: the alcohol is the oldest, and the families of the , have been suffering by the kremlin of the cold and is suffering by the cold and a key part of the deal.\n",
      "Input: 친환경 에너지 정책을 펼쳐온 미국 조 바이든 행정부가 올 들어 석탄 사용량을 늘린 것으로 나타났다.\n",
      "Predicted translation: green, the washington times says, is the first washington anti missile crisis.\n",
      "Input: 박씨는 몇 년 전 국제마피아파를 탈퇴해 ‘관심 대상’으로 분류됐다고 한다.\n",
      "Predicted translation: park s body was sentenced to more than a decade ago in a controlled world.\n"
     ]
    },
    {
     "data": {
      "application/vnd.jupyter.widget-view+json": {
       "model_id": "c91df37737fb4220876f04bcab1128fe",
       "version_major": 2,
       "version_minor": 0
      },
      "text/plain": [
       "  0%|          | 0/1182 [00:00<?, ?it/s]"
      ]
     },
     "metadata": {},
     "output_type": "display_data"
    },
    {
     "name": "stdout",
     "output_type": "stream",
     "text": [
      "Input: 오바마는 대통령이다.\n",
      "Predicted translation: obama s\n",
      "Input: 시민들은 도시 속에 산다.\n",
      "Predicted translation: city\n",
      "Input: 커피는 필요 없다.\n",
      "Predicted translation: not a needed to be able to.\n",
      "Input: 일곱 명의 사망자가 발생했다.\n",
      "Predicted translation: seven other people were killed when the plane.\n",
      "Input: 투표는 시민의 권리이다\n",
      "Predicted translation: is the citizen s most citizen.\n",
      "Input: 음주는 만성간염, 간경변증, 간암의 대표적인 원인이다.\n",
      "Predicted translation: the drinking sun, which is suspected of involvement, will be linked to the disease caused by blood vessels, an empty train and what caused the disease line.\n",
      "Input: 친환경 에너지 정책을 펼쳐온 미국 조 바이든 행정부가 올 들어 석탄 사용량을 늘린 것으로 나타났다.\n",
      "Predicted translation: either way, or for the auto makers, this is to grow by .\n",
      "Input: 박씨는 몇 년 전 국제마피아파를 탈퇴해 ‘관심 대상’으로 분류됐다고 한다.\n",
      "Predicted translation: parked a couple of pro tibet children just two years ago\n"
     ]
    },
    {
     "data": {
      "application/vnd.jupyter.widget-view+json": {
       "model_id": "037dbd1f3d494900b3a54fcda95c25fb",
       "version_major": 2,
       "version_minor": 0
      },
      "text/plain": [
       "  0%|          | 0/1182 [00:00<?, ?it/s]"
      ]
     },
     "metadata": {},
     "output_type": "display_data"
    },
    {
     "name": "stdout",
     "output_type": "stream",
     "text": [
      "Input: 오바마는 대통령이다.\n",
      "Predicted translation: the dead is a message of obama.\n",
      "Input: 시민들은 도시 속에 산다.\n",
      "Predicted translation: citizens travel there were a downtown street.\n",
      "Input: 커피는 필요 없다.\n",
      "Predicted translation: need to need to be a short summit needed to be needed.\n",
      "Input: 일곱 명의 사망자가 발생했다.\n",
      "Predicted translation: seven people were killed when .\n",
      "Input: 투표는 시민의 권리이다\n",
      "Predicted translation: the right to citizen you.\n",
      "Input: 음주는 만성간염, 간경변증, 간암의 대표적인 원인이다.\n",
      "Predicted translation: the normal day will be linked to the arrival of the alcohol giant, doctors and few minutes of public services, the state drug gangs.\n",
      "Input: 친환경 에너지 정책을 펼쳐온 미국 조 바이든 행정부가 올 들어 석탄 사용량을 늘린 것으로 나타났다.\n",
      "Predicted translation: i ve got green, one republican iowa several to administration and bring the prosecution to report that rather than report.\n",
      "Input: 박씨는 몇 년 전 국제마피아파를 탈퇴해 ‘관심 대상’으로 분류됐다고 한다.\n",
      "Predicted translation: park, a several years ago, was ready to resume operations abroad.\n"
     ]
    },
    {
     "data": {
      "application/vnd.jupyter.widget-view+json": {
       "model_id": "9e9e90a4361c40669212173208a6b572",
       "version_major": 2,
       "version_minor": 0
      },
      "text/plain": [
       "  0%|          | 0/1182 [00:00<?, ?it/s]"
      ]
     },
     "metadata": {},
     "output_type": "display_data"
    },
    {
     "name": "stdout",
     "output_type": "stream",
     "text": [
      "Input: 오바마는 대통령이다.\n",
      "Predicted translation: obama s.\n",
      "Input: 시민들은 도시 속에 산다.\n",
      "Predicted translation: the city s proudly cities.\n",
      "Input: 커피는 필요 없다.\n",
      "Predicted translation: don t need to be drinking.\n",
      "Input: 일곱 명의 사망자가 발생했다.\n",
      "Predicted translation: seven seven people were killed when .\n",
      "Input: 투표는 시민의 권리이다\n",
      "Predicted translation: right, it has a special voting rights.\n",
      "Input: 음주는 만성간염, 간경변증, 간암의 대표적인 원인이다.\n",
      "Predicted translation: the city is systematically commerce secretary for the holy synod, an particular train yesterday to form a particular tuning system.\n",
      "Input: 친환경 에너지 정책을 펼쳐온 미국 조 바이든 행정부가 올 들어 석탄 사용량을 늘린 것으로 나타났다.\n",
      "Predicted translation: i ve always been a low cell phone that does not have to look after that s important for coal use, or satellite surveillance underground.\n",
      "Input: 박씨는 몇 년 전 국제마피아파를 탈퇴해 ‘관심 대상’으로 분류됐다고 한다.\n",
      "Predicted translation: park, confiscated international visitors from a global poverty stricken area.\n"
     ]
    },
    {
     "data": {
      "application/vnd.jupyter.widget-view+json": {
       "model_id": "5b63c50aaea34e2186b2b10ea0fee331",
       "version_major": 2,
       "version_minor": 0
      },
      "text/plain": [
       "  0%|          | 0/1182 [00:00<?, ?it/s]"
      ]
     },
     "metadata": {},
     "output_type": "display_data"
    },
    {
     "name": "stdout",
     "output_type": "stream",
     "text": [
      "Input: 오바마는 대통령이다.\n",
      "Predicted translation: the president is barack obama.\n",
      "Input: 시민들은 도시 속에 산다.\n",
      "Predicted translation: citizens\n",
      "Input: 커피는 필요 없다.\n",
      "Predicted translation: don t need to be.\n",
      "Input: 일곱 명의 사망자가 발생했다.\n",
      "Predicted translation: seven seven people were killed when seven marines.\n",
      "Input: 투표는 시민의 권리이다\n",
      "Predicted translation: right is the right of voting rights.\n",
      "Input: 음주는 만성간염, 간경변증, 간암의 대표적인 원인이다.\n",
      "Predicted translation: the choice of , was known for the new terms as behavior due to speculation that was suffering on the effects of the past year.\n",
      "Input: 친환경 에너지 정책을 펼쳐온 미국 조 바이든 행정부가 올 들어 석탄 사용량을 늘린 것으로 나타났다.\n",
      "Predicted translation: it is over for some development, though, by the american people.\n",
      "Input: 박씨는 몇 년 전 국제마피아파를 탈퇴해 ‘관심 대상’으로 분류됐다고 한다.\n",
      "Predicted translation: park is on an international appearance at an international monetary policy, park opposes an international attention.\n"
     ]
    },
    {
     "data": {
      "application/vnd.jupyter.widget-view+json": {
       "model_id": "e1a623a171ca4c76b43be3d001d09283",
       "version_major": 2,
       "version_minor": 0
      },
      "text/plain": [
       "  0%|          | 0/1182 [00:00<?, ?it/s]"
      ]
     },
     "metadata": {},
     "output_type": "display_data"
    },
    {
     "name": "stdout",
     "output_type": "stream",
     "text": [
      "Input: 오바마는 대통령이다.\n",
      "Predicted translation: obama is.\n",
      "Input: 시민들은 도시 속에 산다.\n",
      "Predicted translation: city\n",
      "Input: 커피는 필요 없다.\n",
      "Predicted translation: don t need to be coffee.\n",
      "Input: 일곱 명의 사망자가 발생했다.\n",
      "Predicted translation: seven seven people were killed wednesday.\n",
      "Input: 투표는 시민의 권리이다\n",
      "Predicted translation: the voting is a great calling for its right to have rights.\n",
      "Input: 음주는 만성간염, 간경변증, 간암의 대표적인 원인이다.\n",
      "Predicted translation: normal relations between the two nations were named after the bird, ride over the album of the organization.\n",
      "Input: 친환경 에너지 정책을 펼쳐온 미국 조 바이든 행정부가 올 들어 석탄 사용량을 늘린 것으로 나타났다.\n",
      "Predicted translation: green, has gone to indicted some in the united states, where coal oil is now working for the union.\n",
      "Input: 박씨는 몇 년 전 국제마피아파를 탈퇴해 ‘관심 대상’으로 분류됐다고 한다.\n",
      "Predicted translation: park earth ring delivered a brief appearance in , a brief stand.\n"
     ]
    },
    {
     "data": {
      "application/vnd.jupyter.widget-view+json": {
       "model_id": "d291c62bcf2b43f2a8c827a7bb2732f1",
       "version_major": 2,
       "version_minor": 0
      },
      "text/plain": [
       "  0%|          | 0/1182 [00:00<?, ?it/s]"
      ]
     },
     "metadata": {},
     "output_type": "display_data"
    },
    {
     "name": "stdout",
     "output_type": "stream",
     "text": [
      "Input: 오바마는 대통령이다.\n",
      "Predicted translation: obama has\n",
      "Input: 시민들은 도시 속에 산다.\n",
      "Predicted translation: citizens.\n",
      "Input: 커피는 필요 없다.\n",
      "Predicted translation: don t need to be coffee.\n",
      "Input: 일곱 명의 사망자가 발생했다.\n",
      "Predicted translation: seven other people died thursday.\n",
      "Input: 투표는 시민의 권리이다\n",
      "Predicted translation: the vote is.\n",
      "Input: 음주는 만성간염, 간경변증, 간암의 대표적인 원인이다.\n",
      "Predicted translation: the problems are for the children s resume over the gets to have been raised by the sun, october , he said.\n",
      "Input: 친환경 에너지 정책을 펼쳐온 미국 조 바이든 행정부가 올 들어 석탄 사용량을 늘린 것으로 나타났다.\n",
      "Predicted translation: green has officials said several other options, but that s administration has come up with light, like that s being used by the energy administration.\n",
      "Input: 박씨는 몇 년 전 국제마피아파를 탈퇴해 ‘관심 대상’으로 분류됐다고 한다.\n",
      "Predicted translation: park also had a studied against the international ocean in .\n"
     ]
    },
    {
     "data": {
      "application/vnd.jupyter.widget-view+json": {
       "model_id": "895457c91cb543f3ab0df1d4fb185698",
       "version_major": 2,
       "version_minor": 0
      },
      "text/plain": [
       "  0%|          | 0/1182 [00:00<?, ?it/s]"
      ]
     },
     "metadata": {},
     "output_type": "display_data"
    },
    {
     "name": "stdout",
     "output_type": "stream",
     "text": [
      "Input: 오바마는 대통령이다.\n",
      "Predicted translation: obama is the same.\n",
      "Input: 시민들은 도시 속에 산다.\n",
      "Predicted translation: city was peaceful. this peak.\n",
      "Input: 커피는 필요 없다.\n",
      "Predicted translation: don t need to be d cat.\n",
      "Input: 일곱 명의 사망자가 발생했다.\n",
      "Predicted translation: seven people were killed in hospital.\n",
      "Input: 투표는 시민의 권리이다\n",
      "Predicted translation: right is the right of a voting rights.\n",
      "Input: 음주는 만성간염, 간경변증, 간암의 대표적인 원인이다.\n",
      "Predicted translation: the legislators is known as the side of a result of an average of unclear.\n",
      "Input: 친환경 에너지 정책을 펼쳐온 미국 조 바이든 행정부가 올 들어 석탄 사용량을 늘린 것으로 나타났다.\n",
      "Predicted translation: he says the union is likely to split after that unidentified administration officials say whether or not the administration should use energy use their computers.\n",
      "Input: 박씨는 몇 년 전 국제마피아파를 탈퇴해 ‘관심 대상’으로 분류됐다고 한다.\n",
      "Predicted translation: park in , started as an international percent concerned by more because he feared.\n"
     ]
    },
    {
     "data": {
      "application/vnd.jupyter.widget-view+json": {
       "model_id": "797b8985041e430984549021e4886f6f",
       "version_major": 2,
       "version_minor": 0
      },
      "text/plain": [
       "  0%|          | 0/1182 [00:00<?, ?it/s]"
      ]
     },
     "metadata": {},
     "output_type": "display_data"
    },
    {
     "name": "stdout",
     "output_type": "stream",
     "text": [
      "Input: 오바마는 대통령이다.\n",
      "Predicted translation: obama is also down.\n",
      "Input: 시민들은 도시 속에 산다.\n",
      "Predicted translation: citizens.\n",
      "Input: 커피는 필요 없다.\n",
      "Predicted translation: if not needed to need it.\n",
      "Input: 일곱 명의 사망자가 발생했다.\n",
      "Predicted translation: seven of the seven people escaped.\n",
      "Input: 투표는 시민의 권리이다\n",
      "Predicted translation: voting is a candidate to get its.\n",
      "Input: 음주는 만성간염, 간경변증, 간암의 대표적인 원인이다.\n",
      "Predicted translation: the drinking sun, which is a police station for the may decision to been an verses of the buy, caused by the september experts, and apologized to the liver disease.\n",
      "Input: 친환경 에너지 정책을 펼쳐온 미국 조 바이든 행정부가 올 들어 석탄 사용량을 늘린 것으로 나타났다.\n",
      "Predicted translation: it is more likely to although the american times, he said, with christmas won t lives.\n",
      "Input: 박씨는 몇 년 전 국제마피아파를 탈퇴해 ‘관심 대상’으로 분류됐다고 한다.\n",
      "Predicted translation: park, , cuts some of the international kidney gave under consideration in the situation .\n"
     ]
    },
    {
     "data": {
      "application/vnd.jupyter.widget-view+json": {
       "model_id": "8ae3895e9d764866a62d8c0ea0426174",
       "version_major": 2,
       "version_minor": 0
      },
      "text/plain": [
       "  0%|          | 0/1182 [00:00<?, ?it/s]"
      ]
     },
     "metadata": {},
     "output_type": "display_data"
    },
    {
     "name": "stdout",
     "output_type": "stream",
     "text": [
      "Input: 오바마는 대통령이다.\n",
      "Predicted translation: obama is in texas.\n",
      "Input: 시민들은 도시 속에 산다.\n",
      "Predicted translation: citizens took city in the streets.\n",
      "Input: 커피는 필요 없다.\n",
      "Predicted translation: the coffee need to be short of need to be short of need to.\n",
      "Input: 일곱 명의 사망자가 발생했다.\n",
      "Predicted translation: seven of the seven deaths reported on thursday.\n",
      "Input: 투표는 시민의 권리이다\n",
      "Predicted translation: right is the right of right.\n",
      "Input: 음주는 만성간염, 간경변증, 간암의 대표적인 원인이다.\n",
      "Predicted translation: the choice of cities is the third biggest form of the bound to date known set for the cancer patients.\n",
      "Input: 친환경 에너지 정책을 펼쳐온 미국 조 바이든 행정부가 올 들어 석탄 사용량을 늘린 것으로 나타났다.\n",
      "Predicted translation: it is unclear, but anchor says he has got between joe biden and obama  levels.\n",
      "Input: 박씨는 몇 년 전 국제마피아파를 탈퇴해 ‘관심 대상’으로 분류됐다고 한다.\n",
      "Predicted translation: park is years old, who is global like the international whaling organization, park opposed to a forum nearly two years ago.\n"
     ]
    },
    {
     "data": {
      "application/vnd.jupyter.widget-view+json": {
       "model_id": "6bf925576106495ca7c4d953754b0d68",
       "version_major": 2,
       "version_minor": 0
      },
      "text/plain": [
       "  0%|          | 0/1182 [00:00<?, ?it/s]"
      ]
     },
     "metadata": {},
     "output_type": "display_data"
    },
    {
     "name": "stdout",
     "output_type": "stream",
     "text": [
      "Input: 오바마는 대통령이다.\n",
      "Predicted translation: obama is downing lights.\n",
      "Input: 시민들은 도시 속에 산다.\n",
      "Predicted translation: city\n",
      "Input: 커피는 필요 없다.\n",
      "Predicted translation: if not chun ever catch being returned to israel.\n",
      "Input: 일곱 명의 사망자가 발생했다.\n",
      "Predicted translation: seven of the seven victims were hurt.\n",
      "Input: 투표는 시민의 권리이다\n",
      "Predicted translation: it is the right of france.\n",
      "Input: 음주는 만성간염, 간경변증, 간암의 대표적인 원인이다.\n",
      "Predicted translation: the alcohol is between , supporters, an alcohol tax broke out in the deaths of students, an promised best part of the effects of the sun.\n",
      "Input: 친환경 에너지 정책을 펼쳐온 미국 조 바이든 행정부가 올 들어 석탄 사용량을 늘린 것으로 나타났다.\n",
      "Predicted translation: he is like green, a former top joe biden gets to release four administration officials as less fuel.\n",
      "Input: 박씨는 몇 년 전 국제마피아파를 탈퇴해 ‘관심 대상’으로 분류됐다고 한다.\n",
      "Predicted translation: park is accused of injuries ahead in , eight years ago of roh s deadly commercial status.\n"
     ]
    },
    {
     "data": {
      "application/vnd.jupyter.widget-view+json": {
       "model_id": "a9d2efc485bc414bb52b995e25f8f3b4",
       "version_major": 2,
       "version_minor": 0
      },
      "text/plain": [
       "  0%|          | 0/1182 [00:00<?, ?it/s]"
      ]
     },
     "metadata": {},
     "output_type": "display_data"
    },
    {
     "name": "stdout",
     "output_type": "stream",
     "text": [
      "Input: 오바마는 대통령이다.\n",
      "Predicted translation: obama is also the president.\n",
      "Input: 시민들은 도시 속에 산다.\n",
      "Predicted translation: city\n",
      "Input: 커피는 필요 없다.\n",
      "Predicted translation: need to need at some coffee.\n",
      "Input: 일곱 명의 사망자가 발생했다.\n",
      "Predicted translation: seven seven people died in .\n",
      "Input: 투표는 시민의 권리이다\n",
      "Predicted translation: the right is a voting rights.\n",
      "Input: 음주는 만성간염, 간경변증, 간암의 대표적인 원인이다.\n",
      "Predicted translation: the choice between , students and , been involved in the dispute between the seoul and owner of the baby average hammerhead.\n",
      "Input: 친환경 에너지 정책을 펼쳐온 미국 조 바이든 행정부가 올 들어 석탄 사용량을 늘린 것으로 나타났다.\n",
      "Predicted translation: it is more important to make official feel created by the american relations with energy conservation, which are used by bush administration officials to keep that down.\n",
      "Input: 박씨는 몇 년 전 국제마피아파를 탈퇴해 ‘관심 대상’으로 분류됐다고 한다.\n",
      "Predicted translation: park, wearing several years ago, was shown by a political organization nearly increasing the status of t help.\n"
     ]
    },
    {
     "data": {
      "application/vnd.jupyter.widget-view+json": {
       "model_id": "1366ff4b61fb41e0983d0864cef50dd9",
       "version_major": 2,
       "version_minor": 0
      },
      "text/plain": [
       "  0%|          | 0/1182 [00:00<?, ?it/s]"
      ]
     },
     "metadata": {},
     "output_type": "display_data"
    },
    {
     "name": "stdout",
     "output_type": "stream",
     "text": [
      "Input: 오바마는 대통령이다.\n",
      "Predicted translation: obama is kind of thing.\n",
      "Input: 시민들은 도시 속에 산다.\n",
      "Predicted translation: city s mayor is animals in the city.\n",
      "Input: 커피는 필요 없다.\n",
      "Predicted translation: if not needed to wear dark as to catch protesters.\n",
      "Input: 일곱 명의 사망자가 발생했다.\n",
      "Predicted translation: seven seven people died when seven marines came to .\n",
      "Input: 투표는 시민의 권리이다\n",
      "Predicted translation: the right dog rights are for the right of voting rights.\n",
      "Input: 음주는 만성간염, 간경변증, 간암의 대표적인 원인이다.\n",
      "Predicted translation: the normal train bombings had been under wraps for the large end of the relationship.\n",
      "Input: 친환경 에너지 정책을 펼쳐온 미국 조 바이든 행정부가 올 들어 석탄 사용량을 늘린 것으로 나타났다.\n",
      "Predicted translation: he is more war than percent after the american film, which has seen up to percent of those nearly years, according to the u.s. energy officials.\n",
      "Input: 박씨는 몇 년 전 국제마피아파를 탈퇴해 ‘관심 대상’으로 분류됐다고 한다.\n",
      "Predicted translation: former south korea star richard international poverty showed him nearly years ago.\n"
     ]
    },
    {
     "data": {
      "application/vnd.jupyter.widget-view+json": {
       "model_id": "47f5e5fed4754d55b3ac42ca34e502c5",
       "version_major": 2,
       "version_minor": 0
      },
      "text/plain": [
       "  0%|          | 0/1182 [00:00<?, ?it/s]"
      ]
     },
     "metadata": {},
     "output_type": "display_data"
    },
    {
     "name": "stdout",
     "output_type": "stream",
     "text": [
      "Input: 오바마는 대통령이다.\n",
      "Predicted translation: obama s former president.\n",
      "Input: 시민들은 도시 속에 산다.\n",
      "Predicted translation: citizens.\n",
      "Input: 커피는 필요 없다.\n",
      "Predicted translation: need to be interview.\n",
      "Input: 일곱 명의 사망자가 발생했다.\n",
      "Predicted translation: seventeen people were killed in .\n",
      "Input: 투표는 시민의 권리이다\n",
      "Predicted translation: right is the right of a voting rights in the right of voting.\n",
      "Input: 음주는 만성간염, 간경변증, 간암의 대표적인 원인이다.\n",
      "Predicted translation: the drinking oktoberfest between will include the offense of alcohol, drinking and close some suspect, drinking.\n",
      "Input: 친환경 에너지 정책을 펼쳐온 미국 조 바이든 행정부가 올 들어 석탄 사용량을 늘린 것으로 나타났다.\n",
      "Predicted translation: he says administration policies for the use of force to resign tuesday, after coal indicated obama s use says it has his energy penalty forty years or for coal energy.\n",
      "Input: 박씨는 몇 년 전 국제마피아파를 탈퇴해 ‘관심 대상’으로 분류됐다고 한다.\n",
      "Predicted translation: park is also replaced by international park.\n",
      "Input: 박씨는 몇 년 전 국제마피아파를 탈퇴해 ‘관심 대상’으로 분류됐다고 한다.\n",
      "Predicted translation: park is also replaced by international park.\n",
      "Encoder Layer 1\n"
     ]
    },
    {
     "name": "stderr",
     "output_type": "stream",
     "text": [
      "/opt/conda/lib/python3.9/site-packages/matplotlib/backends/backend_agg.py:240: RuntimeWarning: Glyph 9601 missing from current font.\n",
      "  font.set_text(s, 0.0, flags=flags)\n",
      "/opt/conda/lib/python3.9/site-packages/matplotlib/backends/backend_agg.py:203: RuntimeWarning: Glyph 9601 missing from current font.\n",
      "  font.set_text(s, 0, flags=flags)\n"
     ]
    },
    {
     "data": {
      "image/png": "[encoded data removed]",
      "text/plain": [
       "<Figure size 1440x720 with 4 Axes>"
      ]
     },
     "metadata": {
      "image/png": {
       "height": 290,
       "width": 1164
      },
      "needs_background": "light"
     },
     "output_type": "display_data"
    },
    {
     "name": "stdout",
     "output_type": "stream",
     "text": [
      "Encoder Layer 2\n"
     ]
    },
    {
     "data": {
      "image/png": "[encoded data removed]",
      "text/plain": [
       "<Figure size 1440x720 with 4 Axes>"
      ]
     },
     "metadata": {
      "image/png": {
       "height": 290,
       "width": 1164
      },
      "needs_background": "light"
     },
     "output_type": "display_data"
    },
    {
     "name": "stdout",
     "output_type": "stream",
     "text": [
      "Decoder Self Layer 1\n"
     ]
    },
    {
     "data": {
      "image/png": "[encoded data removed]",
      "text/plain": [
       "<Figure size 1440x720 with 4 Axes>"
      ]
     },
     "metadata": {
      "image/png": {
       "height": 322,
       "width": 1196
      },
      "needs_background": "light"
     },
     "output_type": "display_data"
    },
    {
     "name": "stdout",
     "output_type": "stream",
     "text": [
      "Decoder Src Layer 1\n"
     ]
    },
    {
     "data": {
      "image/png": "[encoded data removed]",
      "text/plain": [
       "<Figure size 1440x720 with 4 Axes>"
      ]
     },
     "metadata": {
      "image/png": {
       "height": 137,
       "width": 1196
      },
      "needs_background": "light"
     },
     "output_type": "display_data"
    },
    {
     "name": "stdout",
     "output_type": "stream",
     "text": [
      "Decoder Self Layer 2\n"
     ]
    },
    {
     "data": {
      "image/png": "[encoded data removed]",
      "text/plain": [
       "<Figure size 1440x720 with 4 Axes>"
      ]
     },
     "metadata": {
      "image/png": {
       "height": 322,
       "width": 1196
      },
      "needs_background": "light"
     },
     "output_type": "display_data"
    },
    {
     "name": "stdout",
     "output_type": "stream",
     "text": [
      "Decoder Src Layer 2\n"
     ]
    },
    {
     "data": {
      "image/png": "[encoded data removed]",
      "text/plain": [
       "<Figure size 1440x720 with 4 Axes>"
      ]
     },
     "metadata": {
      "image/png": {
       "height": 137,
       "width": 1196
      },
      "needs_background": "light"
     },
     "output_type": "display_data"
    }
   ],
   "source": [
    "# 학습\n",
    "\n",
    "from tqdm import tqdm_notebook \n",
    "\n",
    "BATCH_SIZE = 64\n",
    "EPOCHS = 20\n",
    "\n",
    "examples = [\n",
    "            \"오바마는 대통령이다.\",\n",
    "            \"시민들은 도시 속에 산다.\",\n",
    "            \"커피는 필요 없다.\",\n",
    "            \"일곱 명의 사망자가 발생했다.\",\n",
    "            \"투표는 시민의 권리이다\",\n",
    "            \"음주는 만성간염, 간경변증, 간암의 대표적인 원인이다.\",\n",
    "            \"친환경 에너지 정책을 펼쳐온 미국 조 바이든 행정부가 올 들어 석탄 사용량을 늘린 것으로 나타났다.\",\n",
    "            \"박씨는 몇 년 전 국제마피아파를 탈퇴해 ‘관심 대상’으로 분류됐다고 한다.\"\n",
    "]\n",
    "\n",
    "for epoch in range(EPOCHS):\n",
    "    total_loss = 0\n",
    "    \n",
    "    idx_list = list(range(0, enc_train.shape[0], BATCH_SIZE))\n",
    "    random.shuffle(idx_list)\n",
    "    t = tqdm(idx_list)\n",
    "\n",
    "    for (batch, idx) in enumerate(t):\n",
    "        batch_loss, enc_attns, dec_attns, dec_enc_attns = \\\n",
    "        train_step(enc_train[idx:idx+BATCH_SIZE],\n",
    "                    dec_train[idx:idx+BATCH_SIZE],\n",
    "                    transformer,\n",
    "                    optimizer)\n",
    "\n",
    "        total_loss += batch_loss\n",
    "        \n",
    "        t.set_description_str('Epoch %2d' % (epoch + 1))\n",
    "        t.set_postfix_str('Loss %.4f' % (total_loss.numpy() / (batch + 1)))\n",
    "\n",
    "    for example in examples:\n",
    "        translate(example, transformer, ko_tokenizer, en_tokenizer)\n",
    "    \n",
    "    if epoch == EPOCHS -1 : translate(example, transformer, ko_tokenizer, en_tokenizer, True)\n",
    "        \n"
   ]
  },
  {
   "cell_type": "markdown",
   "id": "227bb306",
   "metadata": {},
   "source": [
    "## 회고\n",
    "\n",
    "### 시도한 Hyperparameters\n",
    "- n_layers: 2, 4, 6\n",
    "- d_model: 512\n",
    "- n_heads: 8\n",
    "- d_ff: 2048\n",
    "- dropout: 0.2, 0.3, 0.5\n",
    "- epochs : 20, 10, 15\n",
    "\n",
    "### Training Parameters\n",
    "- Warmup Steps: 4000\n",
    "- Batch Size: 64\n",
    "\n",
    "### 최종 정리"
   ]
  },
  {
   "cell_type": "markdown",
   "id": "9f7d84ee",
   "metadata": {},
   "source": [
    "- 2개의 층만 쌓은 Transformer의 결과는 한국어 문장을 영어 문장으로 완벽히 번역해내지는 못했지만, 문법적으로 왠만큼 잘 들어맞으며 P04에서 실습한 BahdanauAttention model(n_layers: 2, d_model: 512, Batch Size: 64, Epoch At: 10)에 비해 문맥에 어울리는 번역을 해내는 것을 확인할 수 있습니다.\n",
    "- 논문에서 인코더와 디코더를 각각 6개를 사용하기 때문에, n_layers를 늘리면 성능 향상이 될 것으로 예상하여\n",
    "- 실제로 n_layers : 2, 4, 6으로 변경하여 시도해 보았지만 n_layers : 2 > 4 > 6 순으로 좋게 나왔다.\n",
    "- n_layers 층의 수량도 영향을 끼치지만 vocab_size, max_length, dropout 등에 따른 영향이 더 큰것 같다.\n",
    "- epochs 수도 많이 할수록 성능이 더 하락하는 결과도 볼 수 있었다.\n",
    "- transformer 이해도가 부족하여 프로젝트 수행도 어렵고 결과에 대한 분석을 하기도 어려웠다."
   ]
  }
 ],
 "metadata": {
  "kernelspec": {
   "display_name": "Python 3 (ipykernel)",
   "language": "python",
   "name": "python3"
  },
  "language_info": {
   "codemirror_mode": {
    "name": "ipython",
    "version": 3
   },
   "file_extension": ".py",
   "mimetype": "text/x-python",
   "name": "python",
   "nbconvert_exporter": "python",
   "pygments_lexer": "ipython3",
   "version": "3.9.7"
  }
 },
 "nbformat": 4,
 "nbformat_minor": 5
}
