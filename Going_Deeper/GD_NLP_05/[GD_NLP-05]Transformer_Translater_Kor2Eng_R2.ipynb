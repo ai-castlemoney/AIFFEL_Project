{
 "cells": [
  {
   "cell_type": "markdown",
   "id": "5cdd402c",
   "metadata": {},
   "source": [
    "# 프로젝트 : 더 멋진 번역기 만들기\n",
    "---\n",
    "- 한국어 문장 입력으로 부터 영어로 번역된 문장을 출력하는 번역기를 만들어보자. \n",
    "\n",
    "- [jungyeul/korean-parallel-corpora](https://github.com/jungyeul/korean-parallel-corpora/tree/master/korean-english-news-v1)에서 제공하는 데이터셋 활용"
   ]
  },
  {
   "cell_type": "code",
   "execution_count": 1,
   "id": "d52105c0",
   "metadata": {},
   "outputs": [
    {
     "name": "stdout",
     "output_type": "stream",
     "text": [
      "fonts-nanum is already the newest version (20180306-3).\n",
      "The following packages were automatically installed and are no longer required:\n",
      "  accountsservice-ubuntu-schemas bc bluez-obexd cups cups-browsed cups-client\n",
      "  cups-common cups-core-drivers cups-daemon cups-filters\n",
      "  cups-filters-core-drivers cups-ipp-utils cups-ppdc cups-server-common\n",
      "  fonts-droid-fallback fonts-noto-mono fonts-urw-base35 ghostscript\n",
      "  gir1.2-dbusmenu-glib-0.4 gnome-bluetooth gnome-power-manager\n",
      "  gnome-screensaver gsettings-ubuntu-schemas gvfs-backends indicator-applet\n",
      "  indicator-application indicator-appmenu indicator-bluetooth indicator-common\n",
      "  indicator-datetime indicator-keyboard indicator-messages indicator-power\n",
      "  indicator-printers indicator-session indicator-sound jayatana\n",
      "  libaccounts-glib0 libbamf3-2 libcdio-cdda2 libcdio-paranoia2 libcdio18\n",
      "  libcupsfilters1 libfcitx-config4 libfcitx-gclient1 libfcitx-utils0\n",
      "  libfontembed1 libgnome-panel0 libgs9 libgs9-common libido3-0.1-0 libijs-0.35\n",
      "  libindicator3-7 libjbig2dec0 liblightdm-gobject-1-0 liblouis-data liblouis20\n",
      "  liblouisutdml-bin liblouisutdml-data liblouisutdml9 libmessaging-menu0\n",
      "  libmtp-common libmtp-runtime libmtp9 libnfs13 libpaper-utils libpaper1\n",
      "  libpoppler-cpp0v5 libqpdf26 libunity-gtk2-parser0 libunity-gtk3-parser0\n",
      "  libunity-settings-daemon1 liburl-dispatcher1 lightdm nautilus-data\n",
      "  poppler-utils python3-psutil python3-xdg ssl-cert ubuntu-touch-sounds\n",
      "  unity-greeter unity-gtk-module-common unity-gtk2-module unity-gtk3-module\n",
      "  unity-settings-daemon unity-settings-daemon-schemas\n",
      "Use 'sudo apt autoremove' to remove them.\n",
      "0 upgraded, 0 newly installed, 0 to remove and 0 not upgraded.\n"
     ]
    }
   ],
   "source": [
    "#- 나눔글꼴 설치\n",
    "! sudo apt -qq -y install fonts-nanum"
   ]
  },
  {
   "cell_type": "code",
   "execution_count": 2,
   "id": "90b09d65",
   "metadata": {},
   "outputs": [
    {
     "name": "stdout",
     "output_type": "stream",
     "text": [
      "Requirement already satisfied: sentencepiece in /opt/conda/lib/python3.9/site-packages (0.1.96)\n",
      "\u001b[33mWARNING: Running pip as the 'root' user can result in broken permissions and conflicting behaviour with the system package manager. It is recommended to use a virtual environment instead: https://pip.pypa.io/warnings/venv\u001b[0m\n"
     ]
    }
   ],
   "source": [
    "#- SentencePiece 설치\n",
    "\n",
    "! pip install sentencepiece"
   ]
  },
  {
   "cell_type": "code",
   "execution_count": 3,
   "id": "758e43e0",
   "metadata": {},
   "outputs": [
    {
     "name": "stdout",
     "output_type": "stream",
     "text": [
      "슝=3\n"
     ]
    }
   ],
   "source": [
    "import matplotlib as mpl\n",
    "import matplotlib.pyplot as plt\n",
    "import matplotlib.font_manager as fm\n",
    "\n",
    "%config InlineBackend.figure_format = 'retina'\n",
    " \n",
    "fontpath = '/usr/share/fonts/truetype/nanum/NanumBarunGothic.ttf'\n",
    "font = fm.FontProperties(fname=fontpath, size=9)\n",
    "plt.rc('font', family='NanumBarunGothic') \n",
    "mpl.font_manager.findfont(font)\n",
    "\n",
    "print(\"슝=3\")"
   ]
  },
  {
   "cell_type": "code",
   "execution_count": 4,
   "id": "f78f9332",
   "metadata": {},
   "outputs": [
    {
     "name": "stdout",
     "output_type": "stream",
     "text": [
      "2.6.0\n"
     ]
    }
   ],
   "source": [
    "import tensorflow as tf\n",
    "import numpy as np\n",
    "\n",
    "from sklearn.model_selection import train_test_split\n",
    "\n",
    "import sentencepiece as spm\n",
    "\n",
    "import matplotlib.ticker as ticker\n",
    "import matplotlib.pyplot as plt\n",
    "\n",
    "import re\n",
    "import os\n",
    "import io\n",
    "import time\n",
    "import random\n",
    "\n",
    "from tqdm import tqdm\n",
    "from tqdm import tqdm_notebook\n",
    "import random\n",
    "\n",
    "\n",
    "print(tf.__version__)"
   ]
  },
  {
   "cell_type": "code",
   "execution_count": 5,
   "id": "716abd39",
   "metadata": {},
   "outputs": [],
   "source": [
    "data_dir = os.getenv('HOME')+'/aiffel/transformer/data'\n",
    "kor_path = data_dir+\"/korean-english-park.train.ko\"\n",
    "eng_path = data_dir+\"/korean-english-park.train.en\""
   ]
  },
  {
   "cell_type": "code",
   "execution_count": 6,
   "id": "d44e8b1e",
   "metadata": {},
   "outputs": [
    {
     "data": {
      "text/plain": [
       "'/aiffel/aiffel/transformer/data'"
      ]
     },
     "execution_count": 6,
     "metadata": {},
     "output_type": "execute_result"
    }
   ],
   "source": [
    "data_dir"
   ]
  },
  {
   "cell_type": "code",
   "execution_count": 7,
   "id": "f2f6f422",
   "metadata": {},
   "outputs": [
    {
     "data": {
      "text/plain": [
       "'/aiffel/aiffel/transformer/data/korean-english-park.train.ko'"
      ]
     },
     "execution_count": 7,
     "metadata": {},
     "output_type": "execute_result"
    }
   ],
   "source": [
    "kor_path"
   ]
  },
  {
   "cell_type": "code",
   "execution_count": 8,
   "id": "dc449662",
   "metadata": {},
   "outputs": [
    {
     "data": {
      "text/plain": [
       "'/aiffel/aiffel/transformer/data/korean-english-park.train.en'"
      ]
     },
     "execution_count": 8,
     "metadata": {},
     "output_type": "execute_result"
    }
   ],
   "source": [
    "eng_path"
   ]
  },
  {
   "cell_type": "code",
   "execution_count": 9,
   "id": "268dcdad",
   "metadata": {
    "scrolled": false
   },
   "outputs": [
    {
     "name": "stdout",
     "output_type": "stream",
     "text": [
      "Data Size:(94123,94123)\n",
      "Example:\n",
      ">>\n",
      "한국어 : 개인용 컴퓨터 사용의 상당 부분은 \"이것보다 뛰어날 수 있느냐?\"\n",
      "영어 : Much of personal computing is about \"can you top this?\"\n",
      "\n",
      ">>\n",
      "한국어 : 모든 광마우스와 마찬가지 로 이 광마우스도 책상 위에 놓는 마우스 패드를 필요로 하지 않는다.\n",
      "영어 : so a mention a few weeks ago about a rechargeable wireless optical mouse brought in another rechargeable, wireless mouse.\n",
      "\n",
      ">>\n",
      "한국어 : 그러나 이것은 또한 책상도 필요로 하지 않는다.\n",
      "영어 : Like all optical mice, But it also doesn't need a desk.\n",
      "\n",
      ">>\n",
      "한국어 : 79.95달러하는 이 최첨단 무선 광마우스는 허공에서 팔목, 팔, 그외에 어떤 부분이든 그 움직임에따라 커서의 움직임을 조절하는 회전 운동 센서를 사용하고 있다.\n",
      "영어 : uses gyroscopic sensors to control the cursor movement as you move your wrist, arm, whatever through the air.\n",
      "\n",
      ">>\n",
      "한국어 : 정보 관리들은 동남 아시아에서의 선박들에 대한 많은 (테러) 계획들이 실패로 돌아갔음을 밝혔으며, 세계 해상 교역량의 거의 3분의 1을 운송하는 좁은 해로인 말라카 해협이 테러 공격을 당하기 쉽다고 경고하고 있다.\n",
      "영어 : Intelligence officials have revealed a spate of foiled plots on ships in Southeast Asia and are warning that a narrow stretch of water carrying almost one third of the world's maritime trade is vulnerable to a terror attack.\n",
      "\n"
     ]
    }
   ],
   "source": [
    "with open(kor_path, \"r\") as f: kor = f.read().splitlines()\n",
    "with open(eng_path, \"r\") as f: eng = f.read().splitlines()\n",
    "print(\"Data Size:({},{})\".format(len(kor), len(eng)))\n",
    "print(\"Example:\")\n",
    "\n",
    "cnt = 0\n",
    "for ko, en in zip(kor, eng):\n",
    "    print(f\">>\\n한국어 : {ko}\\n영어 : {en}\\n\")\n",
    "    cnt += 1\n",
    "    if cnt == 5:\n",
    "        break"
   ]
  },
  {
   "cell_type": "markdown",
   "id": "9eea2c3e",
   "metadata": {},
   "source": [
    "# 2. 데이터 정제 및 토큰화 \n",
    "### 1) 중복데이터 제거\n",
    "- set 데이터형이 중복을 허용하지 않는다는 것을 활용해 중복된 데이터 제거 \n",
    "- 중복을 제거한 데이터를 cleaned_corpus 에 저장"
   ]
  },
  {
   "cell_type": "code",
   "execution_count": 10,
   "id": "a24d65a9",
   "metadata": {},
   "outputs": [],
   "source": [
    "# 데이터 정제 및 토큰화\n",
    "def clean_corpus(kor, eng):\n",
    "    assert len(kor) == len(eng)\n",
    "    cleaned_corpus = list(set(zip(kor, eng)))\n",
    "\n",
    "    return cleaned_corpus"
   ]
  },
  {
   "cell_type": "code",
   "execution_count": 11,
   "id": "76b461a1",
   "metadata": {},
   "outputs": [
    {
     "data": {
      "text/plain": [
       "78968"
      ]
     },
     "execution_count": 11,
     "metadata": {},
     "output_type": "execute_result"
    }
   ],
   "source": [
    "cleaned_corpus = clean_corpus(kor, eng)\n",
    "len(cleaned_corpus)"
   ]
  },
  {
   "cell_type": "markdown",
   "id": "81478b6f",
   "metadata": {},
   "source": [
    "### 2) 정제함수 정의\n",
    "\n",
    "- 모든 입력을 소문자로 변환\n",
    "- 알파벳, 문장부호, 한글만 남기고 모두 제거\n",
    "- 문장부호 양옆에 공백을 추가\n",
    "- 문장 앞뒤의 불필요한 공백을 제거"
   ]
  },
  {
   "cell_type": "code",
   "execution_count": 12,
   "id": "9245441a",
   "metadata": {},
   "outputs": [],
   "source": [
    "def preprocess_sentence(sentence):\n",
    "    sentence = sentence.lower() #- 소문자 변환\n",
    "    sentence = re.sub(r\"[^a-zA-Zㄱ-ㅎㅏ-ㅣ가-힣?.!,]+\", \" \", sentence) #- 알파벳, 문장부호, 한글 이외는 제거\n",
    "    sentence = re.sub(r'[\" \"]+', \" \", sentence) #- 여러개의 공백은 하나의 공백으로 바꾸기\n",
    "    sentence = sentence.strip() #- 양쪽 공백 제거\n",
    "    return sentence"
   ]
  },
  {
   "cell_type": "markdown",
   "id": "8dd3f093",
   "metadata": {},
   "source": [
    "### 3) 토큰화\n",
    "- 한글 말뭉치 `kor_corpus` 와 영문 말뭉치 `eng_corpus` 를 각각 분리한 후, 정제하여 토큰화 \n",
    "- 토큰화에는 [SentencePiece](https://github.com/google/sentencepiece)를 사용 \n",
    "    - `generate_tokenizer()` 함수를 정의하여 최종적으로 `ko_tokenizer`와 `en_tokenizer`를 얻는다. \n",
    "    - `en_tokenizer`에는 `set_encode_extra_options(\"bos:eos\")` 함수를 실행해 타겟 입력이 문장의 시작 토큰과 끝 토큰을 포함할 수 있게 한다.\n",
    "    - 단어 사전을 매개변수로 받아 원하는 크기의 사전을 정의할 수 있게 한다.(기본 : 20,000)\n",
    "    - 학습 후 저장된 model 파일을 `SentencePieceProcessor()` 클래스에 `Load()`한 후 반환\n",
    "    - 특수 토큰의 인덱스를 아래와 동일하게 지정\n",
    "        - `<PAD>` : 0 / `<BOS>` : 1 / `<EOS>` : 2 / `<UNK>` : 3\n",
    "        \n",
    "- [spm의 입력은 txt로 넣어야 한다.](https://lovit.github.io/nlp/2018/04/02/wpm/)"
   ]
  },
  {
   "cell_type": "code",
   "execution_count": 13,
   "id": "ae816b3d",
   "metadata": {},
   "outputs": [],
   "source": [
    "# Sentencepiece를 활용하여 학습한 tokenizer를 생성합니다.\n",
    "def generate_tokenizer(corpus, \n",
    "                       model_type='unigram', \n",
    "                       vocab_size=25000, \n",
    "                       lang=\"ko\"): \n",
    "    \n",
    "    input_file = f'{lang}_spm_input.txt'\n",
    "\n",
    "    with open(input_file, 'w', encoding='utf-8') as f:\n",
    "        for sent in corpus:\n",
    "            f.write('{}\\n'.format(sent))\n",
    "        \n",
    "    sp_model_root='sentencepiece'\n",
    "    if not os.path.isdir(sp_model_root): os.mkdir(sp_model_root)\n",
    "    \n",
    "    prefix = 'tokenizer_%s_%s' % (lang,model_type+str(vocab_size))\n",
    "    prefix = os.path.join(sp_model_root, prefix) # 저장될 tokenizer 모델에 붙는 이름\n",
    "    pad_id=0\n",
    "    bos_id=1 #<start> token을 1으로 설정\n",
    "    eos_id=2 #<end> token을 2으로 설정\n",
    "    unk_id=3 #<unknown> token을 3으로 설정\n",
    "    character_coverage = 1.0 # to reduce character set \n",
    "    # model_type = model_type # Choose from unigram (default), bpe, char, or word\n",
    "    input_argument = '--input=%s --pad_id=%s --bos_id=%s --eos_id=%s --unk_id=%s --model_prefix=%s --vocab_size=%s --character_coverage=%s --model_type=%s'\n",
    "    cmd = input_argument%(input_file, pad_id, bos_id, eos_id, unk_id, prefix, vocab_size, character_coverage, model_type)\n",
    "                      \n",
    "    spm.SentencePieceTrainer.Train(cmd)\n",
    "    tokenizer = spm.SentencePieceProcessor()\n",
    "    tokenizer.Load(f'{prefix}.model')\n",
    "    \n",
    "    return tokenizer"
   ]
  },
  {
   "cell_type": "code",
   "execution_count": 14,
   "id": "8cf284b4",
   "metadata": {
    "scrolled": true
   },
   "outputs": [
    {
     "data": {
      "text/plain": [
       "('이 씨는 자신이 피해자라고 주장하며, 이 사건에 아무 것도 모른다고 주장하고 있다.',\n",
       " 'Lee claims to be a victim and denies having any knowledge of the scam.')"
      ]
     },
     "execution_count": 14,
     "metadata": {},
     "output_type": "execute_result"
    }
   ],
   "source": [
    "cleaned_corpus[1]"
   ]
  },
  {
   "cell_type": "code",
   "execution_count": 15,
   "id": "527549be",
   "metadata": {
    "scrolled": false
   },
   "outputs": [
    {
     "name": "stderr",
     "output_type": "stream",
     "text": [
      "sentencepiece_trainer.cc(177) LOG(INFO) Running command: --input=ko_spm_input.txt --pad_id=0 --bos_id=1 --eos_id=2 --unk_id=3 --model_prefix=sentencepiece/tokenizer_ko_unigram25000 --vocab_size=25000 --character_coverage=1.0 --model_type=unigram\n",
      "sentencepiece_trainer.cc(77) LOG(INFO) Starts training with : \n",
      "trainer_spec {\n",
      "  input: ko_spm_input.txt\n",
      "  input_format: \n",
      "  model_prefix: sentencepiece/tokenizer_ko_unigram25000\n",
      "  model_type: UNIGRAM\n",
      "  vocab_size: 25000\n",
      "  self_test_sample_size: 0\n",
      "  character_coverage: 1\n",
      "  input_sentence_size: 0\n",
      "  shuffle_input_sentence: 1\n",
      "  seed_sentencepiece_size: 1000000\n",
      "  shrinking_factor: 0.75\n",
      "  max_sentence_length: 4192\n",
      "  num_threads: 16\n",
      "  num_sub_iterations: 2\n",
      "  max_sentencepiece_length: 16\n",
      "  split_by_unicode_script: 1\n",
      "  split_by_number: 1\n",
      "  split_by_whitespace: 1\n",
      "  split_digits: 0\n",
      "  treat_whitespace_as_suffix: 0\n",
      "  allow_whitespace_only_pieces: 0\n",
      "  required_chars: \n",
      "  byte_fallback: 0\n",
      "  vocabulary_output_piece_score: 1\n",
      "  train_extremely_large_corpus: 0\n",
      "  hard_vocab_limit: 1\n",
      "  use_all_vocab: 0\n",
      "  unk_id: 3\n",
      "  bos_id: 1\n",
      "  eos_id: 2\n",
      "  pad_id: 0\n",
      "  unk_piece: <unk>\n",
      "  bos_piece: <s>\n",
      "  eos_piece: </s>\n",
      "  pad_piece: <pad>\n",
      "  unk_surface:  ⁇ \n",
      "}\n",
      "normalizer_spec {\n",
      "  name: nmt_nfkc\n",
      "  add_dummy_prefix: 1\n",
      "  remove_extra_whitespaces: 1\n",
      "  escape_whitespaces: 1\n",
      "  normalization_rule_tsv: \n",
      "}\n",
      "denormalizer_spec {}\n",
      "trainer_interface.cc(329) LOG(INFO) SentenceIterator is not specified. Using MultiFileSentenceIterator.\n",
      "trainer_interface.cc(178) LOG(INFO) Loading corpus: ko_spm_input.txt\n",
      "trainer_interface.cc(385) LOG(INFO) Loaded all 78967 sentences\n",
      "trainer_interface.cc(400) LOG(INFO) Adding meta_piece: <pad>\n",
      "trainer_interface.cc(400) LOG(INFO) Adding meta_piece: <s>\n",
      "trainer_interface.cc(400) LOG(INFO) Adding meta_piece: </s>\n",
      "trainer_interface.cc(400) LOG(INFO) Adding meta_piece: <unk>\n",
      "trainer_interface.cc(405) LOG(INFO) Normalizing sentences...\n",
      "trainer_interface.cc(466) LOG(INFO) all chars count=4952030\n",
      "trainer_interface.cc(487) LOG(INFO) Alphabet size=1671\n",
      "trainer_interface.cc(488) LOG(INFO) Final character coverage=1\n",
      "trainer_interface.cc(520) LOG(INFO) Done! preprocessed 78967 sentences.\n",
      "unigram_model_trainer.cc(139) LOG(INFO) Making suffix array...\n",
      "unigram_model_trainer.cc(143) LOG(INFO) Extracting frequent sub strings...\n",
      "unigram_model_trainer.cc(194) LOG(INFO) Initialized 168830 seed sentencepieces\n",
      "trainer_interface.cc(526) LOG(INFO) Tokenizing input sentences with whitespace: 78967\n",
      "trainer_interface.cc(537) LOG(INFO) Done! 205217\n",
      "unigram_model_trainer.cc(489) LOG(INFO) Using 205217 sentences for EM training\n",
      "unigram_model_trainer.cc(505) LOG(INFO) EM sub_iter=0 size=86587 obj=13.452 num_tokens=401661 num_tokens/piece=4.63881\n",
      "unigram_model_trainer.cc(505) LOG(INFO) EM sub_iter=1 size=74058 obj=12.1955 num_tokens=403034 num_tokens/piece=5.44214\n",
      "unigram_model_trainer.cc(505) LOG(INFO) EM sub_iter=0 size=55536 obj=12.2178 num_tokens=420785 num_tokens/piece=7.5768\n",
      "unigram_model_trainer.cc(505) LOG(INFO) EM sub_iter=1 size=55501 obj=12.1797 num_tokens=421229 num_tokens/piece=7.58957\n",
      "unigram_model_trainer.cc(505) LOG(INFO) EM sub_iter=0 size=41625 obj=12.3453 num_tokens=445922 num_tokens/piece=10.7128\n",
      "unigram_model_trainer.cc(505) LOG(INFO) EM sub_iter=1 size=41622 obj=12.3056 num_tokens=445935 num_tokens/piece=10.7139\n",
      "unigram_model_trainer.cc(505) LOG(INFO) EM sub_iter=0 size=31216 obj=12.5348 num_tokens=472904 num_tokens/piece=15.1494\n",
      "unigram_model_trainer.cc(505) LOG(INFO) EM sub_iter=1 size=31216 obj=12.4889 num_tokens=472906 num_tokens/piece=15.1495\n",
      "unigram_model_trainer.cc(505) LOG(INFO) EM sub_iter=0 size=27500 obj=12.5958 num_tokens=484503 num_tokens/piece=17.6183\n",
      "unigram_model_trainer.cc(505) LOG(INFO) EM sub_iter=1 size=27500 obj=12.5752 num_tokens=484506 num_tokens/piece=17.6184\n",
      "trainer_interface.cc(615) LOG(INFO) Saving model: sentencepiece/tokenizer_ko_unigram25000.model\n",
      "trainer_interface.cc(626) LOG(INFO) Saving vocabs: sentencepiece/tokenizer_ko_unigram25000.vocab\n",
      "sentencepiece_trainer.cc(177) LOG(INFO) Running command: --input=en_spm_input.txt --pad_id=0 --bos_id=1 --eos_id=2 --unk_id=3 --model_prefix=sentencepiece/tokenizer_en_unigram25000 --vocab_size=25000 --character_coverage=1.0 --model_type=unigram\n"
     ]
    },
    {
     "data": {
      "text/plain": [
       "True"
      ]
     },
     "execution_count": 15,
     "metadata": {},
     "output_type": "execute_result"
    },
    {
     "name": "stderr",
     "output_type": "stream",
     "text": [
      "sentencepiece_trainer.cc(77) LOG(INFO) Starts training with : \n",
      "trainer_spec {\n",
      "  input: en_spm_input.txt\n",
      "  input_format: \n",
      "  model_prefix: sentencepiece/tokenizer_en_unigram25000\n",
      "  model_type: UNIGRAM\n",
      "  vocab_size: 25000\n",
      "  self_test_sample_size: 0\n",
      "  character_coverage: 1\n",
      "  input_sentence_size: 0\n",
      "  shuffle_input_sentence: 1\n",
      "  seed_sentencepiece_size: 1000000\n",
      "  shrinking_factor: 0.75\n",
      "  max_sentence_length: 4192\n",
      "  num_threads: 16\n",
      "  num_sub_iterations: 2\n",
      "  max_sentencepiece_length: 16\n",
      "  split_by_unicode_script: 1\n",
      "  split_by_number: 1\n",
      "  split_by_whitespace: 1\n",
      "  split_digits: 0\n",
      "  treat_whitespace_as_suffix: 0\n",
      "  allow_whitespace_only_pieces: 0\n",
      "  required_chars: \n",
      "  byte_fallback: 0\n",
      "  vocabulary_output_piece_score: 1\n",
      "  train_extremely_large_corpus: 0\n",
      "  hard_vocab_limit: 1\n",
      "  use_all_vocab: 0\n",
      "  unk_id: 3\n",
      "  bos_id: 1\n",
      "  eos_id: 2\n",
      "  pad_id: 0\n",
      "  unk_piece: <unk>\n",
      "  bos_piece: <s>\n",
      "  eos_piece: </s>\n",
      "  pad_piece: <pad>\n",
      "  unk_surface:  ⁇ \n",
      "}\n",
      "normalizer_spec {\n",
      "  name: nmt_nfkc\n",
      "  add_dummy_prefix: 1\n",
      "  remove_extra_whitespaces: 1\n",
      "  escape_whitespaces: 1\n",
      "  normalization_rule_tsv: \n",
      "}\n",
      "denormalizer_spec {}\n",
      "trainer_interface.cc(329) LOG(INFO) SentenceIterator is not specified. Using MultiFileSentenceIterator.\n",
      "trainer_interface.cc(178) LOG(INFO) Loading corpus: en_spm_input.txt\n",
      "trainer_interface.cc(385) LOG(INFO) Loaded all 78956 sentences\n",
      "trainer_interface.cc(400) LOG(INFO) Adding meta_piece: <pad>\n",
      "trainer_interface.cc(400) LOG(INFO) Adding meta_piece: <s>\n",
      "trainer_interface.cc(400) LOG(INFO) Adding meta_piece: </s>\n",
      "trainer_interface.cc(400) LOG(INFO) Adding meta_piece: <unk>\n",
      "trainer_interface.cc(405) LOG(INFO) Normalizing sentences...\n",
      "trainer_interface.cc(466) LOG(INFO) all chars count=10482142\n",
      "trainer_interface.cc(487) LOG(INFO) Alphabet size=31\n",
      "trainer_interface.cc(488) LOG(INFO) Final character coverage=1\n",
      "trainer_interface.cc(520) LOG(INFO) Done! preprocessed 78956 sentences.\n",
      "unigram_model_trainer.cc(139) LOG(INFO) Making suffix array...\n",
      "unigram_model_trainer.cc(143) LOG(INFO) Extracting frequent sub strings...\n",
      "unigram_model_trainer.cc(194) LOG(INFO) Initialized 123580 seed sentencepieces\n",
      "trainer_interface.cc(526) LOG(INFO) Tokenizing input sentences with whitespace: 78956\n",
      "trainer_interface.cc(537) LOG(INFO) Done! 69642\n",
      "unigram_model_trainer.cc(489) LOG(INFO) Using 69642 sentences for EM training\n",
      "unigram_model_trainer.cc(505) LOG(INFO) EM sub_iter=0 size=41593 obj=10.3115 num_tokens=127305 num_tokens/piece=3.06073\n",
      "unigram_model_trainer.cc(505) LOG(INFO) EM sub_iter=1 size=33057 obj=8.11421 num_tokens=127080 num_tokens/piece=3.84427\n",
      "unigram_model_trainer.cc(505) LOG(INFO) EM sub_iter=0 size=27495 obj=8.06772 num_tokens=130953 num_tokens/piece=4.76279\n",
      "unigram_model_trainer.cc(505) LOG(INFO) EM sub_iter=1 size=27475 obj=8.05786 num_tokens=130979 num_tokens/piece=4.76721\n",
      "trainer_interface.cc(615) LOG(INFO) Saving model: sentencepiece/tokenizer_en_unigram25000.model\n",
      "trainer_interface.cc(626) LOG(INFO) Saving vocabs: sentencepiece/tokenizer_en_unigram25000.vocab\n"
     ]
    }
   ],
   "source": [
    "SRC_VOCAB_SIZE = TGT_VOCAB_SIZE = 25000\n",
    "\n",
    "eng_corpus = []\n",
    "kor_corpus = []\n",
    "\n",
    "for pair in cleaned_corpus:\n",
    "    k, e = pair[0],pair[1]\n",
    "\n",
    "    kor_corpus.append(preprocess_sentence(k))\n",
    "    eng_corpus.append(preprocess_sentence(e))\n",
    "\n",
    "ko_tokenizer = generate_tokenizer(kor_corpus, 'unigram', SRC_VOCAB_SIZE, \"ko\")\n",
    "en_tokenizer = generate_tokenizer(eng_corpus, 'unigram', TGT_VOCAB_SIZE, \"en\")\n",
    "en_tokenizer.set_encode_extra_options(\"bos:eos\")"
   ]
  },
  {
   "cell_type": "code",
   "execution_count": 16,
   "id": "e9f41ada",
   "metadata": {},
   "outputs": [],
   "source": [
    "ko_test_txts = ['세계기상기구는 “코로나19에 따른 경제 활동 둔화로 탄소 배출이 일시적으로 줄었지만, 대기 중 이산화탄소 농도에 뚜렷한 영향을 주지 못했다”고 설명했다.','기후변화 대응·적응에 필요한 재원 분담 과정에서 나타나는 선진국과 개발도상국의 이견도 오래 묵은 논쟁거리다.']\n",
    "en_test_txts = ['Democrats, including President Biden, are lobbying for Senator Joe Manchin’s support, knowing he is a crucial swing vote on their domestic agenda.','The contest to fill a vacant State House seat in South Texas has exposed the vulnerabilities of a Democratic stronghold.']\n"
   ]
  },
  {
   "cell_type": "code",
   "execution_count": 17,
   "id": "bf606a48",
   "metadata": {},
   "outputs": [],
   "source": [
    "def testSP(sp, txts):\n",
    "    tokens_list = []\n",
    "    for txt in txts:\n",
    "        tokens = sp.encode_as_pieces(txt)\n",
    "        #ids = sp.encode_as_ids(txt)\n",
    "        tokens_list.append(tokens)\n",
    "    return tokens_list"
   ]
  },
  {
   "cell_type": "code",
   "execution_count": 18,
   "id": "706f444f",
   "metadata": {},
   "outputs": [
    {
     "data": {
      "text/plain": [
       "[['▁세계',\n",
       "  '기',\n",
       "  '상',\n",
       "  '기구',\n",
       "  '는',\n",
       "  '▁',\n",
       "  '“',\n",
       "  '코',\n",
       "  '로',\n",
       "  '나',\n",
       "  '19',\n",
       "  '에',\n",
       "  '▁따른',\n",
       "  '▁경제',\n",
       "  '▁활동',\n",
       "  '▁둔화',\n",
       "  '로',\n",
       "  '▁탄소',\n",
       "  '▁배출',\n",
       "  '이',\n",
       "  '▁일시적',\n",
       "  '으로',\n",
       "  '▁줄',\n",
       "  '었지만',\n",
       "  ',',\n",
       "  '▁대기',\n",
       "  '▁중',\n",
       "  '▁이산화탄소',\n",
       "  '▁농도',\n",
       "  '에',\n",
       "  '▁뚜렷',\n",
       "  '한',\n",
       "  '▁영향',\n",
       "  '을',\n",
       "  '▁주지',\n",
       "  '▁못했다',\n",
       "  '”',\n",
       "  '고',\n",
       "  '▁설명했다',\n",
       "  '.'],\n",
       " ['▁기후변화',\n",
       "  '▁대응',\n",
       "  '·',\n",
       "  '적',\n",
       "  '응',\n",
       "  '에',\n",
       "  '▁필요한',\n",
       "  '▁재원',\n",
       "  '▁분담',\n",
       "  '▁과정에서',\n",
       "  '▁나타나',\n",
       "  '는',\n",
       "  '▁선진국',\n",
       "  '과',\n",
       "  '▁개발도상국',\n",
       "  '의',\n",
       "  '▁이견',\n",
       "  '도',\n",
       "  '▁오래',\n",
       "  '▁묵',\n",
       "  '은',\n",
       "  '▁논쟁거리',\n",
       "  '다',\n",
       "  '.']]"
      ]
     },
     "execution_count": 18,
     "metadata": {},
     "output_type": "execute_result"
    }
   ],
   "source": [
    "testSP(ko_tokenizer, ko_test_txts)"
   ]
  },
  {
   "cell_type": "code",
   "execution_count": 19,
   "id": "dd062327",
   "metadata": {},
   "outputs": [
    {
     "data": {
      "text/plain": [
       "[['<s>',\n",
       "  '▁',\n",
       "  'D',\n",
       "  'e',\n",
       "  'mo',\n",
       "  'c',\n",
       "  'rat',\n",
       "  's',\n",
       "  ',',\n",
       "  '▁including',\n",
       "  '▁',\n",
       "  'P',\n",
       "  'res',\n",
       "  'ident',\n",
       "  '▁',\n",
       "  'B',\n",
       "  'ide',\n",
       "  'n',\n",
       "  ',',\n",
       "  '▁are',\n",
       "  '▁lobby',\n",
       "  'ing',\n",
       "  '▁for',\n",
       "  '▁',\n",
       "  'S',\n",
       "  'ena',\n",
       "  'tor',\n",
       "  '▁',\n",
       "  'J',\n",
       "  'o',\n",
       "  'e',\n",
       "  '▁',\n",
       "  'M',\n",
       "  'an',\n",
       "  'chi',\n",
       "  'n',\n",
       "  '’',\n",
       "  's',\n",
       "  '▁support',\n",
       "  ',',\n",
       "  '▁knowing',\n",
       "  '▁he',\n",
       "  '▁is',\n",
       "  '▁a',\n",
       "  '▁crucial',\n",
       "  '▁swing',\n",
       "  '▁vote',\n",
       "  '▁on',\n",
       "  '▁their',\n",
       "  '▁domestic',\n",
       "  '▁agenda',\n",
       "  '.',\n",
       "  '</s>'],\n",
       " ['<s>',\n",
       "  '▁',\n",
       "  'T',\n",
       "  'he',\n",
       "  '▁contest',\n",
       "  '▁to',\n",
       "  '▁fill',\n",
       "  '▁a',\n",
       "  '▁vacant',\n",
       "  '▁',\n",
       "  'S',\n",
       "  'ta',\n",
       "  'te',\n",
       "  '▁',\n",
       "  'H',\n",
       "  'ous',\n",
       "  'e',\n",
       "  '▁seat',\n",
       "  '▁in',\n",
       "  '▁',\n",
       "  'S',\n",
       "  'out',\n",
       "  'h',\n",
       "  '▁',\n",
       "  'T',\n",
       "  'ex',\n",
       "  'as',\n",
       "  '▁has',\n",
       "  '▁exposed',\n",
       "  '▁the',\n",
       "  '▁vulnerabilities',\n",
       "  '▁of',\n",
       "  '▁a',\n",
       "  '▁',\n",
       "  'D',\n",
       "  'e',\n",
       "  'mo',\n",
       "  'cratic',\n",
       "  '▁stronghold',\n",
       "  '.',\n",
       "  '</s>']]"
      ]
     },
     "execution_count": 19,
     "metadata": {},
     "output_type": "execute_result"
    }
   ],
   "source": [
    "testSP(en_tokenizer, en_test_txts)"
   ]
  },
  {
   "cell_type": "markdown",
   "id": "61893d7a",
   "metadata": {},
   "source": [
    "### 4) 데이터 선별\n",
    "- 토크나이저를 활용해 토큰의 길이가 40 이하인 데이터를 선별하여 src_corpus 와 tgt_corpus 를 각각 구축\n",
    "- 이후 텐서 enc_train 과 dec_train 으로 변환"
   ]
  },
  {
   "cell_type": "code",
   "execution_count": 20,
   "id": "1aedea4e",
   "metadata": {},
   "outputs": [
    {
     "data": {
      "application/vnd.jupyter.widget-view+json": {
       "model_id": "f3c70f8dcbfd49258f8a3d8f5397996c",
       "version_major": 2,
       "version_minor": 0
      },
      "text/plain": [
       "  0%|          | 0/78968 [00:00<?, ?it/s]"
      ]
     },
     "metadata": {},
     "output_type": "display_data"
    }
   ],
   "source": [
    "from tqdm.notebook import tqdm    # Process 과정을 보기 위해\n",
    "\n",
    "src_corpus = []\n",
    "tgt_corpus = []\n",
    "\n",
    "assert len(kor_corpus) == len(eng_corpus)\n",
    "\n",
    "# 토큰의 길이가 40 이하인 문장만 남깁니다. \n",
    "for idx in tqdm(range(len(kor_corpus))):\n",
    "    src = ko_tokenizer.EncodeAsIds(kor_corpus[idx])\n",
    "    tgt = en_tokenizer.EncodeAsIds(eng_corpus[idx])\n",
    "    \n",
    "    if len(src) <= 40 and len(tgt) <= 40 :\n",
    "        src_corpus.append(src)\n",
    "        tgt_corpus.append(tgt)\n",
    "\n",
    "# 패딩처리를 완료하여 학습용 데이터를 완성합니다. \n",
    "enc_train = tf.keras.preprocessing.sequence.pad_sequences(src_corpus, padding='post')\n",
    "dec_train = tf.keras.preprocessing.sequence.pad_sequences(tgt_corpus, padding='post')"
   ]
  },
  {
   "cell_type": "markdown",
   "id": "6c105801",
   "metadata": {},
   "source": [
    "# 3. 모델 설계\n"
   ]
  },
  {
   "cell_type": "code",
   "execution_count": 21,
   "id": "6bf39a6b",
   "metadata": {},
   "outputs": [],
   "source": [
    "def positional_encoding(pos, d_model):\n",
    "    def cal_angle(position, i):\n",
    "        return position / np.power(10000, int(i)/d_model)\n",
    "    \n",
    "    def get_posi_angle_vec(position):\n",
    "        return [cal_angle(position, i) for i in range(d_model)]\n",
    "    \n",
    "    sinusoid_table = np.array([get_posi_angle_vec(pos_i) for pos_i in range(pos)])\n",
    "    \n",
    "    sinusoid_table[:, 0::2] = np.sin(sinusoid_table[:, 0::2])\n",
    "    sinusoid_table[:, 1::2] = np.cos(sinusoid_table[:, 1::2])\n",
    "    \n",
    "    return sinusoid_table"
   ]
  },
  {
   "cell_type": "code",
   "execution_count": 22,
   "id": "da6c6d48",
   "metadata": {},
   "outputs": [],
   "source": [
    "class MultiHeadAttention(tf.keras.layers.Layer):\n",
    "    def __init__(self, d_model, num_heads):\n",
    "        super(MultiHeadAttention, self).__init__()\n",
    "        self.num_heads = num_heads\n",
    "        self.d_model = d_model\n",
    "        \n",
    "        self.depth = d_model // self.num_heads\n",
    "        \n",
    "        self.W_q = tf.keras.layers.Dense(d_model)  \n",
    "        self.W_k = tf.keras.layers.Dense(d_model)\n",
    "        self.W_v = tf.keras.layers.Dense(d_model)\n",
    "        \n",
    "        self.linear = tf.keras.layers.Dense(d_model)\n",
    "    \n",
    "    def scaled_dot_product_attention(self, Q, K, V, mask):\n",
    "        d_k = tf.cast(K.shape[-1], tf.float32)\n",
    "        \n",
    "        QK = tf.matmul(Q, K, transpose_b=True)\n",
    "        scaled_qk = QK / tf.math.sqrt(d_k)\n",
    "        \n",
    "        if mask is not None:\n",
    "            scaled_qk += (mask * -1e9)\n",
    "        \n",
    "        attentions = tf.nn.softmax(scaled_qk, axis=-1)\n",
    "        out = tf.matmul(attentions, V)\n",
    "        return out, attentions \n",
    "    \n",
    "    def scaled_dot_product_attention(self, Q, K, V, mask):\n",
    "        d_k = tf.cast(K.shape[-1], tf.float32)\n",
    "        \n",
    "        # Scaled QK 값 구하기\n",
    "        QK = tf.matmul(Q, K, transpose_b=True)\n",
    "        scaled_qk = QK / tf.math.sqrt(d_k)\n",
    "        \n",
    "        if mask is not None:\n",
    "            scaled_qk += (mask * -1e9)\n",
    "        \n",
    "        # 1. Attention Weights 값 구하기 -> attentions\n",
    "        attentions = tf.nn.softmax(scaled_qk, axis=-1)\n",
    "        # 2. Attention 값을 V에 곱하기 -> out\n",
    "        out = tf.matmul(attentions, V)\n",
    "        return out, attentions\n",
    "    \n",
    "    def split_heads(self, x):\n",
    "        \"\"\"\n",
    "        Embedding된 입력을 head의 수로 분할하는 함수\n",
    "        \n",
    "        x: [ batch x length x emb ]\n",
    "        return: [ batch x length x heads x self.depth ]\n",
    "        \"\"\"\n",
    "        bsz = x.shape[0]\n",
    "        split_x = tf.reshape(x, (bsz, -1, self.num_heads, self.depth))\n",
    "        split_x = tf.transpose(split_x, perm=[0, 2, 1, 3])\n",
    "        return split_x\n",
    "    \n",
    "    def combine_heads(self, x):\n",
    "        \"\"\"\n",
    "        분할된 Embedding을 하나로 결합하는 함수\n",
    "        \n",
    "        x: [ batch x length x heads x self.depth ]\n",
    "        return: [ batch x length x emb ]\n",
    "        \"\"\"\n",
    "        bsz = x.shape[0]\n",
    "        combined_x = tf.transpose(x, perm=[0, 2, 1, 3])\n",
    "        combined_x = tf.reshape(combined_x, (bsz, -1, self.d_model))\n",
    "        return combined_x\n",
    "    \n",
    "    def call(self, Q, K, V, mask):\n",
    "        \"\"\"\n",
    "        Step 1: Linear_in(Q, K, V) -> WQ, WK, WV\n",
    "        Step 2: Split Heads(WQ, WK, WV) -> WQ_split, WK_split, WV_split\n",
    "        Step 3: Scaled Dot Product Attention(WQ_split, WK_split, WV_split)\n",
    "                 -> out, attention_weights\n",
    "        Step 4: Combine Heads(out) -> out\n",
    "        Step 5: Linear_out(out) -> out\n",
    "        \"\"\"\n",
    "        WQ = self.W_q(Q)\n",
    "        WK = self.W_k(K)\n",
    "        WV = self.W_v(V)\n",
    "        \n",
    "        WQ_splits = self.split_heads(WQ)\n",
    "        WK_splits = self.split_heads(WK)\n",
    "        WV_splits = self.split_heads(WV)\n",
    "        \n",
    "        out, attention_weights = self.scaled_dot_product_attention(\n",
    "            WQ_splits, WK_splits, WV_splits, mask\n",
    "        )\n",
    "        \n",
    "        out = self.combine_heads(out)\n",
    "        out = self.linear(out)\n",
    "        \n",
    "        return out, attention_weights"
   ]
  },
  {
   "cell_type": "code",
   "execution_count": 23,
   "id": "c5fc1859",
   "metadata": {},
   "outputs": [],
   "source": [
    "class PoswiseFeedForwardNet(tf.keras.layers.Layer):\n",
    "    def __init__(self, d_model, d_ff):\n",
    "        super(PoswiseFeedForwardNet, self).__init__()\n",
    "        self.w_1 = tf.keras.layers.Dense(d_ff, activation='relu')\n",
    "        self.w_2 = tf.keras.layers.Dense(d_model)\n",
    "        \n",
    "    def call(self, x):\n",
    "        out = self.w_1(x)\n",
    "        out = self.w_2(out)\n",
    "        return out"
   ]
  },
  {
   "cell_type": "code",
   "execution_count": 24,
   "id": "ce3e1f12",
   "metadata": {},
   "outputs": [],
   "source": [
    "class EncoderLayer(tf.keras.layers.Layer):\n",
    "    def __init__(self, d_model, n_heads, d_ff, dropout):\n",
    "        super(EncoderLayer, self).__init__()\n",
    "        self.enc_self_attn = MultiHeadAttention(d_model, n_heads)\n",
    "        self.ffn = PoswiseFeedForwardNet(d_model, d_ff)\n",
    "        \n",
    "        self.norm_1 = tf.keras.layers.LayerNormalization(epsilon=1e-6)\n",
    "        self.norm_2 = tf.keras.layers.LayerNormalization(epsilon=1e-6)\n",
    "        \n",
    "        self.do = tf.keras.layers.Dropout(dropout)\n",
    "        \n",
    "    def call(self, x, mask):\n",
    "        #- Multi-Head Attention\n",
    "        residual = x\n",
    "        out = self.norm_1(x)\n",
    "        out, enc_attn = self.enc_self_attn(out, out, out, mask)\n",
    "        out = self.do(out)\n",
    "        out += residual\n",
    "        \n",
    "        #- Position-Wise Feed Forward Network\n",
    "        residual = out\n",
    "        out = self.norm_2(out)\n",
    "        out = self.ffn(out)\n",
    "        out = self.do(out)\n",
    "        out += residual\n",
    "        \n",
    "        return out, enc_attn"
   ]
  },
  {
   "cell_type": "code",
   "execution_count": 25,
   "id": "174a68b9",
   "metadata": {},
   "outputs": [],
   "source": [
    "class DecoderLayer(tf.keras.layers.Layer):\n",
    "    def __init__(self, d_model, num_heads, d_ff, dropout):\n",
    "        super(DecoderLayer, self).__init__()\n",
    "\n",
    "        self.dec_self_attn = MultiHeadAttention(d_model, num_heads)\n",
    "        self.enc_dec_attn = MultiHeadAttention(d_model, num_heads)\n",
    "\n",
    "        self.ffn = PoswiseFeedForwardNet(d_model, d_ff)\n",
    "\n",
    "        self.norm_1 = tf.keras.layers.LayerNormalization(epsilon=1e-6)\n",
    "        self.norm_2 = tf.keras.layers.LayerNormalization(epsilon=1e-6)\n",
    "        self.norm_3 = tf.keras.layers.LayerNormalization(epsilon=1e-6)\n",
    "\n",
    "        self.do = tf.keras.layers.Dropout(dropout)\n",
    "        \n",
    "    def call(self, x, enc_out, causality_mask, padding_mask):\n",
    "        #- Masked Multi-Head Attention\n",
    "        residual = x\n",
    "        out = self.norm_1(x)\n",
    "        out, dec_attn = self.dec_self_attn(out, out, out, padding_mask)\n",
    "        out = self.do(out)\n",
    "        out += residual\n",
    "        \n",
    "        #- Multi-Head Attention\n",
    "        residual = out\n",
    "        out = self.norm_2(out)\n",
    "        out, dec_enc_attn = self.enc_dec_attn(out, enc_out, enc_out, causality_mask)\n",
    "        out = self.do(out)\n",
    "        out += residual\n",
    "\n",
    "        #- Position-Wise Feed Forward Network\n",
    "        residual = out\n",
    "        out = self.norm_3(out)\n",
    "        out = self.ffn(out)\n",
    "        out = self.do(out)\n",
    "        out += residual\n",
    "\n",
    "        return out, dec_attn, dec_enc_attn"
   ]
  },
  {
   "cell_type": "code",
   "execution_count": 26,
   "id": "8e5b8dfa",
   "metadata": {},
   "outputs": [],
   "source": [
    "class Encoder(tf.keras.Model):\n",
    "    def __init__(self, n_layers, d_model, n_heads, d_ff, dropout):\n",
    "        super(Encoder, self).__init__()\n",
    "        self.n_layers = n_layers\n",
    "        self.enc_layers = [EncoderLayer(d_model, n_heads, d_ff, dropout) for _ in range(n_layers)]\n",
    "        self.do = tf.keras.layers.Dropout(dropout)\n",
    "        \n",
    "    def call(self, x, mask):\n",
    "        out = x\n",
    "        enc_attns = list()\n",
    "        for i in range(self.n_layers):\n",
    "            out, enc_attn = self.enc_layers[i](out, mask)\n",
    "            enc_attns.append(enc_attn)\n",
    "            \n",
    "        return out, enc_attns"
   ]
  },
  {
   "cell_type": "code",
   "execution_count": 27,
   "id": "35b80574",
   "metadata": {},
   "outputs": [],
   "source": [
    "class Decoder(tf.keras.Model):\n",
    "    def __init__(self, n_layers, d_model, n_heads, d_ff, dropout):\n",
    "        super(Decoder, self).__init__()\n",
    "        self.n_layers = n_layers\n",
    "        self.dec_layers = [DecoderLayer(d_model, n_heads, d_ff, dropout) for _ in range(n_layers)]\n",
    "        \n",
    "    def call(self, x, enc_out, causality_mask, padding_mask):\n",
    "        out = x\n",
    "        dec_attns = list()\n",
    "        dec_enc_attns = list()\n",
    "        for i in range(self.n_layers):\n",
    "            out, dec_attn, dec_enc_attn = self.dec_layers[i](out, enc_out, causality_mask, padding_mask)\n",
    "            dec_attns.append(dec_attn)\n",
    "            dec_enc_attns.append(dec_enc_attn)\n",
    "        \n",
    "        return out, dec_attns, dec_enc_attns"
   ]
  },
  {
   "cell_type": "code",
   "execution_count": 28,
   "id": "f3909c68",
   "metadata": {},
   "outputs": [],
   "source": [
    "class Transformer(tf.keras.Model):\n",
    "    def __init__(self, n_layers, d_model, n_heads, d_ff, src_vocab_size, tgt_vocab_size,\n",
    "                 pos_len, dropout=0.2, shared=True):\n",
    "        super(Transformer, self).__init__()\n",
    "        self.d_model = tf.cast(d_model, tf.float32)\n",
    "        \n",
    "        #- 1. Embedding Layer 정의\n",
    "        self.enc_emb = tf.keras.layers.Embedding(src_vocab_size, d_model)\n",
    "        self.dec_emb = tf.keras.layers.Embedding(tgt_vocab_size, d_model)\n",
    "        \n",
    "        #- 2. Positional Encoding 정의\n",
    "        self.pos_encoding = positional_encoding(pos_len, d_model)\n",
    "        #- 6. Dropout 정의\n",
    "        self.do = tf.keras.layers.Dropout(dropout)\n",
    "        \n",
    "        #- 3. Encoder / Decoder 정의\n",
    "        self.encoder = Encoder(n_layers, d_model, n_heads, d_ff, dropout)\n",
    "        self.decoder = Decoder(n_layers, d_model, n_heads, d_ff, dropout)\n",
    "        \n",
    "        #- 4. Output Linear 정의\n",
    "        self.fc = tf.keras.layers.Dense(tgt_vocab_size)\n",
    "        \n",
    "        #- 5. Shared Weights\n",
    "        self.shared = shared\n",
    "        \n",
    "        if shared:\n",
    "            self.fc.set_weights(tf.transpose(self.dec_emb.weights))\n",
    "        \n",
    "        \n",
    "    def embedding(self, emb, x):\n",
    "        \"\"\"\n",
    "        입력된 정수 배열을 Embedding + Pos Encoding\n",
    "        + Shared일 경우 Scaling 작업 포함\n",
    "\n",
    "        x: [ batch x length ]\n",
    "        return: [ batch x length x emb ]\n",
    "        \"\"\"\n",
    "        seq_len = x.shape[1]\n",
    "        out = emb(x)\n",
    "        \n",
    "        if self.shared:\n",
    "            out *= tf.math.sqrt(self.d_model)\n",
    "        \n",
    "        out += self.pos_encoding[np.newaxis, ...][:, :seq_len, :]\n",
    "        out = self.do(out)\n",
    "        \n",
    "        return out\n",
    "    \n",
    "    def call(self, enc_in, dec_in, enc_mask, causality_mask, dec_mask):\n",
    "        #- Step 1: Embedding(enc_in, dec_in) -> enc_in, dec_in\n",
    "        enc_in = self.embedding(self.enc_emb, enc_in)\n",
    "        dec_in = self.embedding(self.dec_emb, dec_in)\n",
    "        \n",
    "        #- Step 2: Encoder(enc_in, enc_mask) -> enc_out, enc_attns\n",
    "        enc_out, enc_attns = self.encoder(enc_in, enc_mask)\n",
    "\n",
    "        #- Step 3: Decoder(dec_in, enc_out, mask) -> dec_out, dec_attns, dec_enc_attns\n",
    "        dec_out, dec_attns, dec_enc_attns = self.decoder(dec_in, enc_out, causality_mask, dec_mask)\n",
    "        \n",
    "        #- Step 4: Out Linear(dec_out) -> logits\n",
    "        logits = self.fc(dec_out)\n",
    "        \n",
    "        return logits, enc_attns, dec_attns, dec_enc_attns"
   ]
  },
  {
   "cell_type": "code",
   "execution_count": 29,
   "id": "2aa40237",
   "metadata": {},
   "outputs": [],
   "source": [
    "def generate_padding_mask(seq):\n",
    "    seq = tf.cast(tf.math.equal(seq, 0), tf.float32)\n",
    "    return seq[:, tf.newaxis, tf.newaxis, :]\n",
    "\n",
    "def generate_causality_mask(src_len, tgt_len):\n",
    "    mask = 1 - np.cumsum(np.eye(src_len, tgt_len), 0)\n",
    "    return tf.cast(mask, tf.float32)\n",
    "\n",
    "def generate_masks(src, tgt):\n",
    "    enc_mask = generate_padding_mask(src)\n",
    "    dec_mask = generate_padding_mask(tgt)\n",
    "\n",
    "    dec_enc_causality_mask = generate_causality_mask(tgt.shape[1], src.shape[1])\n",
    "    dec_enc_mask = tf.maximum(enc_mask, dec_enc_causality_mask)\n",
    "\n",
    "    dec_causality_mask = generate_causality_mask(tgt.shape[1], tgt.shape[1])\n",
    "    dec_mask = tf.maximum(dec_mask, dec_causality_mask)\n",
    "\n",
    "    return enc_mask, dec_enc_mask, dec_mask"
   ]
  },
  {
   "cell_type": "markdown",
   "id": "011f6216",
   "metadata": {},
   "source": [
    "# 4. 훈련\n",
    "### 1) 모델 선언\n",
    "- Layer를 가지는 Transformer 선언. (하이퍼파라미터는 자유롭게 조절)"
   ]
  },
  {
   "cell_type": "code",
   "execution_count": 30,
   "id": "d4b96f36",
   "metadata": {},
   "outputs": [],
   "source": [
    "transformer = Transformer(\n",
    "    n_layers=6,\n",
    "    d_model=512,\n",
    "    n_heads=8,\n",
    "    d_ff=2048,\n",
    "    src_vocab_size=SRC_VOCAB_SIZE,\n",
    "    tgt_vocab_size=TGT_VOCAB_SIZE,\n",
    "    pos_len=200,\n",
    "    dropout=0.5,\n",
    "    shared=True\n",
    ")"
   ]
  },
  {
   "cell_type": "markdown",
   "id": "d482e638",
   "metadata": {},
   "source": [
    "### 2) Learning Rate Scheduler\n",
    "- 논문에서 사용한 것과 동일한 Learning Rate Scheduler를 선언하고, 이를 포함하는 Adam Optimizer를 선언합니다. "
   ]
  },
  {
   "cell_type": "code",
   "execution_count": 31,
   "id": "27b76aaf",
   "metadata": {},
   "outputs": [],
   "source": [
    "class LearningRateScheduler(tf.keras.optimizers.schedules.LearningRateSchedule):\n",
    "    def __init__(self, d_model, warmup_steps=4000):\n",
    "        super(LearningRateScheduler, self).__init__()\n",
    "        self.d_model = d_model\n",
    "        self.warmup_steps = warmup_steps\n",
    "    \n",
    "    def __call__(self, step):\n",
    "        arg1 = step ** -0.5\n",
    "        arg2 = step * (self.warmup_steps ** -1.5)\n",
    "        \n",
    "        return (self.d_model ** -0.5) * tf.math.minimum(arg1, arg2)"
   ]
  },
  {
   "cell_type": "code",
   "execution_count": 32,
   "id": "385cb3ca",
   "metadata": {},
   "outputs": [],
   "source": [
    "learning_rate = LearningRateScheduler(512)\n",
    "optimizer = tf.keras.optimizers.Adam(learning_rate, beta_1=0.9, beta_2=0.98, epsilon=1e-9)"
   ]
  },
  {
   "cell_type": "markdown",
   "id": "c232e0b4",
   "metadata": {},
   "source": [
    "### 3) Loss 함수 정의\n",
    "- Sequence-to-sequence 모델에서 사용했던 Loss와 유사하되, Masking 되지 않은 입력의 개수로 Scaling하는 과정을 추가합니다. (트랜스포머가 모든 입력에 대한 Loss를 한 번에 구하기 때문입니다.)"
   ]
  },
  {
   "cell_type": "code",
   "execution_count": 33,
   "id": "b9fada9f",
   "metadata": {},
   "outputs": [],
   "source": [
    "loss_object = tf.keras.losses.SparseCategoricalCrossentropy(\n",
    "    from_logits=True, reduction='none')\n",
    "\n",
    "def loss_function(real, pred):\n",
    "    mask = tf.math.logical_not(tf.math.equal(real, 0))\n",
    "    loss_ = loss_object(real, pred)\n",
    "\n",
    "    # Masking 되지 않은 입력의 개수로 Scaling하는 과정\n",
    "    mask = tf.cast(mask, dtype=loss_.dtype)\n",
    "    loss_ *= mask\n",
    "\n",
    "    return tf.reduce_sum(loss_)/tf.reduce_sum(mask)"
   ]
  },
  {
   "cell_type": "markdown",
   "id": "2bf926a2",
   "metadata": {},
   "source": [
    "### 4) train_step 함수 정의\n",
    "- 입력 데이터에 알맞은 Mask를 생성하고, 이를 모델에 전달하여 연산에서 사용할 수 있게 합니다. "
   ]
  },
  {
   "cell_type": "code",
   "execution_count": 34,
   "id": "e92b1c8c",
   "metadata": {},
   "outputs": [],
   "source": [
    "# Train Step 함수 정의\n",
    "\n",
    "@tf.function()\n",
    "def train_step(src, tgt, model, optimizer):\n",
    "    gold = tgt[:, 1:]\n",
    "        \n",
    "    enc_mask, dec_enc_mask, dec_mask = generate_masks(src, tgt)\n",
    "\n",
    "    # 계산된 loss에 tf.GradientTape()를 적용해 학습을 진행합니다.\n",
    "    with tf.GradientTape() as tape:\n",
    "        predictions, enc_attns, dec_attns, dec_enc_attns = \\\n",
    "        model(src, tgt, enc_mask, dec_enc_mask, dec_mask)\n",
    "        loss = loss_function(gold, predictions[:, :-1])\n",
    "\n",
    "    # 최종적으로 optimizer.apply_gradients()가 사용됩니다. \n",
    "    gradients = tape.gradient(loss, model.trainable_variables)    \n",
    "    optimizer.apply_gradients(zip(gradients, model.trainable_variables))\n",
    "    \n",
    "    return loss, enc_attns, dec_attns, dec_enc_attns"
   ]
  },
  {
   "cell_type": "markdown",
   "id": "1834bf16",
   "metadata": {},
   "source": [
    "### 5) 학습 진행\n",
    "- 매 Epoch 마다 제시된 예문에 대한 번역을 생성하고, 멋진 번역이 생성되면 그때의 하이퍼파라미터와 생성된 번역을 기록합니다. \n",
    "\n",
    "- 예문\n",
    "    1. 오바마는 대통령이다.\n",
    "    2. 시민들은 도시 속에 산다.\n",
    "    3. 커피는 필요 없다.\n",
    "    4. 일곱 명의 사망자가 발생했다.\n",
    "    5. 투표는 시민의 권리이다.\n",
    "    6. 음주는 만성간염, 간경변증, 간암의 대표적인 원인이다.\n",
    "    7. 친환경 에너지 정책을 펼쳐온 미국 조 바이든 행정부가 올 들어 석탄 사용량을 늘린 것으로 나타났다.\n",
    "    8. 박씨는 몇 년 전 국제마피아파를 탈퇴해 ‘관심 대상’으로 분류됐다고 한다.\n",
    "    "
   ]
  },
  {
   "cell_type": "code",
   "execution_count": 35,
   "id": "dd13f96f",
   "metadata": {},
   "outputs": [],
   "source": [
    "# Attention 시각화 함수\n",
    "\n",
    "def visualize_attention(src, tgt, enc_attns, dec_attns, dec_enc_attns):\n",
    "    def draw(data, ax, x=\"auto\", y=\"auto\"):\n",
    "        import seaborn\n",
    "        seaborn.heatmap(data, \n",
    "                        square=True,\n",
    "                        vmin=0.0, vmax=1.0, \n",
    "                        cbar=False, ax=ax,\n",
    "                        xticklabels=x,\n",
    "                        yticklabels=y)\n",
    "        \n",
    "    for layer in range(0, 2, 1):\n",
    "        fig, axs = plt.subplots(1, 4, figsize=(20, 10))\n",
    "        print(\"Encoder Layer\", layer + 1)\n",
    "        for h in range(4):\n",
    "            draw(enc_attns[layer][0, h, :len(src), :len(src)], axs[h], src, src)\n",
    "        plt.show()\n",
    "        \n",
    "    for layer in range(0, 2, 1):\n",
    "        fig, axs = plt.subplots(1, 4, figsize=(20, 10))\n",
    "        print(\"Decoder Self Layer\", layer+1)\n",
    "        for h in range(4):\n",
    "            draw(dec_attns[layer][0, h, :len(tgt), :len(tgt)], axs[h], tgt, tgt)\n",
    "        plt.show()\n",
    "\n",
    "        print(\"Decoder Src Layer\", layer+1)\n",
    "        fig, axs = plt.subplots(1, 4, figsize=(20, 10))\n",
    "        for h in range(4):\n",
    "            draw(dec_enc_attns[layer][0, h, :len(tgt), :len(src)], axs[h], src, tgt)\n",
    "        plt.show()"
   ]
  },
  {
   "cell_type": "code",
   "execution_count": 36,
   "id": "6d620ec0",
   "metadata": {},
   "outputs": [],
   "source": [
    "# 번역 생성 함수\n",
    "\n",
    "def evaluate(sentence, model, src_tokenizer, tgt_tokenizer):\n",
    "    sentence = preprocess_sentence(sentence)\n",
    "\n",
    "    pieces = src_tokenizer.encode_as_pieces(sentence)\n",
    "    tokens = src_tokenizer.encode_as_ids(sentence)\n",
    "\n",
    "    _input = tf.keras.preprocessing.sequence.pad_sequences([tokens],\n",
    "                                                           maxlen=enc_train.shape[-1],\n",
    "                                                           padding='post')\n",
    "    \n",
    "    ids = []\n",
    "    output = tf.expand_dims([tgt_tokenizer.bos_id()], 0)\n",
    "    for i in range(dec_train.shape[-1]):\n",
    "        enc_padding_mask, combined_mask, dec_padding_mask = \\\n",
    "        generate_masks(_input, output)\n",
    "\n",
    "        predictions, enc_attns, dec_attns, dec_enc_attns =\\\n",
    "        model(_input, \n",
    "              output,\n",
    "              enc_padding_mask,\n",
    "              combined_mask,\n",
    "              dec_padding_mask)\n",
    "\n",
    "        predicted_id = \\\n",
    "        tf.argmax(tf.math.softmax(predictions, axis=-1)[0, -1]).numpy().item()\n",
    "\n",
    "        if tgt_tokenizer.eos_id() == predicted_id:\n",
    "            result = tgt_tokenizer.decode_ids(ids)\n",
    "            return pieces, result, enc_attns, dec_attns, dec_enc_attns\n",
    "\n",
    "        ids.append(predicted_id)\n",
    "        output = tf.concat([output, tf.expand_dims([predicted_id], 0)], axis=-1)\n",
    "\n",
    "    result = tgt_tokenizer.decode_ids(ids)\n",
    "\n",
    "    return pieces, result, enc_attns, dec_attns, dec_enc_attns"
   ]
  },
  {
   "cell_type": "code",
   "execution_count": 37,
   "id": "9801f3d8",
   "metadata": {},
   "outputs": [],
   "source": [
    "# 번역 생성 및 Attention 시각화 결합\n",
    "\n",
    "def translate(sentence, model, src_tokenizer, tgt_tokenizer, plot_attention=False):\n",
    "    pieces, result, enc_attns, dec_attns, dec_enc_attns = \\\n",
    "    evaluate(sentence, model, src_tokenizer, tgt_tokenizer)\n",
    "    \n",
    "    print('Input: %s' % (sentence))\n",
    "    print('Predicted translation: {}'.format(result))\n",
    "\n",
    "    if plot_attention:\n",
    "        visualize_attention(pieces, result.split(), enc_attns, dec_attns, dec_enc_attns)"
   ]
  },
  {
   "cell_type": "code",
   "execution_count": 38,
   "id": "58959d39",
   "metadata": {
    "scrolled": false
   },
   "outputs": [
    {
     "data": {
      "application/vnd.jupyter.widget-view+json": {
       "model_id": "e213387df6bf4105ba9455b8c93f404e",
       "version_major": 2,
       "version_minor": 0
      },
      "text/plain": [
       "  0%|          | 0/1029 [00:00<?, ?it/s]"
      ]
     },
     "metadata": {},
     "output_type": "display_data"
    },
    {
     "name": "stdout",
     "output_type": "stream",
     "text": [
      "Input: 오바마는 대통령이다.\n",
      "Predicted translation: obama said he was a family.\n",
      "Input: 시민들은 도시 속에 산다.\n",
      "Predicted translation: the year old is a lot of the town of the city.\n",
      "Input: 커피는 필요 없다.\n",
      "Predicted translation: it was not to be.\n",
      "Input: 일곱 명의 사망자가 발생했다.\n",
      "Predicted translation: the navy was killed in the bombing of the bombing of the bombing, killing , , , , , , , people were killed.\n",
      "Input: 투표는 시민의 권리이다\n",
      "Predicted translation: the government is a possible of the country s election of the country s election, which is a possible of the country s election.\n",
      "Input: 음주는 만성간염, 간경변증, 간암의 대표적인 원인이다.\n",
      "Predicted translation: the year old, the latest, the associated press, which is not to be the first time.\n",
      "Input: 친환경 에너지 정책을 펼쳐온 미국 조 바이든 행정부가 올 들어 석탄 사용량을 늘린 것으로 나타났다.\n",
      "Predicted translation: the u.s. military says the united nations will be the united nations.\n",
      "Input: 박씨는 몇 년 전 국제마피아파를 탈퇴해 ‘관심 대상’으로 분류됐다고 한다.\n",
      "Predicted translation: the year old was suspended in the united states, which was a year old.\n"
     ]
    },
    {
     "data": {
      "application/vnd.jupyter.widget-view+json": {
       "model_id": "95a8e635113b40a3bc7fdccf1bf01e57",
       "version_major": 2,
       "version_minor": 0
      },
      "text/plain": [
       "  0%|          | 0/1029 [00:00<?, ?it/s]"
      ]
     },
     "metadata": {},
     "output_type": "display_data"
    },
    {
     "name": "stdout",
     "output_type": "stream",
     "text": [
      "Input: 오바마는 대통령이다.\n",
      "Predicted translation: obama s president, obama s president.\n",
      "Input: 시민들은 도시 속에 산다.\n",
      "Predicted translation: the city was built in the city of the city.\n",
      "Input: 커피는 필요 없다.\n",
      "Predicted translation: the coffee is not only the way.\n",
      "Input: 일곱 명의 사망자가 발생했다.\n",
      "Predicted translation: the dead were killed in the city of the city s death.\n",
      "Input: 투표는 시민의 권리이다\n",
      "Predicted translation: the vote is the only candidate for the vote.\n",
      "Input: 음주는 만성간염, 간경변증, 간암의 대표적인 원인이다.\n",
      "Predicted translation: the heart of the state of the state of the state, which is still a key role in the country.\n",
      "Input: 친환경 에너지 정책을 펼쳐온 미국 조 바이든 행정부가 올 들어 석탄 사용량을 늘린 것으로 나타났다.\n",
      "Predicted translation: the energy agency said the u.s. government has been making a major impact on the u.s.\n",
      "Input: 박씨는 몇 년 전 국제마피아파를 탈퇴해 ‘관심 대상’으로 분류됐다고 한다.\n",
      "Predicted translation: the year old was the first in the previous years ago, and the united states was the first in .\n"
     ]
    },
    {
     "data": {
      "application/vnd.jupyter.widget-view+json": {
       "model_id": "4c55e6173fd04a82a75592840e7e9378",
       "version_major": 2,
       "version_minor": 0
      },
      "text/plain": [
       "  0%|          | 0/1029 [00:00<?, ?it/s]"
      ]
     },
     "metadata": {},
     "output_type": "display_data"
    },
    {
     "name": "stdout",
     "output_type": "stream",
     "text": [
      "Input: 오바마는 대통령이다.\n",
      "Predicted translation: obama is the most popular kid.\n",
      "Input: 시민들은 도시 속에 산다.\n",
      "Predicted translation: it was a small urban.\n",
      "Input: 커피는 필요 없다.\n",
      "Predicted translation: caffeine is no one.\n",
      "Input: 일곱 명의 사망자가 발생했다.\n",
      "Predicted translation: the death toll occurred saturday.\n",
      "Input: 투표는 시민의 권리이다\n",
      "Predicted translation: the vote is a right to be a right to be a right to be a right to be a right to be a right.\n",
      "Input: 음주는 만성간염, 간경변증, 간암의 대표적인 원인이다.\n",
      "Predicted translation: drinking alcohol are common in the united states, the drinking medicine, the institute of health, the institute of health, the institute of health and health.\n",
      "Input: 친환경 에너지 정책을 펼쳐온 미국 조 바이든 행정부가 올 들어 석탄 사용량을 늘린 것으로 나타났다.\n",
      "Predicted translation: the energy department of energy, which is a part of the energy, is a part of the energy, is a part of the energy, the energy department said.\n",
      "Input: 박씨는 몇 년 전 국제마피아파를 탈퇴해 ‘관심 대상’으로 분류됐다고 한다.\n",
      "Predicted translation: park, who was the most of the international community, was the most of the world, said park chan, a former lawmaker.\n"
     ]
    },
    {
     "data": {
      "application/vnd.jupyter.widget-view+json": {
       "model_id": "cdb56b522e5c40ebbee57e6d33f3d1aa",
       "version_major": 2,
       "version_minor": 0
      },
      "text/plain": [
       "  0%|          | 0/1029 [00:00<?, ?it/s]"
      ]
     },
     "metadata": {},
     "output_type": "display_data"
    },
    {
     "name": "stdout",
     "output_type": "stream",
     "text": [
      "Input: 오바마는 대통령이다.\n",
      "Predicted translation: president obama is going to be a president.\n",
      "Input: 시민들은 도시 속에 산다.\n",
      "Predicted translation: the community is a powerful way to the city of the city.\n",
      "Input: 커피는 필요 없다.\n",
      "Predicted translation: it is not clear.\n",
      "Input: 일곱 명의 사망자가 발생했다.\n",
      "Predicted translation: the death toll from the attack happened on tuesday.\n",
      "Input: 투표는 시민의 권리이다\n",
      "Predicted translation: the vote is a rights of rights in the vote of the rights of rights of rights rights.\n",
      "Input: 음주는 만성간염, 간경변증, 간암의 대표적인 원인이다.\n",
      "Predicted translation: the institute of the state department of the deaths of the deaths of the blood transfusionism, which follows similarities.\n",
      "Input: 친환경 에너지 정책을 펼쳐온 미국 조 바이든 행정부가 올 들어 석탄 사용량을 늘린 것으로 나타났다.\n",
      "Predicted translation: the green zone is a little bit of a growing number of u.s. administration, which is now a piece of the administration of u.s.s. administration.\n",
      "Input: 박씨는 몇 년 전 국제마피아파를 탈퇴해 ‘관심 대상’으로 분류됐다고 한다.\n",
      "Predicted translation: the former president, former president of the international olympic committee, has been in the form of a global war on the issue of a global war in .\n"
     ]
    },
    {
     "data": {
      "application/vnd.jupyter.widget-view+json": {
       "model_id": "f8036a04179546c593cebc18899f7bff",
       "version_major": 2,
       "version_minor": 0
      },
      "text/plain": [
       "  0%|          | 0/1029 [00:00<?, ?it/s]"
      ]
     },
     "metadata": {},
     "output_type": "display_data"
    },
    {
     "name": "stdout",
     "output_type": "stream",
     "text": [
      "Input: 오바마는 대통령이다.\n",
      "Predicted translation: obama has a different victory.\n",
      "Input: 시민들은 도시 속에 산다.\n",
      "Predicted translation: they re struggling to find a town.\n",
      "Input: 커피는 필요 없다.\n",
      "Predicted translation: the cup cup package.\n",
      "Input: 일곱 명의 사망자가 발생했다.\n",
      "Predicted translation: seven people were killed in the clashes.\n",
      "Input: 투표는 시민의 권리이다\n",
      "Predicted translation: the vote is the right to the vote.\n",
      "Input: 음주는 만성간염, 간경변증, 간암의 대표적인 원인이다.\n",
      "Predicted translation: drinking, the lead between forming a mlwae, a tribute to the pain, was conducted as well as percent of the drug maker.\n",
      "Input: 친환경 에너지 정책을 펼쳐온 미국 조 바이든 행정부가 올 들어 석탄 사용량을 늘린 것으로 나타났다.\n",
      "Predicted translation: the green pushed the green light of a one of the administration s first commercial aircraft to be used to be used to develop a billion stimulus package.\n",
      "Input: 박씨는 몇 년 전 국제마피아파를 탈퇴해 ‘관심 대상’으로 분류됐다고 한다.\n",
      "Predicted translation: pak, who has been involved in the u.s. government, said the international atomic energy agency, was pursued as a sector of the international system.\n"
     ]
    },
    {
     "data": {
      "application/vnd.jupyter.widget-view+json": {
       "model_id": "50210c91dbf64003ac0a5ad02a70b8ea",
       "version_major": 2,
       "version_minor": 0
      },
      "text/plain": [
       "  0%|          | 0/1029 [00:00<?, ?it/s]"
      ]
     },
     "metadata": {},
     "output_type": "display_data"
    },
    {
     "name": "stdout",
     "output_type": "stream",
     "text": [
      "Input: 오바마는 대통령이다.\n",
      "Predicted translation: obama has a president.\n",
      "Input: 시민들은 도시 속에 산다.\n",
      "Predicted translation: the city is wrapped in a city of city.\n",
      "Input: 커피는 필요 없다.\n",
      "Predicted translation: it makes no makes it.\n",
      "Input: 일곱 명의 사망자가 발생했다.\n",
      "Predicted translation: on monday, seven people were killed.\n",
      "Input: 투표는 시민의 권리이다\n",
      "Predicted translation: vote is a vote of vote in the vote.\n",
      "Input: 음주는 만성간염, 간경변증, 간암의 대표적인 원인이다.\n",
      "Predicted translation: drinking, the drinking age of turbulence and unrest, the form of natural resources, and the associated press reported.\n",
      "Input: 친환경 에너지 정책을 펼쳐온 미국 조 바이든 행정부가 올 들어 석탄 사용량을 늘린 것으로 나타났다.\n",
      "Predicted translation: the energy analyst also says the united states has no access to increased air, and can be anticipated, the report says.\n",
      "Input: 박씨는 몇 년 전 국제마피아파를 탈퇴해 ‘관심 대상’으로 분류됐다고 한다.\n",
      "Predicted translation: park also showed a former international spy satellite in the international zone of the international space station, saying it was necessary to maintain any such action.\n"
     ]
    },
    {
     "data": {
      "application/vnd.jupyter.widget-view+json": {
       "model_id": "95dac2b01f0f4ebbbfd548560798828e",
       "version_major": 2,
       "version_minor": 0
      },
      "text/plain": [
       "  0%|          | 0/1029 [00:00<?, ?it/s]"
      ]
     },
     "metadata": {},
     "output_type": "display_data"
    },
    {
     "name": "stdout",
     "output_type": "stream",
     "text": [
      "Input: 오바마는 대통령이다.\n",
      "Predicted translation: obama s president is the president.\n",
      "Input: 시민들은 도시 속에 산다.\n",
      "Predicted translation: they ve always cut a black ham.\n",
      "Input: 커피는 필요 없다.\n",
      "Predicted translation: need to need a staple.\n",
      "Input: 일곱 명의 사망자가 발생했다.\n",
      "Predicted translation: seven people were killed.\n",
      "Input: 투표는 시민의 권리이다\n",
      "Predicted translation: right, the vote was a good time for citizens in the vote.\n",
      "Input: 음주는 만성간염, 간경변증, 간암의 대표적인 원인이다.\n",
      "Predicted translation: the drinking alcohol is aimed at preventing a test that has been stalled into two decades, and more intensive talks can be diagnosed with dark, partners and dark conflict of end.\n",
      "Input: 친환경 에너지 정책을 펼쳐온 미국 조 바이든 행정부가 올 들어 석탄 사용량을 늘린 것으로 나타났다.\n",
      "Predicted translation: clearing the green increase in a study in america is also being determined to have been spread, based on a small number of american nuclear power plants.\n",
      "Input: 박씨는 몇 년 전 국제마피아파를 탈퇴해 ‘관심 대상’으로 분류됐다고 한다.\n",
      "Predicted translation: park, , established a former south african union mate in the united states, established a fellowship in the war in the th of the international treaty.\n"
     ]
    },
    {
     "data": {
      "application/vnd.jupyter.widget-view+json": {
       "model_id": "ecd74dc241384c99a952ddc078a391fa",
       "version_major": 2,
       "version_minor": 0
      },
      "text/plain": [
       "  0%|          | 0/1029 [00:00<?, ?it/s]"
      ]
     },
     "metadata": {},
     "output_type": "display_data"
    },
    {
     "name": "stdout",
     "output_type": "stream",
     "text": [
      "Input: 오바마는 대통령이다.\n",
      "Predicted translation: president barack obama is playing among course while he s the president barack obama for president.\n",
      "Input: 시민들은 도시 속에 산다.\n",
      "Predicted translation: they see cities in the s.\n",
      "Input: 커피는 필요 없다.\n",
      "Predicted translation: the cannot need without the need.\n",
      "Input: 일곱 명의 사망자가 발생했다.\n",
      "Predicted translation: seven people were killed in the wake of the assassination.\n",
      "Input: 투표는 시민의 권리이다\n",
      "Predicted translation: right is the only right to non governmental citizens rights.\n",
      "Input: 음주는 만성간염, 간경변증, 간암의 대표적인 원인이다.\n",
      "Predicted translation: heart disease is the main reason behind at absence, which follows similar methods, plants and aggravated treatment.\n",
      "Input: 친환경 에너지 정책을 펼쳐온 미국 조 바이든 행정부가 올 들어 석탄 사용량을 늘린 것으로 나타났다.\n",
      "Predicted translation: green didn t have many of the little green zone, as slowly as they are.\n",
      "Input: 박씨는 몇 년 전 국제마피아파를 탈퇴해 ‘관심 대상’으로 분류됐다고 한다.\n",
      "Predicted translation: park also said he was considering making efforts to establish a variety of international condemnation.\n"
     ]
    },
    {
     "data": {
      "application/vnd.jupyter.widget-view+json": {
       "model_id": "c072babccde34eb0859f0d84492752b7",
       "version_major": 2,
       "version_minor": 0
      },
      "text/plain": [
       "  0%|          | 0/1029 [00:00<?, ?it/s]"
      ]
     },
     "metadata": {},
     "output_type": "display_data"
    },
    {
     "name": "stdout",
     "output_type": "stream",
     "text": [
      "Input: 오바마는 대통령이다.\n",
      "Predicted translation: president obama is live.\n",
      "Input: 시민들은 도시 속에 산다.\n",
      "Predicted translation: they just look at the city.\n",
      "Input: 커피는 필요 없다.\n",
      "Predicted translation: the need for coffee is coffee.\n",
      "Input: 일곱 명의 사망자가 발생했다.\n",
      "Predicted translation: seven of the seven people have been killed.\n",
      "Input: 투표는 시민의 권리이다\n",
      "Predicted translation: the vote is an right of vote.\n",
      "Input: 음주는 만성간염, 간경변증, 간암의 대표적인 원인이다.\n",
      "Predicted translation: the study was conducted over the weekend, including a knife, probably an academic defense department, and non radioactive musharraf.\n",
      "Input: 친환경 에너지 정책을 펼쳐온 미국 조 바이든 행정부가 올 들어 석탄 사용량을 늘린 것으로 나타났다.\n",
      "Predicted translation: instead, the consumer has increased radiation by years in america, the u.s. administration has used a decision to raise awareness, wards and cut back into oil\n",
      "Input: 박씨는 몇 년 전 국제마피아파를 탈퇴해 ‘관심 대상’으로 분류됐다고 한다.\n",
      "Predicted translation: park emphasized that a former u.s. ally many international en masse and said that there are any sort of terrorist recruitment with international political gambles.\n"
     ]
    },
    {
     "data": {
      "application/vnd.jupyter.widget-view+json": {
       "model_id": "09b2ccad9ecd4feab9a4b472eefd93b7",
       "version_major": 2,
       "version_minor": 0
      },
      "text/plain": [
       "  0%|          | 0/1029 [00:00<?, ?it/s]"
      ]
     },
     "metadata": {},
     "output_type": "display_data"
    },
    {
     "name": "stdout",
     "output_type": "stream",
     "text": [
      "Input: 오바마는 대통령이다.\n",
      "Predicted translation: obama s wife had four minutes.\n",
      "Input: 시민들은 도시 속에 산다.\n",
      "Predicted translation: most of the city s social terrain and in the th century had feet.\n",
      "Input: 커피는 필요 없다.\n",
      "Predicted translation: it s not always needed.\n",
      "Input: 일곱 명의 사망자가 발생했다.\n",
      "Predicted translation: seven people were killed seven have been taken into custody in seven days.\n",
      "Input: 투표는 시민의 권리이다\n",
      "Predicted translation: right was the right citizen.\n",
      "Input: 음주는 만성간염, 간경변증, 간암의 대표적인 원인이다.\n",
      "Predicted translation: the drunken driving between the brain october , and , flood associated press is an almost percent member of the brain.\n",
      "Input: 친환경 에너지 정책을 펼쳐온 미국 조 바이든 행정부가 올 들어 석탄 사용량을 늘린 것으로 나타났다.\n",
      "Predicted translation: green mccain says it is unprecedented in the u.s. administration because of job changes.\n",
      "Input: 박씨는 몇 년 전 국제마피아파를 탈퇴해 ‘관심 대상’으로 분류됐다고 한다.\n",
      "Predicted translation: park also was registered with the international organization of global warming and tried to intercept a wilder tiger.\n"
     ]
    },
    {
     "data": {
      "application/vnd.jupyter.widget-view+json": {
       "model_id": "ab71f305ed724d78aed4123c0dffc655",
       "version_major": 2,
       "version_minor": 0
      },
      "text/plain": [
       "  0%|          | 0/1029 [00:00<?, ?it/s]"
      ]
     },
     "metadata": {},
     "output_type": "display_data"
    },
    {
     "name": "stdout",
     "output_type": "stream",
     "text": [
      "Input: 오바마는 대통령이다.\n",
      "Predicted translation: obama s on his first trip.\n",
      "Input: 시민들은 도시 속에 산다.\n",
      "Predicted translation: they ve had the city s highest display.\n",
      "Input: 커피는 필요 없다.\n",
      "Predicted translation: it doesn t need.\n",
      "Input: 일곱 명의 사망자가 발생했다.\n",
      "Predicted translation: seven other people were killed tuesday.\n",
      "Input: 투표는 시민의 권리이다\n",
      "Predicted translation: the vote is designed to limit the rights.\n",
      "Input: 음주는 만성간염, 간경변증, 간암의 대표적인 원인이다.\n",
      "Predicted translation: the deal follows the explosion of tested a ballisticd relocation which has been co participating in the past two weeks.\n",
      "Input: 친환경 에너지 정책을 펼쳐온 미국 조 바이든 행정부가 올 들어 석탄 사용량을 늘린 것으로 나타났다.\n",
      "Predicted translation: green there may not be one doctor like a largely nearby, but can use fewer casualties.\n",
      "Input: 박씨는 몇 년 전 국제마피아파를 탈퇴해 ‘관심 대상’으로 분류됐다고 한다.\n",
      "Predicted translation: park former south korea like the international unification, which said the ex stories are zone.\n"
     ]
    },
    {
     "data": {
      "application/vnd.jupyter.widget-view+json": {
       "model_id": "e8d58bb71212470090995aa2ab8dedbf",
       "version_major": 2,
       "version_minor": 0
      },
      "text/plain": [
       "  0%|          | 0/1029 [00:00<?, ?it/s]"
      ]
     },
     "metadata": {},
     "output_type": "display_data"
    },
    {
     "name": "stdout",
     "output_type": "stream",
     "text": [
      "Input: 오바마는 대통령이다.\n",
      "Predicted translation: obama.\n",
      "Input: 시민들은 도시 속에 산다.\n",
      "Predicted translation: they re just enormously striking.\n",
      "Input: 커피는 필요 없다.\n",
      "Predicted translation: need to be coffee.\n",
      "Input: 일곱 명의 사망자가 발생했다.\n",
      "Predicted translation: seven palestinians have died in the wake of the death.\n",
      "Input: 투표는 시민의 권리이다\n",
      "Predicted translation: right to vote for music.\n",
      "Input: 음주는 만성간염, 간경변증, 간암의 대표적인 원인이다.\n",
      "Predicted translation: the drunken driving between the shiache here is the brain activity, the which is a natural gas parliament.\n",
      "Input: 친환경 에너지 정책을 펼쳐온 미국 조 바이든 행정부가 올 들어 석탄 사용량을 늘린 것으로 나타났다.\n",
      "Predicted translation: green, a policy for growing might be taking care, as it unveiled a growing concern, caused administration members for a third, and may growing number.\n",
      "Input: 박씨는 몇 년 전 국제마피아파를 탈퇴해 ‘관심 대상’으로 분류됐다고 한다.\n",
      "Predicted translation: park, like nearly years ago, is a pass by nato patients. so they are international gas non islamabad.\n"
     ]
    },
    {
     "data": {
      "application/vnd.jupyter.widget-view+json": {
       "model_id": "05915da9484444fe9bb86d67cfb55a86",
       "version_major": 2,
       "version_minor": 0
      },
      "text/plain": [
       "  0%|          | 0/1029 [00:00<?, ?it/s]"
      ]
     },
     "metadata": {},
     "output_type": "display_data"
    },
    {
     "name": "stdout",
     "output_type": "stream",
     "text": [
      "Input: 오바마는 대통령이다.\n",
      "Predicted translation: president obama is expected to win his nomination.\n",
      "Input: 시민들은 도시 속에 산다.\n",
      "Predicted translation: they re the cities of the city s old city.\n",
      "Input: 커피는 필요 없다.\n",
      "Predicted translation: coffee is no coffee .\n",
      "Input: 일곱 명의 사망자가 발생했다.\n",
      "Predicted translation: seven people were killed in the wake of the fatalities.\n",
      "Input: 투표는 시민의 권리이다\n",
      "Predicted translation: right are citizens.\n",
      "Input: 음주는 만성간염, 간경변증, 간암의 대표적인 원인이다.\n",
      "Predicted translation: the dealing with the standard of m relocation and continues to cause an anti globalization of an  cause he can cause two criticism of the planet s no longer.\n",
      "Input: 친환경 에너지 정책을 펼쳐온 미국 조 바이든 행정부가 올 들어 석탄 사용량을 늘린 것으로 나타났다.\n",
      "Predicted translation: green, terrorism patients leading to ate square meter of energy, are also worry that a third triggered consumer spending rare can cause skin energy.\n",
      "Input: 박씨는 몇 년 전 국제마피아파를 탈퇴해 ‘관심 대상’으로 분류됐다고 한다.\n",
      "Predicted translation: park sons have formed a support clinton union peacekeeping international zone in the country.\n"
     ]
    },
    {
     "data": {
      "application/vnd.jupyter.widget-view+json": {
       "model_id": "a873f50d312c45388c5ff14b1d0bb3e5",
       "version_major": 2,
       "version_minor": 0
      },
      "text/plain": [
       "  0%|          | 0/1029 [00:00<?, ?it/s]"
      ]
     },
     "metadata": {},
     "output_type": "display_data"
    },
    {
     "name": "stdout",
     "output_type": "stream",
     "text": [
      "Input: 오바마는 대통령이다.\n",
      "Predicted translation: president obama was already found on his nation.\n",
      "Input: 시민들은 도시 속에 산다.\n",
      "Predicted translation: they snaked around and brave populations fleeing the city.\n",
      "Input: 커피는 필요 없다.\n",
      "Predicted translation: need to be coffee.\n",
      "Input: 일곱 명의 사망자가 발생했다.\n",
      "Predicted translation: seven civilian deaths have been killed.\n",
      "Input: 투표는 시민의 권리이다\n",
      "Predicted translation: right to vote is the right of\n",
      "Input: 음주는 만성간염, 간경변증, 간암의 대표적인 원인이다.\n",
      "Predicted translation: the drinking, when the dr. general bell shock, leader of ages and taiwan, is au church one of the small, that.\n",
      "Input: 친환경 에너지 정책을 펼쳐온 미국 조 바이든 행정부가 올 들어 석탄 사용량을 늘린 것으로 나타났다.\n",
      "Predicted translation: let s see the odds of a increased risk of developing energy, and it has often compromise with a small private believed to be workers.\n",
      "Input: 박씨는 몇 년 전 국제마피아파를 탈퇴해 ‘관심 대상’으로 분류됐다고 한다.\n",
      "Predicted translation: park is here for several years ago, and the international treaty is helping in communication.\n"
     ]
    },
    {
     "data": {
      "application/vnd.jupyter.widget-view+json": {
       "model_id": "0bbb222599dc448e99268fadca4dc957",
       "version_major": 2,
       "version_minor": 0
      },
      "text/plain": [
       "  0%|          | 0/1029 [00:00<?, ?it/s]"
      ]
     },
     "metadata": {},
     "output_type": "display_data"
    },
    {
     "name": "stdout",
     "output_type": "stream",
     "text": [
      "Input: 오바마는 대통령이다.\n",
      "Predicted translation: obama s on the way.\n",
      "Input: 시민들은 도시 속에 산다.\n",
      "Predicted translation: they re three teenagers that live.\n",
      "Input: 커피는 필요 없다.\n",
      "Predicted translation: it is need for coffee.\n",
      "Input: 일곱 명의 사망자가 발생했다.\n",
      "Predicted translation: seven palestinians were killed.\n",
      "Input: 투표는 시민의 권리이다\n",
      "Predicted translation: the vote is the most important, to citizens.\n",
      "Input: 음주는 만성간염, 간경변증, 간암의 대표적인 원인이다.\n",
      "Predicted translation: the ill alcohol of the growing institute of technology, which believes natural thing, is a shock committee to am ozawas the bloodiest man s programs.\n",
      "Input: 친환경 에너지 정책을 펼쳐온 미국 조 바이든 행정부가 올 들어 석탄 사용량을 늘린 것으로 나타났다.\n",
      "Predicted translation: green energy can significantly increase the risk of developing energy, a third of a third largest hot increase.\n",
      "Input: 박씨는 몇 년 전 국제마피아파를 탈퇴해 ‘관심 대상’으로 분류됐다고 한다.\n",
      "Predicted translation: park is a few years ago, which ones kind of a nuclear war in kenya.\n",
      "Input: 박씨는 몇 년 전 국제마피아파를 탈퇴해 ‘관심 대상’으로 분류됐다고 한다.\n",
      "Predicted translation: park is a few years ago, which ones kind of a nuclear war in kenya.\n",
      "Encoder Layer 1\n"
     ]
    },
    {
     "name": "stderr",
     "output_type": "stream",
     "text": [
      "/opt/conda/lib/python3.9/site-packages/matplotlib/backends/backend_agg.py:240: RuntimeWarning: Glyph 9601 missing from current font.\n",
      "  font.set_text(s, 0.0, flags=flags)\n",
      "/opt/conda/lib/python3.9/site-packages/matplotlib/backends/backend_agg.py:203: RuntimeWarning: Glyph 9601 missing from current font.\n",
      "  font.set_text(s, 0, flags=flags)\n"
     ]
    },
    {
     "data": {
      "image/png": "[encoded data removed]",
      "text/plain": [
       "<Figure size 1440x720 with 4 Axes>"
      ]
     },
     "metadata": {
      "image/png": {
       "height": 290,
       "width": 1164
      },
      "needs_background": "light"
     },
     "output_type": "display_data"
    },
    {
     "name": "stdout",
     "output_type": "stream",
     "text": [
      "Encoder Layer 2\n"
     ]
    },
    {
     "data": {
      "image/png": "[encoded data removed]",
      "text/plain": [
       "<Figure size 1440x720 with 4 Axes>"
      ]
     },
     "metadata": {
      "image/png": {
       "height": 290,
       "width": 1164
      },
      "needs_background": "light"
     },
     "output_type": "display_data"
    },
    {
     "name": "stdout",
     "output_type": "stream",
     "text": [
      "Decoder Self Layer 1\n"
     ]
    },
    {
     "data": {
      "image/png": "[encoded data removed]",
      "text/plain": [
       "<Figure size 1440x720 with 4 Axes>"
      ]
     },
     "metadata": {
      "image/png": {
       "height": 298,
       "width": 1171
      },
      "needs_background": "light"
     },
     "output_type": "display_data"
    },
    {
     "name": "stdout",
     "output_type": "stream",
     "text": [
      "Decoder Src Layer 1\n"
     ]
    },
    {
     "data": {
      "image/png": "[encoded data removed]",
      "text/plain": [
       "<Figure size 1440x720 with 4 Axes>"
      ]
     },
     "metadata": {
      "image/png": {
       "height": 239,
       "width": 1171
      },
      "needs_background": "light"
     },
     "output_type": "display_data"
    },
    {
     "name": "stdout",
     "output_type": "stream",
     "text": [
      "Decoder Self Layer 2\n"
     ]
    },
    {
     "data": {
      "image/png": "[encoded data removed]",
      "text/plain": [
       "<Figure size 1440x720 with 4 Axes>"
      ]
     },
     "metadata": {
      "image/png": {
       "height": 298,
       "width": 1171
      },
      "needs_background": "light"
     },
     "output_type": "display_data"
    },
    {
     "name": "stdout",
     "output_type": "stream",
     "text": [
      "Decoder Src Layer 2\n"
     ]
    },
    {
     "data": {
      "image/png": "[encoded data removed]",
      "text/plain": [
       "<Figure size 1440x720 with 4 Axes>"
      ]
     },
     "metadata": {
      "image/png": {
       "height": 239,
       "width": 1171
      },
      "needs_background": "light"
     },
     "output_type": "display_data"
    }
   ],
   "source": [
    "# 학습\n",
    "\n",
    "from tqdm import tqdm_notebook \n",
    "\n",
    "BATCH_SIZE = 64\n",
    "EPOCHS = 15\n",
    "\n",
    "examples = [\n",
    "            \"오바마는 대통령이다.\",\n",
    "            \"시민들은 도시 속에 산다.\",\n",
    "            \"커피는 필요 없다.\",\n",
    "            \"일곱 명의 사망자가 발생했다.\",\n",
    "            \"투표는 시민의 권리이다\",\n",
    "            \"음주는 만성간염, 간경변증, 간암의 대표적인 원인이다.\",\n",
    "            \"친환경 에너지 정책을 펼쳐온 미국 조 바이든 행정부가 올 들어 석탄 사용량을 늘린 것으로 나타났다.\",\n",
    "            \"박씨는 몇 년 전 국제마피아파를 탈퇴해 ‘관심 대상’으로 분류됐다고 한다.\"\n",
    "]\n",
    "\n",
    "for epoch in range(EPOCHS):\n",
    "    total_loss = 0\n",
    "    \n",
    "    idx_list = list(range(0, enc_train.shape[0], BATCH_SIZE))\n",
    "    random.shuffle(idx_list)\n",
    "    t = tqdm(idx_list)\n",
    "\n",
    "    for (batch, idx) in enumerate(t):\n",
    "        batch_loss, enc_attns, dec_attns, dec_enc_attns = \\\n",
    "        train_step(enc_train[idx:idx+BATCH_SIZE],\n",
    "                    dec_train[idx:idx+BATCH_SIZE],\n",
    "                    transformer,\n",
    "                    optimizer)\n",
    "\n",
    "        total_loss += batch_loss\n",
    "        \n",
    "        t.set_description_str('Epoch %2d' % (epoch + 1))\n",
    "        t.set_postfix_str('Loss %.4f' % (total_loss.numpy() / (batch + 1)))\n",
    "\n",
    "    for example in examples:\n",
    "        translate(example, transformer, ko_tokenizer, en_tokenizer)\n",
    "    \n",
    "    if epoch == EPOCHS -1 : translate(example, transformer, ko_tokenizer, en_tokenizer, True)\n",
    "        \n"
   ]
  },
  {
   "cell_type": "markdown",
   "id": "bf87ffe3",
   "metadata": {},
   "source": [
    "# 4. 결과\n",
    "### Translations\n",
    "1. 오바마는 대통령이다. \n",
    "    > Predicted translation: obama is president.\n",
    "2. 시민들은 도시 속에 산다. \n",
    "    > Predicted translation: citizens part of the san corporate\n",
    "3. 커피는 필요 없다. \n",
    "    > Predicted translation: there s no need to be adopted.\n",
    "4. 일곱 명의 사망자가 발생했다. \n",
    "    > Predicted translation: seven people were killed on saturday.\n",
    "5. 투표는 시민의 권리이다. \n",
    "    > Predicted translation: the only voted a rights.\n",
    "6. 음주는 만성간염, 간경변증, 간암의 대표적인 원인이다. \n",
    "    > Predicted translation: the health care consists of million people over the last decade, as most of which is forecast of the way of last frontier guangdong university.\n",
    "7. 친환경 에너지 정책을 펼쳐온 미국 조 바이든 행정부가 올 들어 석탄 사용량을 늘린 것으로 나타났다. \n",
    "    > Predicted translation: instead, the energy efficient talkings now used his administration to remove itself of energy principles, like the goal of a first round of energy.\n",
    "8. 박씨는 몇 년 전 국제마피아파를 탈퇴해 ‘관심 대상’으로 분류됐다고 한다. \n",
    "    > Predicted translation: park had a leading mass posts in the international community, park free former soviet\n",
    "\n",
    "### Hyperparameters\n",
    "- n_layers: 6\n",
    "- d_model: 512\n",
    "- n_heads: 8\n",
    "- d_ff: 2048\n",
    "- dropout: 0.5\n",
    "\n",
    "### Training Parameters\n",
    "- Warmup Steps: 4000\n",
    "- Batch Size: 64\n",
    "- Epoch At: 15"
   ]
  }
 ],
 "metadata": {
  "kernelspec": {
   "display_name": "Python 3 (ipykernel)",
   "language": "python",
   "name": "python3"
  },
  "language_info": {
   "codemirror_mode": {
    "name": "ipython",
    "version": 3
   },
   "file_extension": ".py",
   "mimetype": "text/x-python",
   "name": "python",
   "nbconvert_exporter": "python",
   "pygments_lexer": "ipython3",
   "version": "3.9.7"
  }
 },
 "nbformat": 4,
 "nbformat_minor": 5
}
